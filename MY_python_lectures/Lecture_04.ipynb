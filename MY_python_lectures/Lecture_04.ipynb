{
  "nbformat": 4,
  "nbformat_minor": 0,
  "metadata": {
    "kernelspec": {
      "display_name": "Python 2",
      "language": "python",
      "name": "python2"
    },
    "language_info": {
      "codemirror_mode": {
        "name": "ipython",
        "version": 2
      },
      "file_extension": ".py",
      "mimetype": "text/x-python",
      "name": "python",
      "nbconvert_exporter": "python",
      "pygments_lexer": "ipython2",
      "version": "2.7.10"
    },
    "colab": {
      "name": "04.ipynb",
      "provenance": []
    }
  },
  "cells": [
    {
      "cell_type": "markdown",
      "metadata": {
        "id": "g0zSsyN1HaPw",
        "colab_type": "text"
      },
      "source": [
        "##Strings"
      ]
    },
    {
      "cell_type": "markdown",
      "metadata": {
        "id": "_vdlDJr9HaPy",
        "colab_type": "text"
      },
      "source": [
        "Strings are ordered text based data which are represented by enclosing the same in single/double/triple quotes."
      ]
    },
    {
      "cell_type": "code",
      "metadata": {
        "id": "pzGu4IcjHaP0",
        "colab_type": "code",
        "colab": {}
      },
      "source": [
        "String0 = 'Taj Mahal is beautiful'\n",
        "String1 = \"Taj Mahal is beautiful\"\n",
        "String2 = '''Taj Mahal\n",
        "is\n",
        "beautiful'''"
      ],
      "execution_count": null,
      "outputs": []
    },
    {
      "cell_type": "code",
      "metadata": {
        "id": "0IWyE6k-HaP-",
        "colab_type": "code",
        "colab": {},
        "outputId": "5751e8b6-e4ac-448e-f7ac-8573e21343e8"
      },
      "source": [
        "print String0 , type(String0)\n",
        "print String1, type(String1)\n",
        "print String2, type(String2)"
      ],
      "execution_count": null,
      "outputs": [
        {
          "output_type": "stream",
          "text": [
            "Taj Mahal is beautiful <type 'str'>\n",
            "Taj Mahal is beautiful <type 'str'>\n",
            "Taj Mahal\n",
            "is\n",
            "beautiful <type 'str'>\n"
          ],
          "name": "stdout"
        }
      ]
    },
    {
      "cell_type": "markdown",
      "metadata": {
        "id": "FO6QSD4QHaQI",
        "colab_type": "text"
      },
      "source": [
        "String Indexing and Slicing are similar to Lists which was explained in detail earlier."
      ]
    },
    {
      "cell_type": "code",
      "metadata": {
        "id": "_0hzMbjOHaQJ",
        "colab_type": "code",
        "colab": {},
        "outputId": "3032a230-6ea8-48c6-c5b8-7a786ef0d9b0"
      },
      "source": [
        "print String0[4]\n",
        "print String0[4:]"
      ],
      "execution_count": null,
      "outputs": [
        {
          "output_type": "stream",
          "text": [
            "M\n",
            "Mahal is beautiful\n"
          ],
          "name": "stdout"
        }
      ]
    },
    {
      "cell_type": "markdown",
      "metadata": {
        "id": "EjoZew1XHaQR",
        "colab_type": "text"
      },
      "source": [
        "###Built-in Functions"
      ]
    },
    {
      "cell_type": "markdown",
      "metadata": {
        "id": "LyFl-1_OHaQU",
        "colab_type": "text"
      },
      "source": [
        "**find( )** function returns the index value of the given data that is to found in the string. If it is not found it returns **-1**. Remember to not confuse the returned -1 for reverse indexing value."
      ]
    },
    {
      "cell_type": "code",
      "metadata": {
        "id": "IeOuqyyKHaQW",
        "colab_type": "code",
        "colab": {},
        "outputId": "2f3607e8-9e27-4a5c-f997-d8ee3201f43c"
      },
      "source": [
        "print String0.find('al')\n",
        "print String0.find('am')"
      ],
      "execution_count": null,
      "outputs": [
        {
          "output_type": "stream",
          "text": [
            "7\n",
            "-1\n"
          ],
          "name": "stdout"
        }
      ]
    },
    {
      "cell_type": "markdown",
      "metadata": {
        "id": "S34WAoWJHaQc",
        "colab_type": "text"
      },
      "source": [
        "The index value returned is the index of the first element in the input data."
      ]
    },
    {
      "cell_type": "code",
      "metadata": {
        "id": "B2tDgQZhHaQe",
        "colab_type": "code",
        "colab": {},
        "outputId": "63ee6909-d79c-44c6-a23b-11ddbfea91ab"
      },
      "source": [
        "print String0[7]"
      ],
      "execution_count": null,
      "outputs": [
        {
          "output_type": "stream",
          "text": [
            "a\n"
          ],
          "name": "stdout"
        }
      ]
    },
    {
      "cell_type": "markdown",
      "metadata": {
        "id": "nKjHzv5vHaQm",
        "colab_type": "text"
      },
      "source": [
        "One can also input **find( )** function between which index values it has to search."
      ]
    },
    {
      "cell_type": "code",
      "metadata": {
        "id": "jPiH_SqyHaQn",
        "colab_type": "code",
        "colab": {},
        "outputId": "f6b605fb-f87e-44d7-c968-f76fd0086d28"
      },
      "source": [
        "print String0.find('j',1)\n",
        "print String0.find('j',1,3)"
      ],
      "execution_count": null,
      "outputs": [
        {
          "output_type": "stream",
          "text": [
            "2\n",
            "2\n"
          ],
          "name": "stdout"
        }
      ]
    },
    {
      "cell_type": "markdown",
      "metadata": {
        "id": "k3EcvT2MHaQ1",
        "colab_type": "text"
      },
      "source": [
        "**capitalize( )** is used to capitalize the first element in the string."
      ]
    },
    {
      "cell_type": "code",
      "metadata": {
        "id": "3-8xqKnnHaQ2",
        "colab_type": "code",
        "colab": {},
        "outputId": "63755647-0b94-4bc0-d9b1-b2ae8366f864"
      },
      "source": [
        "String3 = 'observe the first letter in this sentence.'\n",
        "print String3.capitalize()"
      ],
      "execution_count": null,
      "outputs": [
        {
          "output_type": "stream",
          "text": [
            "Observe the first letter in this sentence.\n"
          ],
          "name": "stdout"
        }
      ]
    },
    {
      "cell_type": "markdown",
      "metadata": {
        "id": "l0x7E5GsHaQ8",
        "colab_type": "text"
      },
      "source": [
        "**center( )** is used to center align the string by specifying the field width."
      ]
    },
    {
      "cell_type": "code",
      "metadata": {
        "id": "yB9Kq3sjHaQ-",
        "colab_type": "code",
        "colab": {},
        "outputId": "5176688b-4113-43e8-e54e-78e52f51d50e"
      },
      "source": [
        "String0.center(70)"
      ],
      "execution_count": null,
      "outputs": [
        {
          "output_type": "execute_result",
          "data": {
            "text/plain": [
              "'                        Taj Mahal is beautiful                        '"
            ]
          },
          "metadata": {
            "tags": []
          },
          "execution_count": 8
        }
      ]
    },
    {
      "cell_type": "markdown",
      "metadata": {
        "id": "wofxgeckHaRF",
        "colab_type": "text"
      },
      "source": [
        "One can also fill the left out spaces with any other character."
      ]
    },
    {
      "cell_type": "code",
      "metadata": {
        "id": "vqXwT1jfHaRI",
        "colab_type": "code",
        "colab": {},
        "outputId": "e5f3c69e-d11a-4e7d-c2bd-7ad7ab5b40be"
      },
      "source": [
        "String0.center(70,'-')"
      ],
      "execution_count": null,
      "outputs": [
        {
          "output_type": "execute_result",
          "data": {
            "text/plain": [
              "'------------------------Taj Mahal is beautiful------------------------'"
            ]
          },
          "metadata": {
            "tags": []
          },
          "execution_count": 9
        }
      ]
    },
    {
      "cell_type": "markdown",
      "metadata": {
        "id": "nLcLVxbPHaRP",
        "colab_type": "text"
      },
      "source": [
        "**zfill( )** is used for zero padding by specifying the field width."
      ]
    },
    {
      "cell_type": "code",
      "metadata": {
        "id": "I4HeS5FKHaRS",
        "colab_type": "code",
        "colab": {},
        "outputId": "89866321-28cf-4ab7-c235-f4bc2226499a"
      },
      "source": [
        "String0.zfill(30)"
      ],
      "execution_count": null,
      "outputs": [
        {
          "output_type": "execute_result",
          "data": {
            "text/plain": [
              "'00000000Taj Mahal is beautiful'"
            ]
          },
          "metadata": {
            "tags": []
          },
          "execution_count": 10
        }
      ]
    },
    {
      "cell_type": "markdown",
      "metadata": {
        "id": "EBS55IyXHaRc",
        "colab_type": "text"
      },
      "source": [
        "**expandtabs( )** allows you to change the spacing of the tab character. '\\t' which is by default set to 8 spaces."
      ]
    },
    {
      "cell_type": "code",
      "metadata": {
        "id": "oh1chiaJHaRe",
        "colab_type": "code",
        "colab": {},
        "outputId": "0211741c-8f8c-4948-f1c3-8e3e4a82c371"
      },
      "source": [
        "s = 'h\\te\\tl\\tl\\to'\n",
        "print s\n",
        "print s.expandtabs(1)\n",
        "print s.expandtabs()"
      ],
      "execution_count": null,
      "outputs": [
        {
          "output_type": "stream",
          "text": [
            "h\te\tl\tl\to\n",
            "h e l l o\n",
            "h       e       l       l       o\n"
          ],
          "name": "stdout"
        }
      ]
    },
    {
      "cell_type": "markdown",
      "metadata": {
        "collapsed": true,
        "id": "TxWb5MwzHaRj",
        "colab_type": "text"
      },
      "source": [
        "**index( )** works the same way as **find( )** function the only difference is find returns '-1' when the input element is not found in the string but **index( )** function throws a ValueError"
      ]
    },
    {
      "cell_type": "code",
      "metadata": {
        "id": "gNqSrk7EHaRl",
        "colab_type": "code",
        "colab": {},
        "outputId": "174e6e24-79a5-457e-d453-761a63c48b07"
      },
      "source": [
        "print String0.index('Taj')\n",
        "print String0.index('Mahal',0)\n",
        "print String0.index('Mahal',10,20)"
      ],
      "execution_count": null,
      "outputs": [
        {
          "output_type": "stream",
          "text": [
            "0\n",
            "4\n"
          ],
          "name": "stdout"
        },
        {
          "output_type": "error",
          "ename": "ValueError",
          "evalue": "substring not found",
          "traceback": [
            "\u001b[0;31m---------------------------------------------------------------------------\u001b[0m",
            "\u001b[0;31mValueError\u001b[0m                                Traceback (most recent call last)",
            "\u001b[0;32m<ipython-input-12-6062e7a32deb>\u001b[0m in \u001b[0;36m<module>\u001b[0;34m()\u001b[0m\n\u001b[1;32m      1\u001b[0m \u001b[0;32mprint\u001b[0m \u001b[0mString0\u001b[0m\u001b[0;34m.\u001b[0m\u001b[0mindex\u001b[0m\u001b[0;34m(\u001b[0m\u001b[0;34m'Taj'\u001b[0m\u001b[0;34m)\u001b[0m\u001b[0;34m\u001b[0m\u001b[0m\n\u001b[1;32m      2\u001b[0m \u001b[0;32mprint\u001b[0m \u001b[0mString0\u001b[0m\u001b[0;34m.\u001b[0m\u001b[0mindex\u001b[0m\u001b[0;34m(\u001b[0m\u001b[0;34m'Mahal'\u001b[0m\u001b[0;34m,\u001b[0m\u001b[0;36m0\u001b[0m\u001b[0;34m)\u001b[0m\u001b[0;34m\u001b[0m\u001b[0m\n\u001b[0;32m----> 3\u001b[0;31m \u001b[0;32mprint\u001b[0m \u001b[0mString0\u001b[0m\u001b[0;34m.\u001b[0m\u001b[0mindex\u001b[0m\u001b[0;34m(\u001b[0m\u001b[0;34m'Mahal'\u001b[0m\u001b[0;34m,\u001b[0m\u001b[0;36m10\u001b[0m\u001b[0;34m,\u001b[0m\u001b[0;36m20\u001b[0m\u001b[0;34m)\u001b[0m\u001b[0;34m\u001b[0m\u001b[0m\n\u001b[0m",
            "\u001b[0;31mValueError\u001b[0m: substring not found"
          ]
        }
      ]
    },
    {
      "cell_type": "markdown",
      "metadata": {
        "collapsed": false,
        "id": "CduLdNqoHaRs",
        "colab_type": "text"
      },
      "source": [
        "**endswith( )** function is used to check if the given string ends with the particular char which is given as input."
      ]
    },
    {
      "cell_type": "code",
      "metadata": {
        "id": "N5QWI_VdHaRu",
        "colab_type": "code",
        "colab": {},
        "outputId": "30a51e3d-ef5f-4c38-ee67-2771327f4290"
      },
      "source": [
        "print String0.endswith('y')"
      ],
      "execution_count": null,
      "outputs": [
        {
          "output_type": "stream",
          "text": [
            "False\n"
          ],
          "name": "stdout"
        }
      ]
    },
    {
      "cell_type": "markdown",
      "metadata": {
        "id": "JyT2HIORHaR0",
        "colab_type": "text"
      },
      "source": [
        "The start and stop index values can also be specified."
      ]
    },
    {
      "cell_type": "code",
      "metadata": {
        "id": "J3lQ3tDGHaR1",
        "colab_type": "code",
        "colab": {},
        "outputId": "61bb748f-b789-44e1-ac17-464043e9518b"
      },
      "source": [
        "print String0.endswith('l',0)\n",
        "print String0.endswith('M',0,5)"
      ],
      "execution_count": null,
      "outputs": [
        {
          "output_type": "stream",
          "text": [
            "True\n",
            "True\n"
          ],
          "name": "stdout"
        }
      ]
    },
    {
      "cell_type": "markdown",
      "metadata": {
        "id": "OGNqda2BHaR7",
        "colab_type": "text"
      },
      "source": [
        "**count( )** function counts the number of char in the given string. The start and the stop index can also be specified or left blank. (These are Implicit arguments which will be dealt in functions)"
      ]
    },
    {
      "cell_type": "code",
      "metadata": {
        "id": "5GfbbeeMHaR9",
        "colab_type": "code",
        "colab": {},
        "outputId": "bc23508e-e667-4927-c373-797e1f009557"
      },
      "source": [
        "print String0.count('a',0)\n",
        "print String0.count('a',5,10)"
      ],
      "execution_count": null,
      "outputs": [
        {
          "output_type": "stream",
          "text": [
            "4\n",
            "2\n"
          ],
          "name": "stdout"
        }
      ]
    },
    {
      "cell_type": "markdown",
      "metadata": {
        "collapsed": false,
        "id": "d6hPMDVDHaSE",
        "colab_type": "text"
      },
      "source": [
        "**join( )** function is used add a char in between the elements of the input string."
      ]
    },
    {
      "cell_type": "code",
      "metadata": {
        "id": "4b5dPZ7QHaSF",
        "colab_type": "code",
        "colab": {},
        "outputId": "c017ed0a-e3ff-4cf7-bcca-db3d905bebbd"
      },
      "source": [
        "'a'.join('*_-')"
      ],
      "execution_count": null,
      "outputs": [
        {
          "output_type": "execute_result",
          "data": {
            "text/plain": [
              "'*a_a-'"
            ]
          },
          "metadata": {
            "tags": []
          },
          "execution_count": 16
        }
      ]
    },
    {
      "cell_type": "markdown",
      "metadata": {
        "id": "tIe6-wNIHaSM",
        "colab_type": "text"
      },
      "source": [
        "'*_-' is the input string and char 'a' is added in between each element"
      ]
    },
    {
      "cell_type": "markdown",
      "metadata": {
        "id": "jMWRrxXNHaSN",
        "colab_type": "text"
      },
      "source": [
        "**join( )** function can also be used to convert a list into a string."
      ]
    },
    {
      "cell_type": "code",
      "metadata": {
        "id": "I6cpfnovHaSO",
        "colab_type": "code",
        "colab": {},
        "outputId": "20175691-bbc1-4063-df9f-b92ed1fc1cb9"
      },
      "source": [
        "a = list(String0)\n",
        "print a\n",
        "b = ''.join(a)\n",
        "print b"
      ],
      "execution_count": null,
      "outputs": [
        {
          "output_type": "stream",
          "text": [
            "['T', 'a', 'j', ' ', 'M', 'a', 'h', 'a', 'l', ' ', 'i', 's', ' ', 'b', 'e', 'a', 'u', 't', 'i', 'f', 'u', 'l']\n",
            "Taj Mahal is beautiful\n"
          ],
          "name": "stdout"
        }
      ]
    },
    {
      "cell_type": "markdown",
      "metadata": {
        "id": "VQhqiEtmHaSU",
        "colab_type": "text"
      },
      "source": [
        "Before converting it into a string **join( )** function can be used to insert any char in between the list elements."
      ]
    },
    {
      "cell_type": "code",
      "metadata": {
        "id": "S-828E_hHaSV",
        "colab_type": "code",
        "colab": {},
        "outputId": "56c943e8-a08e-45a4-bdb0-f1519de9248a"
      },
      "source": [
        "c = '/'.join(a)[18:]\n",
        "print c"
      ],
      "execution_count": null,
      "outputs": [
        {
          "output_type": "stream",
          "text": [
            " /i/s/ /b/e/a/u/t/i/f/u/l\n"
          ],
          "name": "stdout"
        }
      ]
    },
    {
      "cell_type": "markdown",
      "metadata": {
        "collapsed": false,
        "id": "RbQSJXN1HaSb",
        "colab_type": "text"
      },
      "source": [
        "**split( )** function is used to convert a string back to a list. Think of it as the opposite of the **join()** function."
      ]
    },
    {
      "cell_type": "code",
      "metadata": {
        "id": "FqXU2aFWHaSc",
        "colab_type": "code",
        "colab": {},
        "outputId": "4c2b3d50-fcb7-4502-c0de-8c105aa543f3"
      },
      "source": [
        "d = c.split('/')\n",
        "print d"
      ],
      "execution_count": null,
      "outputs": [
        {
          "output_type": "stream",
          "text": [
            "[' ', 'i', 's', ' ', 'b', 'e', 'a', 'u', 't', 'i', 'f', 'u', 'l']\n"
          ],
          "name": "stdout"
        }
      ]
    },
    {
      "cell_type": "markdown",
      "metadata": {
        "id": "ImGz9tGpHaSg",
        "colab_type": "text"
      },
      "source": [
        "In **split( )** function one can also specify the number of times you want to split the string or the number of elements the new returned list should conatin. The number of elements is always one more than the specified number this is because it is split the number of times specified."
      ]
    },
    {
      "cell_type": "code",
      "metadata": {
        "id": "p6BylwuFHaSh",
        "colab_type": "code",
        "colab": {},
        "outputId": "3fe3c31c-c4f6-4c22-8c7c-5a4bdb2c1a4a"
      },
      "source": [
        "e = c.split('/',3)\n",
        "print e\n",
        "print len(e)"
      ],
      "execution_count": null,
      "outputs": [
        {
          "output_type": "stream",
          "text": [
            "[' ', 'i', 's', ' /b/e/a/u/t/i/f/u/l']\n",
            "4\n"
          ],
          "name": "stdout"
        }
      ]
    },
    {
      "cell_type": "markdown",
      "metadata": {
        "id": "NwZnTVqEHaSn",
        "colab_type": "text"
      },
      "source": [
        "**lower( )** converts any capital letter to small letter."
      ]
    },
    {
      "cell_type": "code",
      "metadata": {
        "id": "SpCibzqiHaSo",
        "colab_type": "code",
        "colab": {},
        "outputId": "b64ca141-974c-4df4-aab3-bfbbbf195d35"
      },
      "source": [
        "print String0\n",
        "print String0.lower()"
      ],
      "execution_count": null,
      "outputs": [
        {
          "output_type": "stream",
          "text": [
            "Taj Mahal is beautiful\n",
            "taj mahal is beautiful\n"
          ],
          "name": "stdout"
        }
      ]
    },
    {
      "cell_type": "markdown",
      "metadata": {
        "id": "AoABfNzqHaSv",
        "colab_type": "text"
      },
      "source": [
        "**upper( )** converts any small letter to capital letter."
      ]
    },
    {
      "cell_type": "code",
      "metadata": {
        "id": "ngaTPK6vHaSw",
        "colab_type": "code",
        "colab": {},
        "outputId": "6edfb838-78b3-4274-b189-9e60c6ffbd1f"
      },
      "source": [
        "String0.upper()"
      ],
      "execution_count": null,
      "outputs": [
        {
          "output_type": "execute_result",
          "data": {
            "text/plain": [
              "'TAJ MAHAL IS BEAUTIFUL'"
            ]
          },
          "metadata": {
            "tags": []
          },
          "execution_count": 22
        }
      ]
    },
    {
      "cell_type": "markdown",
      "metadata": {
        "id": "aQaQulQSHaS1",
        "colab_type": "text"
      },
      "source": [
        "**replace( )** function replaces the element with another element."
      ]
    },
    {
      "cell_type": "code",
      "metadata": {
        "id": "ig8YCuzZHaS2",
        "colab_type": "code",
        "colab": {},
        "outputId": "7a3f4d78-3cf6-484b-fa0b-2474d51359cc"
      },
      "source": [
        "String0.replace('Taj Mahal','Bengaluru')"
      ],
      "execution_count": null,
      "outputs": [
        {
          "output_type": "execute_result",
          "data": {
            "text/plain": [
              "'Bengaluru is beautiful'"
            ]
          },
          "metadata": {
            "tags": []
          },
          "execution_count": 23
        }
      ]
    },
    {
      "cell_type": "markdown",
      "metadata": {
        "id": "OpdRlfWZHaS9",
        "colab_type": "text"
      },
      "source": [
        "**strip( )** function is used to delete elements from the right end and the left end which is not required."
      ]
    },
    {
      "cell_type": "code",
      "metadata": {
        "id": "I4Ql1KbSHaS-",
        "colab_type": "code",
        "colab": {}
      },
      "source": [
        "f = '    hello      '"
      ],
      "execution_count": null,
      "outputs": []
    },
    {
      "cell_type": "markdown",
      "metadata": {
        "id": "1au_Jz9YHaTD",
        "colab_type": "text"
      },
      "source": [
        "If no char is specified then it will delete all the spaces that is present in the right and left hand side of the data."
      ]
    },
    {
      "cell_type": "code",
      "metadata": {
        "id": "uII5eUrjHaTD",
        "colab_type": "code",
        "colab": {},
        "outputId": "106c4531-b66c-4a6e-bbea-bf06e2a9cae9"
      },
      "source": [
        "f.strip()"
      ],
      "execution_count": null,
      "outputs": [
        {
          "output_type": "execute_result",
          "data": {
            "text/plain": [
              "'hello'"
            ]
          },
          "metadata": {
            "tags": []
          },
          "execution_count": 25
        }
      ]
    },
    {
      "cell_type": "markdown",
      "metadata": {
        "id": "efmXrBm4HaTJ",
        "colab_type": "text"
      },
      "source": [
        "**strip( )** function, when a char is specified then it deletes that char if it is present in the two ends of the specified string."
      ]
    },
    {
      "cell_type": "code",
      "metadata": {
        "id": "25RauLD4HaTL",
        "colab_type": "code",
        "colab": {}
      },
      "source": [
        "f = '   ***----hello---*******     '"
      ],
      "execution_count": null,
      "outputs": []
    },
    {
      "cell_type": "code",
      "metadata": {
        "id": "nlQCtYL9HaTP",
        "colab_type": "code",
        "colab": {},
        "outputId": "a4fbe498-e861-41f1-eb75-a954edac454f"
      },
      "source": [
        "f.strip('*')"
      ],
      "execution_count": null,
      "outputs": [
        {
          "output_type": "execute_result",
          "data": {
            "text/plain": [
              "'   ***----hello---*******     '"
            ]
          },
          "metadata": {
            "tags": []
          },
          "execution_count": 27
        }
      ]
    },
    {
      "cell_type": "markdown",
      "metadata": {
        "id": "RHXvd0bLHaTR",
        "colab_type": "text"
      },
      "source": [
        "The asterisk had to be deleted but is not. This is because there is a space in both the right and left hand side. So in strip function. The characters need to be inputted in the specific order in which they are present."
      ]
    },
    {
      "cell_type": "code",
      "metadata": {
        "id": "kTqOP1K_HaTS",
        "colab_type": "code",
        "colab": {},
        "outputId": "981d90bc-7b18-49a2-9c6b-fe6498e2a9ea"
      },
      "source": [
        "print f.strip(' *')\n",
        "print f.strip(' *-')"
      ],
      "execution_count": null,
      "outputs": [
        {
          "output_type": "stream",
          "text": [
            "----hello---\n",
            "hello\n"
          ],
          "name": "stdout"
        }
      ]
    },
    {
      "cell_type": "markdown",
      "metadata": {
        "collapsed": false,
        "id": "XbXqTAUfHaTW",
        "colab_type": "text"
      },
      "source": [
        "**lstrip( )** and **rstrip( )** function have the same functionality as strip function but the only difference is **lstrip( )** deletes only towards the left side and **rstrip( )** towards the right."
      ]
    },
    {
      "cell_type": "code",
      "metadata": {
        "id": "-zB30NpBHaTX",
        "colab_type": "code",
        "colab": {},
        "outputId": "fd02e9f7-8756-47d3-8e58-ab2365fc04bc"
      },
      "source": [
        "print f.lstrip(' *')\n",
        "print f.rstrip(' *')"
      ],
      "execution_count": null,
      "outputs": [
        {
          "output_type": "stream",
          "text": [
            "----hello---*******     \n",
            "   ***----hello---\n"
          ],
          "name": "stdout"
        }
      ]
    },
    {
      "cell_type": "markdown",
      "metadata": {
        "id": "CfTquTyfHaTc",
        "colab_type": "text"
      },
      "source": [
        "##Dictionaries"
      ]
    },
    {
      "cell_type": "markdown",
      "metadata": {
        "id": "GS7kPdHFHaTd",
        "colab_type": "text"
      },
      "source": [
        "Dictionaries are more used like a database because here you can index a particular sequence with your user defined string."
      ]
    },
    {
      "cell_type": "markdown",
      "metadata": {
        "id": "lpDd-4VoHaTe",
        "colab_type": "text"
      },
      "source": [
        "To define a dictionary, equate a variable to { } or dict()"
      ]
    },
    {
      "cell_type": "code",
      "metadata": {
        "id": "NC_i5ZZCHaTe",
        "colab_type": "code",
        "colab": {},
        "outputId": "f12b480c-d6d5-4fd6-f66e-1c32e1d2dee7"
      },
      "source": [
        "d0 = {}\n",
        "d1 = dict()\n",
        "print type(d0), type(d1)"
      ],
      "execution_count": null,
      "outputs": [
        {
          "output_type": "stream",
          "text": [
            "<type 'dict'> <type 'dict'>\n"
          ],
          "name": "stdout"
        }
      ]
    },
    {
      "cell_type": "markdown",
      "metadata": {
        "id": "Anky8fhHHaTi",
        "colab_type": "text"
      },
      "source": [
        "Dictionary works somewhat like a list but with an added capability of assigning it's own index style."
      ]
    },
    {
      "cell_type": "code",
      "metadata": {
        "id": "3vb3kKiEHaTi",
        "colab_type": "code",
        "colab": {},
        "outputId": "e7998482-6398-4a2c-ebd3-e266e5c8b7d2"
      },
      "source": [
        "d0['One'] = 1\n",
        "d0['OneTwo'] = 12 \n",
        "print d0"
      ],
      "execution_count": null,
      "outputs": [
        {
          "output_type": "stream",
          "text": [
            "{'OneTwo': 12, 'One': 1}\n"
          ],
          "name": "stdout"
        }
      ]
    },
    {
      "cell_type": "markdown",
      "metadata": {
        "id": "gDXcIE4lHaTn",
        "colab_type": "text"
      },
      "source": [
        "That is how a dictionary looks like. Now you are able to access '1' by the index value set at 'One'"
      ]
    },
    {
      "cell_type": "code",
      "metadata": {
        "id": "PA3V7FF1HaTo",
        "colab_type": "code",
        "colab": {},
        "outputId": "a71586d3-054b-4e7c-f349-cc101f12f073"
      },
      "source": [
        "print d0['One']"
      ],
      "execution_count": null,
      "outputs": [
        {
          "output_type": "stream",
          "text": [
            "1\n"
          ],
          "name": "stdout"
        }
      ]
    },
    {
      "cell_type": "markdown",
      "metadata": {
        "id": "mPRPjU7DHaTs",
        "colab_type": "text"
      },
      "source": [
        "Two lists which are related can be merged to form a dictionary."
      ]
    },
    {
      "cell_type": "code",
      "metadata": {
        "id": "8k7aaPfJHaTt",
        "colab_type": "code",
        "colab": {}
      },
      "source": [
        "names = ['One', 'Two', 'Three', 'Four', 'Five']\n",
        "numbers = [1, 2, 3, 4, 5]"
      ],
      "execution_count": null,
      "outputs": []
    },
    {
      "cell_type": "markdown",
      "metadata": {
        "id": "QnYbDfEyHaTx",
        "colab_type": "text"
      },
      "source": [
        "**zip( )** function is used to combine two lists"
      ]
    },
    {
      "cell_type": "code",
      "metadata": {
        "id": "rJtzk2CQHaTz",
        "colab_type": "code",
        "colab": {},
        "outputId": "17008b46-b679-4709-fd4e-804147d66711"
      },
      "source": [
        "d2 = zip(names,numbers)\n",
        "print d2"
      ],
      "execution_count": null,
      "outputs": [
        {
          "output_type": "stream",
          "text": [
            "[('One', 1), ('Two', 2), ('Three', 3), ('Four', 4), ('Five', 5)]\n"
          ],
          "name": "stdout"
        }
      ]
    },
    {
      "cell_type": "markdown",
      "metadata": {
        "collapsed": false,
        "id": "8zs2hyKZHaT5",
        "colab_type": "text"
      },
      "source": [
        "The two lists are combined to form a single list and each elements are clubbed with their respective elements from the other list inside a tuple. Tuples because that is what is assigned and the value should not change.\n",
        "\n",
        "Further, To convert the above into a dictionary. **dict( )** function is used."
      ]
    },
    {
      "cell_type": "code",
      "metadata": {
        "id": "OTD_b909HaT7",
        "colab_type": "code",
        "colab": {},
        "outputId": "97150031-92e0-4a0b-d77b-767f86db1414"
      },
      "source": [
        "a1 = dict(d2)\n",
        "print a1"
      ],
      "execution_count": null,
      "outputs": [
        {
          "output_type": "stream",
          "text": [
            "{'Four': 4, 'Five': 5, 'Three': 3, 'Two': 2, 'One': 1}\n"
          ],
          "name": "stdout"
        }
      ]
    },
    {
      "cell_type": "markdown",
      "metadata": {
        "id": "0_v6msZ9HaUA",
        "colab_type": "text"
      },
      "source": [
        "###Built-in Functions"
      ]
    },
    {
      "cell_type": "markdown",
      "metadata": {
        "id": "MBgxyGfLHaUA",
        "colab_type": "text"
      },
      "source": [
        "**clear( )** function is used to erase the entire database that was created."
      ]
    },
    {
      "cell_type": "code",
      "metadata": {
        "id": "zs4kzUAhHaUC",
        "colab_type": "code",
        "colab": {},
        "outputId": "1d7f1f63-ecea-479d-93ca-462bde2032a5"
      },
      "source": [
        "a1.clear()\n",
        "print a1"
      ],
      "execution_count": null,
      "outputs": [
        {
          "output_type": "stream",
          "text": [
            "{}\n"
          ],
          "name": "stdout"
        }
      ]
    },
    {
      "cell_type": "markdown",
      "metadata": {
        "id": "32NKSX0AHaUH",
        "colab_type": "text"
      },
      "source": [
        "Dictionary can also be built using loops."
      ]
    },
    {
      "cell_type": "code",
      "metadata": {
        "id": "a___E8mbHaUI",
        "colab_type": "code",
        "colab": {},
        "outputId": "5fd8d721-f48e-47ba-e23a-73e35f8b4db7"
      },
      "source": [
        "for i in range(len(names)):\n",
        "    a1[names[i]] = numbers[i]\n",
        "print a1"
      ],
      "execution_count": null,
      "outputs": [
        {
          "output_type": "stream",
          "text": [
            "{'Four': 4, 'Five': 5, 'Three': 3, 'Two': 2, 'One': 1}\n"
          ],
          "name": "stdout"
        }
      ]
    },
    {
      "cell_type": "markdown",
      "metadata": {
        "id": "-5mgVE3rHaUN",
        "colab_type": "text"
      },
      "source": [
        "**values( )** function returns a list with all the assigned values in the dictionary."
      ]
    },
    {
      "cell_type": "code",
      "metadata": {
        "id": "Ks9ABH1qHaUO",
        "colab_type": "code",
        "colab": {},
        "outputId": "4d1e5f80-f14e-40b5-db3b-235314e562b8"
      },
      "source": [
        "a1.values()"
      ],
      "execution_count": null,
      "outputs": [
        {
          "output_type": "execute_result",
          "data": {
            "text/plain": [
              "[4, 5, 3, 2, 1]"
            ]
          },
          "metadata": {
            "tags": []
          },
          "execution_count": 38
        }
      ]
    },
    {
      "cell_type": "markdown",
      "metadata": {
        "id": "yKcGAoy6HaUU",
        "colab_type": "text"
      },
      "source": [
        "**keys( )** function returns all the index or the keys to which contains the values that it was assigned to."
      ]
    },
    {
      "cell_type": "code",
      "metadata": {
        "id": "n0WZSgtJHaUU",
        "colab_type": "code",
        "colab": {},
        "outputId": "75dd31c0-4489-4b41-c7e1-91b9f581610c"
      },
      "source": [
        "a1.keys()"
      ],
      "execution_count": null,
      "outputs": [
        {
          "output_type": "execute_result",
          "data": {
            "text/plain": [
              "['Four', 'Five', 'Three', 'Two', 'One']"
            ]
          },
          "metadata": {
            "tags": []
          },
          "execution_count": 39
        }
      ]
    },
    {
      "cell_type": "markdown",
      "metadata": {
        "id": "4_0rnRJmHaUZ",
        "colab_type": "text"
      },
      "source": [
        "**items( )** is returns a list containing both the list but each element in the dictionary is inside a tuple. This is same as the result that was obtained when zip function was used."
      ]
    },
    {
      "cell_type": "code",
      "metadata": {
        "id": "zsLyhti0HaUa",
        "colab_type": "code",
        "colab": {},
        "outputId": "47be0c76-df70-4950-e29d-f9ab124ea51c"
      },
      "source": [
        "a1.items()"
      ],
      "execution_count": null,
      "outputs": [
        {
          "output_type": "execute_result",
          "data": {
            "text/plain": [
              "[('Four', 4), ('Five', 5), ('Three', 3), ('Two', 2), ('One', 1)]"
            ]
          },
          "metadata": {
            "tags": []
          },
          "execution_count": 40
        }
      ]
    },
    {
      "cell_type": "markdown",
      "metadata": {
        "id": "2jyzuUkWHaUe",
        "colab_type": "text"
      },
      "source": [
        "**pop( )** function is used to get the remove that particular element and this removed element can be assigned to a new variable. But remember only the value is stored and not the key. Because the is just a index value."
      ]
    },
    {
      "cell_type": "code",
      "metadata": {
        "id": "vX0ZX9d_HaUf",
        "colab_type": "code",
        "colab": {},
        "outputId": "cc3a8bdf-fb6c-4007-fc75-3faebcce5268"
      },
      "source": [
        "a2 = a1.pop('Four')\n",
        "print a1\n",
        "print a2"
      ],
      "execution_count": null,
      "outputs": [
        {
          "output_type": "stream",
          "text": [
            "{'Five': 5, 'Three': 3, 'Two': 2, 'One': 1}\n",
            "4\n"
          ],
          "name": "stdout"
        }
      ]
    }
  ]
}