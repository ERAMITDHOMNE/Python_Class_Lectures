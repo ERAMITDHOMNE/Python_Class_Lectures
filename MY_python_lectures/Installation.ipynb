{
  "nbformat": 4,
  "nbformat_minor": 0,
  "metadata": {
    "kernelspec": {
      "display_name": "Python 2",
      "language": "python",
      "name": "python2"
    },
    "language_info": {
      "codemirror_mode": {
        "name": "ipython",
        "version": 2
      },
      "file_extension": ".py",
      "mimetype": "text/x-python",
      "name": "python",
      "nbconvert_exporter": "python",
      "pygments_lexer": "ipython2",
      "version": "2.7.10"
    },
    "colab": {
      "name": "00.ipynb",
      "provenance": []
    }
  },
  "cells": [
    {
      "cell_type": "markdown",
      "metadata": {
        "id": "eee9XvJfGWVD",
        "colab_type": "text"
      },
      "source": [
        "#Python-Lectures"
      ]
    },
    {
      "cell_type": "markdown",
      "metadata": {
        "id": "bRNe9QOXGWVE",
        "colab_type": "text"
      },
      "source": [
        "##Introduction"
      ]
    },
    {
      "cell_type": "markdown",
      "metadata": {
        "id": "e5HtwtlQGWVF",
        "colab_type": "text"
      },
      "source": [
        "Python is a modern, robust, high level programming language. It is very easy to pick up even if you are completely new to programming."
      ]
    },
    {
      "cell_type": "markdown",
      "metadata": {
        "id": "OdHXa9lLGWVG",
        "colab_type": "text"
      },
      "source": [
        "##Installation"
      ]
    },
    {
      "cell_type": "markdown",
      "metadata": {
        "id": "ijlvVjcuGWVH",
        "colab_type": "text"
      },
      "source": [
        "Mac OS X and Linux comes pre installed with python. Windows users can download python from https://www.python.org/downloads/ .\n",
        "\n",
        "To install IPython run,\n",
        "\n",
        "    $ pip install ipython[all]\n",
        "    \n",
        "This will install all the necessary dependencies for the notebook, qtconsole, tests etc."
      ]
    },
    {
      "cell_type": "markdown",
      "metadata": {
        "id": "QF6WJG-YGWVI",
        "colab_type": "text"
      },
      "source": [
        "###Installation from unofficial distributions"
      ]
    },
    {
      "cell_type": "markdown",
      "metadata": {
        "id": "jubdnyoNGWVJ",
        "colab_type": "text"
      },
      "source": [
        "Installing all the necessary libraries might prove troublesome. Anaconda and Canopy comes pre packaged with all the necessary python libraries and also IPython."
      ]
    },
    {
      "cell_type": "markdown",
      "metadata": {
        "id": "3fHLQ9DcGWVJ",
        "colab_type": "text"
      },
      "source": [
        "####Anaconda"
      ]
    },
    {
      "cell_type": "markdown",
      "metadata": {
        "id": "3auw0FbUGWVK",
        "colab_type": "text"
      },
      "source": [
        "Download Anaconda from https://www.continuum.io/downloads\n",
        "\n",
        "Anaconda is completely free and includes more than 300 python packages. Both python 2.7 and 3.4 options are available."
      ]
    },
    {
      "cell_type": "markdown",
      "metadata": {
        "id": "Oan1M9fLGWVL",
        "colab_type": "text"
      },
      "source": [
        "####Canopy"
      ]
    },
    {
      "cell_type": "markdown",
      "metadata": {
        "id": "auEh1brGGWVL",
        "colab_type": "text"
      },
      "source": [
        "Download Canopy from https://store.enthought.com/downloads/#default\n",
        "\n",
        "Canopy has a premium version which offers 300+ python packages. But the free version works just fine. Canopy as of now supports only 2.7 but it comes with its own text editor and IPython environment."
      ]
    },
    {
      "cell_type": "markdown",
      "metadata": {
        "id": "i5F9vo0mGWVM",
        "colab_type": "text"
      },
      "source": [
        "##Launching IPython Notebook"
      ]
    },
    {
      "cell_type": "markdown",
      "metadata": {
        "id": "hJqHHdpzGWVN",
        "colab_type": "text"
      },
      "source": [
        "From the terminal\n",
        "\n",
        "    ipython notebook\n",
        "\n",
        "In Canopy and Anaconda, Open the respective terminals and execute the above."
      ]
    },
    {
      "cell_type": "markdown",
      "metadata": {
        "id": "H_TzrlcbGWVN",
        "colab_type": "text"
      },
      "source": [
        "##How to learn from this resource?"
      ]
    },
    {
      "cell_type": "markdown",
      "metadata": {
        "id": "bliaeEsIGWVO",
        "colab_type": "text"
      },
      "source": [
        "Download all the ipython notebooks from this repository https://github.com/rajathkumarmp/Python-Lectures\n",
        "\n",
        "Launch ipython notebook from the folder which contains the notebooks. Open each one of them\n",
        "\n",
        "    Cell > All Output > Clear\n",
        "    \n",
        "This will clear all the outputs and now you can understand each statement and learn interactively."
      ]
    },
    {
      "cell_type": "markdown",
      "metadata": {
        "id": "5C-Pq_u8GWVP",
        "colab_type": "text"
      },
      "source": [
        "##License"
      ]
    },
    {
      "cell_type": "markdown",
      "metadata": {
        "id": "DmGrZFdBGWVP",
        "colab_type": "text"
      },
      "source": [
        "This work is licensed under the Creative Commons Attribution 3.0 Unported License. To view a copy of this license, visit http://creativecommons.org/licenses/by/3.0/"
      ]
    }
  ]
}