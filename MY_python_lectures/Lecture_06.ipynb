{
  "nbformat": 4,
  "nbformat_minor": 0,
  "metadata": {
    "kernelspec": {
      "display_name": "Python 2",
      "language": "python",
      "name": "python2"
    },
    "language_info": {
      "codemirror_mode": {
        "name": "ipython",
        "version": 2
      },
      "file_extension": ".py",
      "mimetype": "text/x-python",
      "name": "python",
      "nbconvert_exporter": "python",
      "pygments_lexer": "ipython2",
      "version": "2.7.10"
    },
    "colab": {
      "name": "06.ipynb",
      "provenance": []
    }
  },
  "cells": [
    {
      "cell_type": "markdown",
      "metadata": {
        "id": "_NIGeI9qHyEL",
        "colab_type": "text"
      },
      "source": [
        "#Functions"
      ]
    },
    {
      "cell_type": "markdown",
      "metadata": {
        "id": "d_BqVkjtHyEM",
        "colab_type": "text"
      },
      "source": [
        "Most of the times, In a algorithm the statements keep repeating and it will be a tedious job to execute the same statements again and again and will consume a lot of memory and is not efficient. Enter Functions."
      ]
    },
    {
      "cell_type": "markdown",
      "metadata": {
        "id": "qQAEBbQVHyEO",
        "colab_type": "text"
      },
      "source": [
        "This is the basic syntax of a function"
      ]
    },
    {
      "cell_type": "markdown",
      "metadata": {
        "id": "qASntT4AHyEP",
        "colab_type": "text"
      },
      "source": [
        "def funcname(arg1, arg2,... argN):\n",
        "    \n",
        "    ''' Document String'''\n",
        "\n",
        "    statements\n",
        "\n",
        "\n",
        "    return <value>"
      ]
    },
    {
      "cell_type": "markdown",
      "metadata": {
        "id": "PlXd5pPhHyEQ",
        "colab_type": "text"
      },
      "source": [
        "Read the above syntax as, A function by name \"funcname\" is defined, which accepts arguements \"arg1,arg2,....argN\". The function is documented and it is '''Document String'''. The function after executing the statements returns a \"value\"."
      ]
    },
    {
      "cell_type": "code",
      "metadata": {
        "id": "hhFfnbqlHyES",
        "colab_type": "code",
        "colab": {},
        "outputId": "628fecf7-8e82-4688-8bb5-1f52a1f92040"
      },
      "source": [
        "print \"Hey Rajath!\"\n",
        "print \"Rajath, How do you do?\""
      ],
      "execution_count": null,
      "outputs": [
        {
          "output_type": "stream",
          "text": [
            "Hey Rajath!\n",
            "Rajath, How do you do?\n"
          ],
          "name": "stdout"
        }
      ]
    },
    {
      "cell_type": "markdown",
      "metadata": {
        "id": "VfvgUtrkHyEc",
        "colab_type": "text"
      },
      "source": [
        "Instead of writing the above two statements every single time it can be replaced by defining a function which would do the job in just one line. \n",
        "\n",
        "Defining a function firstfunc()."
      ]
    },
    {
      "cell_type": "code",
      "metadata": {
        "id": "F9Mn6C9uHyEd",
        "colab_type": "code",
        "colab": {}
      },
      "source": [
        "def firstfunc():\n",
        "    print \"Hey Rajath!\"\n",
        "    print \"Rajath, How do you do?\"   "
      ],
      "execution_count": null,
      "outputs": []
    },
    {
      "cell_type": "code",
      "metadata": {
        "id": "UWOfEEb7HyEl",
        "colab_type": "code",
        "colab": {},
        "outputId": "c2593e50-28ef-46d5-9988-1fa301e18ad6"
      },
      "source": [
        "firstfunc()"
      ],
      "execution_count": null,
      "outputs": [
        {
          "output_type": "stream",
          "text": [
            "Hey Rajath!\n",
            "Rajath, How do you do?\n"
          ],
          "name": "stdout"
        }
      ]
    },
    {
      "cell_type": "markdown",
      "metadata": {
        "id": "aJyg2pZ_HyEs",
        "colab_type": "text"
      },
      "source": [
        "**firstfunc()** every time just prints the message to a single person. We can make our function **firstfunc()** to accept arguements which will store the name and then prints respective to that accepted name. To do so, add a argument within the function as shown."
      ]
    },
    {
      "cell_type": "code",
      "metadata": {
        "id": "G6Nj4ohZHyEt",
        "colab_type": "code",
        "colab": {}
      },
      "source": [
        "def firstfunc(username):\n",
        "    print \"Hey\", username + '!'\n",
        "    print username + ',' ,\"How do you do?\""
      ],
      "execution_count": null,
      "outputs": []
    },
    {
      "cell_type": "code",
      "metadata": {
        "id": "zeP_a24RHyE-",
        "colab_type": "code",
        "colab": {},
        "outputId": "98269404-9f34-4037-b8b5-e6cdc7bc0377"
      },
      "source": [
        "name1 = raw_input('Please enter your name : ')"
      ],
      "execution_count": null,
      "outputs": [
        {
          "output_type": "stream",
          "text": [
            "Please enter your name : Guido\n"
          ],
          "name": "stdout"
        }
      ]
    },
    {
      "cell_type": "markdown",
      "metadata": {
        "id": "DVNWYJyaHyFI",
        "colab_type": "text"
      },
      "source": [
        "The name \"Guido\" is actually stored in name1. So we pass this variable to the function **firstfunc()** as the variable username because that is the variable that is defined for this function. i.e name1 is passed as username."
      ]
    },
    {
      "cell_type": "code",
      "metadata": {
        "id": "3RyU_8IcHyFK",
        "colab_type": "code",
        "colab": {},
        "outputId": "b16eba9e-4d39-4d29-9e77-d2b1e9dc1c77"
      },
      "source": [
        "firstfunc(name1)"
      ],
      "execution_count": null,
      "outputs": [
        {
          "output_type": "stream",
          "text": [
            "Hey Guido!\n",
            "Guido, How do you do?\n"
          ],
          "name": "stdout"
        }
      ]
    },
    {
      "cell_type": "markdown",
      "metadata": {
        "id": "18tAUiDkHyFQ",
        "colab_type": "text"
      },
      "source": [
        "Let us simplify this even further by defining another function **secondfunc()** which accepts the name and stores it inside a variable and then calls the **firstfunc()** from inside the function itself."
      ]
    },
    {
      "cell_type": "code",
      "metadata": {
        "id": "zn_u6fqxHyFS",
        "colab_type": "code",
        "colab": {}
      },
      "source": [
        "def firstfunc(username):\n",
        "    print \"Hey\", username + '!'\n",
        "    print username + ',' ,\"How do you do?\"\n",
        "def secondfunc():\n",
        "    name = raw_input(\"Please enter your name : \")\n",
        "    firstfunc(name)"
      ],
      "execution_count": null,
      "outputs": []
    },
    {
      "cell_type": "code",
      "metadata": {
        "id": "1svUTDIvHyFY",
        "colab_type": "code",
        "colab": {},
        "outputId": "7a40ceca-e102-4b1b-8d75-67172bba9974"
      },
      "source": [
        "secondfunc()"
      ],
      "execution_count": null,
      "outputs": [
        {
          "output_type": "stream",
          "text": [
            "Please enter your name : karthik\n",
            "Hey karthik!\n",
            "karthik, How do you do?\n"
          ],
          "name": "stdout"
        }
      ]
    },
    {
      "cell_type": "markdown",
      "metadata": {
        "id": "0hwYyRGvHyFe",
        "colab_type": "text"
      },
      "source": [
        "##Return Statement"
      ]
    },
    {
      "cell_type": "markdown",
      "metadata": {
        "id": "_i8Zbx0yHyFg",
        "colab_type": "text"
      },
      "source": [
        "When the function results in some value and that value has to be stored in a variable or needs to be sent back or returned for further operation to the main algorithm, return statement is used."
      ]
    },
    {
      "cell_type": "code",
      "metadata": {
        "id": "MJHt3kuFHyFh",
        "colab_type": "code",
        "colab": {}
      },
      "source": [
        "def times(x,y):\n",
        "    z = x*y\n",
        "    return z"
      ],
      "execution_count": null,
      "outputs": []
    },
    {
      "cell_type": "markdown",
      "metadata": {
        "id": "5xs4lhQAHyFn",
        "colab_type": "text"
      },
      "source": [
        "The above defined **times( )** function accepts two arguements and return the variable z which contains the result of the product of the two arguements"
      ]
    },
    {
      "cell_type": "code",
      "metadata": {
        "id": "Ij-skWuvHyFo",
        "colab_type": "code",
        "colab": {},
        "outputId": "07161494-183f-4cd4-f422-3ba0049bfaaf"
      },
      "source": [
        "c = times(4,5)\n",
        "print c"
      ],
      "execution_count": null,
      "outputs": [
        {
          "output_type": "stream",
          "text": [
            "20\n"
          ],
          "name": "stdout"
        }
      ]
    },
    {
      "cell_type": "markdown",
      "metadata": {
        "id": "I06jtNFnHyFu",
        "colab_type": "text"
      },
      "source": [
        "The z value is stored in variable c and can be used for further operations."
      ]
    },
    {
      "cell_type": "markdown",
      "metadata": {
        "id": "4pueAq0WHyFv",
        "colab_type": "text"
      },
      "source": [
        "Instead of declaring another variable the entire statement itself can be used in the return statement as shown."
      ]
    },
    {
      "cell_type": "code",
      "metadata": {
        "id": "TM9tfL9oHyFw",
        "colab_type": "code",
        "colab": {}
      },
      "source": [
        "def times(x,y):\n",
        "    '''This multiplies the two input arguments'''\n",
        "    return x*y"
      ],
      "execution_count": null,
      "outputs": []
    },
    {
      "cell_type": "code",
      "metadata": {
        "id": "worlJJJ7HyF2",
        "colab_type": "code",
        "colab": {},
        "outputId": "ee7119b0-f392-43a3-d382-f1ed284eb0d2"
      },
      "source": [
        "c = times(4,5)\n",
        "print c"
      ],
      "execution_count": null,
      "outputs": [
        {
          "output_type": "stream",
          "text": [
            "20\n"
          ],
          "name": "stdout"
        }
      ]
    },
    {
      "cell_type": "markdown",
      "metadata": {
        "id": "bX4M26byHyF8",
        "colab_type": "text"
      },
      "source": [
        "Since the **times( )** is now defined, we can document it as shown above. This document is returned whenever **times( )** function is called under **help( )** function."
      ]
    },
    {
      "cell_type": "code",
      "metadata": {
        "id": "00dzOJS9HyF-",
        "colab_type": "code",
        "colab": {},
        "outputId": "6d850ffe-e133-4eb6-b5d6-1f670bf5be7f"
      },
      "source": [
        "help(times)"
      ],
      "execution_count": null,
      "outputs": [
        {
          "output_type": "stream",
          "text": [
            "Help on function times in module __main__:\n",
            "\n",
            "times(x, y)\n",
            "    This multiplies the two input arguments\n",
            "\n"
          ],
          "name": "stdout"
        }
      ]
    },
    {
      "cell_type": "markdown",
      "metadata": {
        "id": "sdX6GD0FHyGE",
        "colab_type": "text"
      },
      "source": [
        "Multiple variable can also be returned, But keep in mind the order."
      ]
    },
    {
      "cell_type": "code",
      "metadata": {
        "id": "j-BYIS2CHyGF",
        "colab_type": "code",
        "colab": {}
      },
      "source": [
        "eglist = [10,50,30,12,6,8,100]"
      ],
      "execution_count": null,
      "outputs": []
    },
    {
      "cell_type": "code",
      "metadata": {
        "id": "lkEHOdcUHyGM",
        "colab_type": "code",
        "colab": {}
      },
      "source": [
        "def egfunc(eglist):\n",
        "    highest = max(eglist)\n",
        "    lowest = min(eglist)\n",
        "    first = eglist[0]\n",
        "    last = eglist[-1]\n",
        "    return highest,lowest,first,last"
      ],
      "execution_count": null,
      "outputs": []
    },
    {
      "cell_type": "markdown",
      "metadata": {
        "id": "ReEAHO1OHyGT",
        "colab_type": "text"
      },
      "source": [
        "If the function is just called without any variable for it to be assigned to, the result is returned inside a tuple. But if the variables are mentioned then the result is assigned to the variable in a particular order which is declared in the return statement."
      ]
    },
    {
      "cell_type": "code",
      "metadata": {
        "id": "2HLE5eBUHyGU",
        "colab_type": "code",
        "colab": {},
        "outputId": "7343daec-fe4f-4cae-e4e3-07e8330320f6"
      },
      "source": [
        "egfunc(eglist)"
      ],
      "execution_count": null,
      "outputs": [
        {
          "output_type": "execute_result",
          "data": {
            "text/plain": [
              "(100, 6, 10, 100)"
            ]
          },
          "metadata": {
            "tags": []
          },
          "execution_count": 16
        }
      ]
    },
    {
      "cell_type": "code",
      "metadata": {
        "id": "kYf8EZiqHyGZ",
        "colab_type": "code",
        "colab": {},
        "outputId": "99b3e234-267b-4d85-8617-c93fa176badd"
      },
      "source": [
        "a,b,c,d = egfunc(eglist)\n",
        "print ' a =',a,'\\n b =',b,'\\n c =',c,'\\n d =',d"
      ],
      "execution_count": null,
      "outputs": [
        {
          "output_type": "stream",
          "text": [
            " a = 100 \n",
            " b = 6 \n",
            " c = 10 \n",
            " d = 100\n"
          ],
          "name": "stdout"
        }
      ]
    },
    {
      "cell_type": "markdown",
      "metadata": {
        "id": "QapBc-P8HyGf",
        "colab_type": "text"
      },
      "source": [
        "##Implicit arguments"
      ]
    },
    {
      "cell_type": "markdown",
      "metadata": {
        "id": "CdVNISLJHyGg",
        "colab_type": "text"
      },
      "source": [
        "When an argument of a function is common in majority of the cases or it is \"implicit\" this concept is used."
      ]
    },
    {
      "cell_type": "code",
      "metadata": {
        "collapsed": true,
        "id": "79LeMWbFHyGh",
        "colab_type": "code",
        "colab": {}
      },
      "source": [
        "def implicitadd(x,y=3):\n",
        "    return x+y"
      ],
      "execution_count": null,
      "outputs": []
    },
    {
      "cell_type": "markdown",
      "metadata": {
        "id": "HSQyY9raHyGm",
        "colab_type": "text"
      },
      "source": [
        "**implicitadd( )** is a function accepts two arguments but most of the times the first argument needs to be added just by 3. Hence the second argument is assigned the value 3. Here the second argument is implicit."
      ]
    },
    {
      "cell_type": "markdown",
      "metadata": {
        "id": "hrbvA0bNHyGn",
        "colab_type": "text"
      },
      "source": [
        "Now if the second argument is not defined when calling the **implicitadd( )** function then it considered as 3."
      ]
    },
    {
      "cell_type": "code",
      "metadata": {
        "id": "L4GNTBtDHyGs",
        "colab_type": "code",
        "colab": {},
        "outputId": "29835aeb-b450-4fff-bbd3-a58fcb09e1e4"
      },
      "source": [
        "implicitadd(4)"
      ],
      "execution_count": null,
      "outputs": [
        {
          "output_type": "execute_result",
          "data": {
            "text/plain": [
              "7"
            ]
          },
          "metadata": {
            "tags": []
          },
          "execution_count": 19
        }
      ]
    },
    {
      "cell_type": "markdown",
      "metadata": {
        "id": "Oo9lXfzFHyGy",
        "colab_type": "text"
      },
      "source": [
        "But if the second argument is specified then this value overrides the implicit value assigned to the argument "
      ]
    },
    {
      "cell_type": "code",
      "metadata": {
        "id": "G9t6gS2jHyGz",
        "colab_type": "code",
        "colab": {},
        "outputId": "aa63f483-fc9e-4212-cf45-8626714be71f"
      },
      "source": [
        "implicitadd(4,4)"
      ],
      "execution_count": null,
      "outputs": [
        {
          "output_type": "execute_result",
          "data": {
            "text/plain": [
              "8"
            ]
          },
          "metadata": {
            "tags": []
          },
          "execution_count": 20
        }
      ]
    },
    {
      "cell_type": "markdown",
      "metadata": {
        "id": "xsXMyZJRHyG6",
        "colab_type": "text"
      },
      "source": [
        "##Any number of arguments"
      ]
    },
    {
      "cell_type": "markdown",
      "metadata": {
        "id": "kkgeI8BeHyG7",
        "colab_type": "text"
      },
      "source": [
        "If the number of arguments that is to be accepted by a function is not known then a asterisk symbol is used before the argument."
      ]
    },
    {
      "cell_type": "code",
      "metadata": {
        "id": "f_RTq73zHyG8",
        "colab_type": "code",
        "colab": {}
      },
      "source": [
        "def add_n(*args):\n",
        "    res = 0\n",
        "    reslist = []\n",
        "    for i in args:\n",
        "        reslist.append(i)\n",
        "    print reslist\n",
        "    return sum(reslist)"
      ],
      "execution_count": null,
      "outputs": []
    },
    {
      "cell_type": "markdown",
      "metadata": {
        "id": "BBXUQHOqHyHC",
        "colab_type": "text"
      },
      "source": [
        "The above function accepts any number of arguments, defines a list and appends all the arguments into that list and return the sum of all the arguments."
      ]
    },
    {
      "cell_type": "code",
      "metadata": {
        "id": "ILSTdsWFHyHD",
        "colab_type": "code",
        "colab": {},
        "outputId": "71677244-384e-4199-f3ba-8ba32fddb242"
      },
      "source": [
        "add_n(1,2,3,4,5)"
      ],
      "execution_count": null,
      "outputs": [
        {
          "output_type": "stream",
          "text": [
            "[1, 2, 3, 4, 5]\n"
          ],
          "name": "stdout"
        },
        {
          "output_type": "execute_result",
          "data": {
            "text/plain": [
              "15"
            ]
          },
          "metadata": {
            "tags": []
          },
          "execution_count": 22
        }
      ]
    },
    {
      "cell_type": "code",
      "metadata": {
        "id": "7VWYxe7wHyHI",
        "colab_type": "code",
        "colab": {},
        "outputId": "66362b40-8d72-44e5-d1cc-d4eb6652d7d8"
      },
      "source": [
        "add_n(1,2,3)"
      ],
      "execution_count": null,
      "outputs": [
        {
          "output_type": "stream",
          "text": [
            "[1, 2, 3]\n"
          ],
          "name": "stdout"
        },
        {
          "output_type": "execute_result",
          "data": {
            "text/plain": [
              "6"
            ]
          },
          "metadata": {
            "tags": []
          },
          "execution_count": 23
        }
      ]
    },
    {
      "cell_type": "markdown",
      "metadata": {
        "id": "lt6Sb6YMHyHO",
        "colab_type": "text"
      },
      "source": [
        "##Global and Local Variables"
      ]
    },
    {
      "cell_type": "markdown",
      "metadata": {
        "id": "sueWkFvfHyHP",
        "colab_type": "text"
      },
      "source": [
        "Whatever variable is declared inside a function is local variable and outside the function in global variable."
      ]
    },
    {
      "cell_type": "code",
      "metadata": {
        "id": "d6dnvgnVHyHQ",
        "colab_type": "code",
        "colab": {}
      },
      "source": [
        "eg1 = [1,2,3,4,5]"
      ],
      "execution_count": null,
      "outputs": []
    },
    {
      "cell_type": "markdown",
      "metadata": {
        "id": "DaiGRMuZHyHU",
        "colab_type": "text"
      },
      "source": [
        "In the below function we are appending a element to the declared list inside the function. eg2 variable declared inside the function is a local variable."
      ]
    },
    {
      "cell_type": "code",
      "metadata": {
        "id": "Uc_ylUrYHyHV",
        "colab_type": "code",
        "colab": {}
      },
      "source": [
        "def egfunc1():\n",
        "    def thirdfunc(arg1):\n",
        "        eg2 = arg1[:]\n",
        "        eg2.append(6)\n",
        "        print \"This is happening inside the function :\", eg2 \n",
        "    print \"This is happening before the function is called : \", eg1\n",
        "    thirdfunc(eg1)\n",
        "    print \"This is happening outside the function :\", eg1   \n",
        "    print \"Accessing a variable declared inside the function from outside :\" , eg2"
      ],
      "execution_count": null,
      "outputs": []
    },
    {
      "cell_type": "code",
      "metadata": {
        "id": "eR3fReuQHyHc",
        "colab_type": "code",
        "colab": {},
        "outputId": "d3eb2f4a-ca32-4307-84df-87e90f1bf0bd"
      },
      "source": [
        "egfunc1()"
      ],
      "execution_count": null,
      "outputs": [
        {
          "output_type": "stream",
          "text": [
            "This is happening before the function is called :  [1, 2, 3, 4, 5]\n",
            "This is happening inside the function : [1, 2, 3, 4, 5, 6]\n",
            "This is happening outside the function : [1, 2, 3, 4, 5]\n",
            "Accessing a variable declared inside the function from outside :"
          ],
          "name": "stdout"
        },
        {
          "output_type": "error",
          "ename": "NameError",
          "evalue": "global name 'eg2' is not defined",
          "traceback": [
            "\u001b[0;31m---------------------------------------------------------------------------\u001b[0m",
            "\u001b[0;31mNameError\u001b[0m                                 Traceback (most recent call last)",
            "\u001b[0;32m<ipython-input-26-949117e1ddc5>\u001b[0m in \u001b[0;36m<module>\u001b[0;34m()\u001b[0m\n\u001b[0;32m----> 1\u001b[0;31m \u001b[0megfunc1\u001b[0m\u001b[0;34m(\u001b[0m\u001b[0;34m)\u001b[0m\u001b[0;34m\u001b[0m\u001b[0m\n\u001b[0m",
            "\u001b[0;32m<ipython-input-25-0da329480da9>\u001b[0m in \u001b[0;36megfunc1\u001b[0;34m()\u001b[0m\n\u001b[1;32m      7\u001b[0m     \u001b[0mthirdfunc\u001b[0m\u001b[0;34m(\u001b[0m\u001b[0meg1\u001b[0m\u001b[0;34m)\u001b[0m\u001b[0;34m\u001b[0m\u001b[0m\n\u001b[1;32m      8\u001b[0m     \u001b[0;32mprint\u001b[0m \u001b[0;34m\"This is happening outside the function :\"\u001b[0m\u001b[0;34m,\u001b[0m \u001b[0meg1\u001b[0m\u001b[0;34m\u001b[0m\u001b[0m\n\u001b[0;32m----> 9\u001b[0;31m     \u001b[0;32mprint\u001b[0m \u001b[0;34m\"Accessing a variable declared inside the function from outside :\"\u001b[0m \u001b[0;34m,\u001b[0m \u001b[0meg2\u001b[0m\u001b[0;34m\u001b[0m\u001b[0m\n\u001b[0m",
            "\u001b[0;31mNameError\u001b[0m: global name 'eg2' is not defined"
          ]
        }
      ]
    },
    {
      "cell_type": "markdown",
      "metadata": {
        "id": "J60y9xIxHyHk",
        "colab_type": "text"
      },
      "source": [
        "If a **global** variable is defined as shown in the example below then that variable can be called from anywhere."
      ]
    },
    {
      "cell_type": "code",
      "metadata": {
        "id": "AeXpG70gHyHl",
        "colab_type": "code",
        "colab": {},
        "outputId": "85a661b9-c9db-43db-a6ff-53321a25a640"
      },
      "source": [
        "eg3 = [1,2,3,4,5]"
      ],
      "execution_count": null,
      "outputs": [
        {
          "output_type": "stream",
          "text": [
            "\n"
          ],
          "name": "stdout"
        }
      ]
    },
    {
      "cell_type": "code",
      "metadata": {
        "id": "4MQ7Z3kAHyHr",
        "colab_type": "code",
        "colab": {}
      },
      "source": [
        "def egfunc1():\n",
        "    def thirdfunc(arg1):\n",
        "        global eg2\n",
        "        eg2 = arg1[:]\n",
        "        eg2.append(6)\n",
        "        print \"This is happening inside the function :\", eg2 \n",
        "    print \"This is happening before the function is called : \", eg1\n",
        "    thirdfunc(eg1)\n",
        "    print \"This is happening outside the function :\", eg1   \n",
        "    print \"Accessing a variable declared inside the function from outside :\" , eg2"
      ],
      "execution_count": null,
      "outputs": []
    },
    {
      "cell_type": "code",
      "metadata": {
        "id": "9-lwUd3YHyHx",
        "colab_type": "code",
        "colab": {},
        "outputId": "6af96db1-93cc-4dc7-b999-0e4f3f2aaf37"
      },
      "source": [
        "egfunc1()"
      ],
      "execution_count": null,
      "outputs": [
        {
          "output_type": "stream",
          "text": [
            "This is happening before the function is called :  [1, 2, 3, 4, 5]\n",
            "This is happening inside the function : [1, 2, 3, 4, 5, 6]\n",
            "This is happening outside the function : [1, 2, 3, 4, 5]\n",
            "Accessing a variable declared inside the function from outside : [1, 2, 3, 4, 5, 6]\n"
          ],
          "name": "stdout"
        }
      ]
    },
    {
      "cell_type": "markdown",
      "metadata": {
        "id": "LWWjt5G4HyH3",
        "colab_type": "text"
      },
      "source": [
        "##Lambda Functions"
      ]
    },
    {
      "cell_type": "markdown",
      "metadata": {
        "id": "b9KMDvsPHyH4",
        "colab_type": "text"
      },
      "source": [
        "These are small functions which are not defined with any name and carry a single expression whose result is returned. Lambda functions comes very handy when operating with lists. These function are defined by the keyword **lambda** followed by the variables, a colon and the respective expression."
      ]
    },
    {
      "cell_type": "code",
      "metadata": {
        "id": "-zgjIHq0HyH5",
        "colab_type": "code",
        "colab": {}
      },
      "source": [
        "z = lambda x: x * x"
      ],
      "execution_count": null,
      "outputs": []
    },
    {
      "cell_type": "code",
      "metadata": {
        "id": "RK9zj9PxHyH-",
        "colab_type": "code",
        "colab": {},
        "outputId": "554fe547-6bc3-41df-96b8-3a5f08dcb456"
      },
      "source": [
        "z(8)"
      ],
      "execution_count": null,
      "outputs": [
        {
          "output_type": "execute_result",
          "data": {
            "text/plain": [
              "64"
            ]
          },
          "metadata": {
            "tags": []
          },
          "execution_count": 31
        }
      ]
    },
    {
      "cell_type": "markdown",
      "metadata": {
        "id": "FaFklpzmHyIC",
        "colab_type": "text"
      },
      "source": [
        "###map"
      ]
    },
    {
      "cell_type": "markdown",
      "metadata": {
        "id": "mPML54zxHyID",
        "colab_type": "text"
      },
      "source": [
        "**map( )** function basically executes the function that is defined to each of the list's element separately."
      ]
    },
    {
      "cell_type": "code",
      "metadata": {
        "id": "nn0zj4nXHyIE",
        "colab_type": "code",
        "colab": {}
      },
      "source": [
        "list1 = [1,2,3,4,5,6,7,8,9]"
      ],
      "execution_count": null,
      "outputs": []
    },
    {
      "cell_type": "code",
      "metadata": {
        "id": "sORwIBi2HyIJ",
        "colab_type": "code",
        "colab": {},
        "outputId": "c4e1b287-431a-438f-a41c-9915f855e43a"
      },
      "source": [
        "eg = map(lambda x:x+2, list1)\n",
        "print eg"
      ],
      "execution_count": null,
      "outputs": [
        {
          "output_type": "stream",
          "text": [
            "[3, 4, 5, 6, 7, 8, 9, 10, 11]\n"
          ],
          "name": "stdout"
        }
      ]
    },
    {
      "cell_type": "markdown",
      "metadata": {
        "id": "5XtKHco0HyIO",
        "colab_type": "text"
      },
      "source": [
        "You can also add two lists."
      ]
    },
    {
      "cell_type": "code",
      "metadata": {
        "id": "EtBAVi16HyIQ",
        "colab_type": "code",
        "colab": {}
      },
      "source": [
        "list2 = [9,8,7,6,5,4,3,2,1]"
      ],
      "execution_count": null,
      "outputs": []
    },
    {
      "cell_type": "code",
      "metadata": {
        "id": "UPg6xGb0HyIY",
        "colab_type": "code",
        "colab": {},
        "outputId": "64564e84-885a-4362-a504-c0b69631689c"
      },
      "source": [
        "eg2 = map(lambda x,y:x+y, list1,list2)\n",
        "print eg2"
      ],
      "execution_count": null,
      "outputs": [
        {
          "output_type": "stream",
          "text": [
            "[10, 10, 10, 10, 10, 10, 10, 10, 10]\n"
          ],
          "name": "stdout"
        }
      ]
    },
    {
      "cell_type": "markdown",
      "metadata": {
        "collapsed": false,
        "id": "tV541DBSHyId",
        "colab_type": "text"
      },
      "source": [
        "Not only lambda function but also other built in functions can also be used."
      ]
    },
    {
      "cell_type": "code",
      "metadata": {
        "id": "NTy2AzmgHyIe",
        "colab_type": "code",
        "colab": {},
        "outputId": "0a90f38c-ef01-43fa-f22b-2e5788c7aec2"
      },
      "source": [
        "eg3 = map(str,eg2)\n",
        "print eg3"
      ],
      "execution_count": null,
      "outputs": [
        {
          "output_type": "stream",
          "text": [
            "['10', '10', '10', '10', '10', '10', '10', '10', '10']\n"
          ],
          "name": "stdout"
        }
      ]
    },
    {
      "cell_type": "markdown",
      "metadata": {
        "id": "v4BMgwP2HyIk",
        "colab_type": "text"
      },
      "source": [
        "###filter"
      ]
    },
    {
      "cell_type": "markdown",
      "metadata": {
        "id": "9GsSdVojHyIl",
        "colab_type": "text"
      },
      "source": [
        "**filter( )** function is used to filter out the values in a list. Note that **filter()** function returns the result in a new list."
      ]
    },
    {
      "cell_type": "code",
      "metadata": {
        "id": "kxdY6cY2HyIm",
        "colab_type": "code",
        "colab": {}
      },
      "source": [
        "list1 = [1,2,3,4,5,6,7,8,9]"
      ],
      "execution_count": null,
      "outputs": []
    },
    {
      "cell_type": "markdown",
      "metadata": {
        "id": "PPfFLXzEHyIr",
        "colab_type": "text"
      },
      "source": [
        "To get the elements which are less than 5,"
      ]
    },
    {
      "cell_type": "code",
      "metadata": {
        "id": "gdz4u-yKHyIs",
        "colab_type": "code",
        "colab": {},
        "outputId": "8bd856d2-f151-4561-fc1e-349734d8f96f"
      },
      "source": [
        "filter(lambda x:x<5,list1)"
      ],
      "execution_count": null,
      "outputs": [
        {
          "output_type": "execute_result",
          "data": {
            "text/plain": [
              "[1, 2, 3, 4]"
            ]
          },
          "metadata": {
            "tags": []
          },
          "execution_count": 38
        }
      ]
    },
    {
      "cell_type": "markdown",
      "metadata": {
        "id": "JDYWoQ0THyIx",
        "colab_type": "text"
      },
      "source": [
        "Notice what happens when **map()** is used."
      ]
    },
    {
      "cell_type": "code",
      "metadata": {
        "id": "d5F7ujrzHyIy",
        "colab_type": "code",
        "colab": {},
        "outputId": "e41c69b0-7d6c-45a0-a0e2-da06b4aa25db"
      },
      "source": [
        "map(lambda x:x<5, list1)"
      ],
      "execution_count": null,
      "outputs": [
        {
          "output_type": "execute_result",
          "data": {
            "text/plain": [
              "[True, True, True, True, False, False, False, False, False]"
            ]
          },
          "metadata": {
            "tags": []
          },
          "execution_count": 39
        }
      ]
    },
    {
      "cell_type": "markdown",
      "metadata": {
        "id": "SJ-91HvPHyI3",
        "colab_type": "text"
      },
      "source": [
        "We can conclude that, whatever is returned true in **map( )** function that particular element is returned when **filter( )** function is used."
      ]
    },
    {
      "cell_type": "code",
      "metadata": {
        "id": "HDV4XfelHyI3",
        "colab_type": "code",
        "colab": {},
        "outputId": "357a6a71-27e1-4068-913c-ccb64065a2c6"
      },
      "source": [
        "filter(lambda x:x%4==0,list1)"
      ],
      "execution_count": null,
      "outputs": [
        {
          "output_type": "execute_result",
          "data": {
            "text/plain": [
              "[4, 8]"
            ]
          },
          "metadata": {
            "tags": []
          },
          "execution_count": 40
        }
      ]
    }
  ]
}