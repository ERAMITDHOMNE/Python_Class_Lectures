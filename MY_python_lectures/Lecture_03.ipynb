{
  "nbformat": 4,
  "nbformat_minor": 0,
  "metadata": {
    "kernelspec": {
      "display_name": "Python 2",
      "language": "python",
      "name": "python2"
    },
    "language_info": {
      "codemirror_mode": {
        "name": "ipython",
        "version": 2
      },
      "file_extension": ".py",
      "mimetype": "text/x-python",
      "name": "python",
      "nbconvert_exporter": "python",
      "pygments_lexer": "ipython2",
      "version": "2.7.10"
    },
    "colab": {
      "name": "03.ipynb",
      "provenance": []
    }
  },
  "cells": [
    {
      "cell_type": "markdown",
      "metadata": {
        "id": "vheDMMRGHM5a",
        "colab_type": "text"
      },
      "source": [
        "#Data Structures"
      ]
    },
    {
      "cell_type": "markdown",
      "metadata": {
        "id": "Bg2rmJVaHM5b",
        "colab_type": "text"
      },
      "source": [
        "In simple terms, It is the the collection or group of data in a particular structure."
      ]
    },
    {
      "cell_type": "markdown",
      "metadata": {
        "id": "AQyS70fLHM5c",
        "colab_type": "text"
      },
      "source": [
        "##Lists"
      ]
    },
    {
      "cell_type": "markdown",
      "metadata": {
        "id": "7C4OkMDmHM5d",
        "colab_type": "text"
      },
      "source": [
        "Lists are the most commonly used data structure. Think of it as a sequence of data that is enclosed in square brackets and data are separated by a comma. Each of these data can be accessed by calling it's index value.\n",
        "\n",
        "Lists are declared by just equating a variable to '[ ]' or list."
      ]
    },
    {
      "cell_type": "code",
      "metadata": {
        "id": "PecXnE6FHM5e",
        "colab_type": "code",
        "colab": {}
      },
      "source": [
        "a = []"
      ],
      "execution_count": null,
      "outputs": []
    },
    {
      "cell_type": "code",
      "metadata": {
        "id": "0hOyCZH7HM5k",
        "colab_type": "code",
        "colab": {},
        "outputId": "c7dba3f5-37fc-4304-f0a5-ed2e1d21d2e0"
      },
      "source": [
        "print type(a)"
      ],
      "execution_count": null,
      "outputs": [
        {
          "output_type": "stream",
          "text": [
            "<type 'list'>\n"
          ],
          "name": "stdout"
        }
      ]
    },
    {
      "cell_type": "markdown",
      "metadata": {
        "id": "1MdY1mMYHM5t",
        "colab_type": "text"
      },
      "source": [
        "One can directly assign the sequence of data to a list x as shown."
      ]
    },
    {
      "cell_type": "code",
      "metadata": {
        "id": "yAuraGqDHM5t",
        "colab_type": "code",
        "colab": {}
      },
      "source": [
        "x = ['apple', 'orange']"
      ],
      "execution_count": null,
      "outputs": []
    },
    {
      "cell_type": "markdown",
      "metadata": {
        "id": "OM5DAhxOHM5x",
        "colab_type": "text"
      },
      "source": [
        "### Indexing"
      ]
    },
    {
      "cell_type": "markdown",
      "metadata": {
        "id": "0exdLt_lHM5y",
        "colab_type": "text"
      },
      "source": [
        "In python, Indexing starts from 0. Thus now the list x, which has two elements will have apple at 0 index and orange at 1 index."
      ]
    },
    {
      "cell_type": "code",
      "metadata": {
        "id": "PEPv2opSHM5z",
        "colab_type": "code",
        "colab": {},
        "outputId": "63153744-6920-445d-e6fb-9859c131bf5f"
      },
      "source": [
        "x[0]"
      ],
      "execution_count": null,
      "outputs": [
        {
          "output_type": "execute_result",
          "data": {
            "text/plain": [
              "'apple'"
            ]
          },
          "metadata": {
            "tags": []
          },
          "execution_count": 4
        }
      ]
    },
    {
      "cell_type": "markdown",
      "metadata": {
        "id": "zeG165bPHM52",
        "colab_type": "text"
      },
      "source": [
        "Indexing can also be done in reverse order. That is the last element can be accessed first. Here, indexing starts from -1. Thus index value -1 will be orange and index -2 will be apple."
      ]
    },
    {
      "cell_type": "code",
      "metadata": {
        "id": "yJt_Jh9iHM53",
        "colab_type": "code",
        "colab": {},
        "outputId": "d308164a-1b14-45ae-c034-b74c390983df"
      },
      "source": [
        "x[-1]"
      ],
      "execution_count": null,
      "outputs": [
        {
          "output_type": "execute_result",
          "data": {
            "text/plain": [
              "'orange'"
            ]
          },
          "metadata": {
            "tags": []
          },
          "execution_count": 5
        }
      ]
    },
    {
      "cell_type": "markdown",
      "metadata": {
        "id": "WnC76tZEHM59",
        "colab_type": "text"
      },
      "source": [
        "As you might have already guessed, x[0] = x[-2], x[1] = x[-1]. This concept can be extended towards lists with more many elements."
      ]
    },
    {
      "cell_type": "code",
      "metadata": {
        "id": "BG_CHNDAHM5_",
        "colab_type": "code",
        "colab": {}
      },
      "source": [
        "y = ['carrot','potato']"
      ],
      "execution_count": null,
      "outputs": []
    },
    {
      "cell_type": "markdown",
      "metadata": {
        "id": "MY0Tp1ofHM6D",
        "colab_type": "text"
      },
      "source": [
        "Here we have declared two lists x and y each containing its own data. Now, these two lists can again be put into another list say z which will have it's data as two lists. This list inside a list is called as nested lists and is how an array would be declared which we will see later."
      ]
    },
    {
      "cell_type": "code",
      "metadata": {
        "id": "Whqw0DRiHM6E",
        "colab_type": "code",
        "colab": {},
        "outputId": "cd1eabd6-4556-4982-d105-d94d317349fe"
      },
      "source": [
        "z  = [x,y]\n",
        "print z"
      ],
      "execution_count": null,
      "outputs": [
        {
          "output_type": "stream",
          "text": [
            "[['apple', 'orange'], ['carrot', 'potato']]\n"
          ],
          "name": "stdout"
        }
      ]
    },
    {
      "cell_type": "markdown",
      "metadata": {
        "id": "LaHQmy4OHM6I",
        "colab_type": "text"
      },
      "source": [
        "Indexing in nested lists can be quite confusing if you do not understand how indexing works in python. So let us break it down and then arrive at a conclusion.\n",
        "\n",
        "Let us access the data 'apple' in the above nested list.\n",
        "First, at index 0 there is a list ['apple','orange'] and at index 1 there is another list ['carrot','potato']. Hence z[0] should give us the first list which contains 'apple'."
      ]
    },
    {
      "cell_type": "code",
      "metadata": {
        "id": "JODKprVSHM6J",
        "colab_type": "code",
        "colab": {},
        "outputId": "bcf492db-e9ac-41cd-c2c8-e80da8321599"
      },
      "source": [
        "z1 = z[0]\n",
        "print z1"
      ],
      "execution_count": null,
      "outputs": [
        {
          "output_type": "stream",
          "text": [
            "['apple', 'orange']\n"
          ],
          "name": "stdout"
        }
      ]
    },
    {
      "cell_type": "markdown",
      "metadata": {
        "id": "q6LFVM3kHM6O",
        "colab_type": "text"
      },
      "source": [
        "Now observe that z1 is not at all a nested list thus to access 'apple', z1 should be indexed at 0."
      ]
    },
    {
      "cell_type": "code",
      "metadata": {
        "id": "_cln9t3aHM6P",
        "colab_type": "code",
        "colab": {},
        "outputId": "c7136157-f0af-4720-e0cb-b1ef8423354c"
      },
      "source": [
        "z1[0]"
      ],
      "execution_count": null,
      "outputs": [
        {
          "output_type": "execute_result",
          "data": {
            "text/plain": [
              "'apple'"
            ]
          },
          "metadata": {
            "tags": []
          },
          "execution_count": 9
        }
      ]
    },
    {
      "cell_type": "markdown",
      "metadata": {
        "id": "tEIhvhWoHM6V",
        "colab_type": "text"
      },
      "source": [
        "Instead of doing the above, In python, you can access 'apple' by just writing the index values each time side by side."
      ]
    },
    {
      "cell_type": "code",
      "metadata": {
        "id": "vWUyzuRAHM6W",
        "colab_type": "code",
        "colab": {},
        "outputId": "678dd26a-64b3-49e5-87a6-37b22b5521c2"
      },
      "source": [
        "z[0][0]"
      ],
      "execution_count": null,
      "outputs": [
        {
          "output_type": "execute_result",
          "data": {
            "text/plain": [
              "'apple'"
            ]
          },
          "metadata": {
            "tags": []
          },
          "execution_count": 10
        }
      ]
    },
    {
      "cell_type": "markdown",
      "metadata": {
        "id": "e2_EPnhnHM6Z",
        "colab_type": "text"
      },
      "source": [
        "If there was a list inside a list inside a list then you can access the innermost value by executing z[ ][ ][ ]."
      ]
    },
    {
      "cell_type": "markdown",
      "metadata": {
        "id": "9cgIITkpHM6a",
        "colab_type": "text"
      },
      "source": [
        "### Slicing"
      ]
    },
    {
      "cell_type": "markdown",
      "metadata": {
        "id": "YdI5t9gDHM6b",
        "colab_type": "text"
      },
      "source": [
        "Indexing was only limited to accessing a single element, Slicing on the other hand is accessing a sequence of data inside the list. In other words \"slicing\" the list.\n",
        "\n",
        "Slicing is done by defining the index values of the first element and the last element from the parent list that is required in the sliced list. It is written as parentlist[ a : b ] where a,b are the index values from the parent list. If a or b is not defined then the index value is considered to be the first value for a if a is not defined and the last value for b when b is not defined."
      ]
    },
    {
      "cell_type": "code",
      "metadata": {
        "collapsed": true,
        "id": "ncrVCcBLHM6b",
        "colab_type": "code",
        "colab": {}
      },
      "source": [
        "num = [0,1,2,3,4,5,6,7,8,9]"
      ],
      "execution_count": null,
      "outputs": []
    },
    {
      "cell_type": "code",
      "metadata": {
        "id": "UtXa9dHxHM6h",
        "colab_type": "code",
        "colab": {},
        "outputId": "29e5f1f6-1b4f-44ef-cd38-6607e7f0509a"
      },
      "source": [
        "print num[0:4]\n",
        "print num[4:]"
      ],
      "execution_count": null,
      "outputs": [
        {
          "output_type": "stream",
          "text": [
            "[0, 1, 2, 3]\n",
            "[4, 5, 6, 7, 8, 9]\n"
          ],
          "name": "stdout"
        }
      ]
    },
    {
      "cell_type": "markdown",
      "metadata": {
        "id": "u1WKH9UrHM6n",
        "colab_type": "text"
      },
      "source": [
        "You can also slice a parent list with a fixed length or step length."
      ]
    },
    {
      "cell_type": "code",
      "metadata": {
        "id": "1elWgN1qHM6o",
        "colab_type": "code",
        "colab": {},
        "outputId": "bbac7825-f35b-4d88-c6a8-2087317f83c2"
      },
      "source": [
        "num[:9:3]"
      ],
      "execution_count": null,
      "outputs": [
        {
          "output_type": "execute_result",
          "data": {
            "text/plain": [
              "[0, 3, 6]"
            ]
          },
          "metadata": {
            "tags": []
          },
          "execution_count": 13
        }
      ]
    },
    {
      "cell_type": "markdown",
      "metadata": {
        "id": "0KYU_VMWHM6r",
        "colab_type": "text"
      },
      "source": [
        "###Built in List Functions"
      ]
    },
    {
      "cell_type": "markdown",
      "metadata": {
        "id": "U5wRnkBHHM6s",
        "colab_type": "text"
      },
      "source": [
        "To find the length of the list or the number of elements in a list, **len( )** is used."
      ]
    },
    {
      "cell_type": "code",
      "metadata": {
        "id": "w5dk09eIHM6t",
        "colab_type": "code",
        "colab": {},
        "outputId": "55ffb4ea-2273-4e06-9396-5bcdcece4608"
      },
      "source": [
        "len(num)"
      ],
      "execution_count": null,
      "outputs": [
        {
          "output_type": "execute_result",
          "data": {
            "text/plain": [
              "10"
            ]
          },
          "metadata": {
            "tags": []
          },
          "execution_count": 14
        }
      ]
    },
    {
      "cell_type": "markdown",
      "metadata": {
        "id": "XWrvv1ZpHM6x",
        "colab_type": "text"
      },
      "source": [
        "If the list consists of all integer elements then **min( )** and **max( )** gives the minimum and maximum value in the list."
      ]
    },
    {
      "cell_type": "code",
      "metadata": {
        "id": "3hHn_byIHM6y",
        "colab_type": "code",
        "colab": {},
        "outputId": "95c9a49e-b5dc-4435-e6cc-c8c3844e6c74"
      },
      "source": [
        "min(num)"
      ],
      "execution_count": null,
      "outputs": [
        {
          "output_type": "execute_result",
          "data": {
            "text/plain": [
              "0"
            ]
          },
          "metadata": {
            "tags": []
          },
          "execution_count": 15
        }
      ]
    },
    {
      "cell_type": "code",
      "metadata": {
        "id": "dVLVSgBqHM62",
        "colab_type": "code",
        "colab": {},
        "outputId": "acc58e8f-1060-42a5-e64b-565d2baae1dc"
      },
      "source": [
        "max(num)"
      ],
      "execution_count": null,
      "outputs": [
        {
          "output_type": "execute_result",
          "data": {
            "text/plain": [
              "9"
            ]
          },
          "metadata": {
            "tags": []
          },
          "execution_count": 16
        }
      ]
    },
    {
      "cell_type": "markdown",
      "metadata": {
        "id": "4aHZmfo3HM65",
        "colab_type": "text"
      },
      "source": [
        "Lists can be concatenated by adding, '+' them. The resultant list will contain all the elements of the lists that were added. The resultant list will not be a nested list."
      ]
    },
    {
      "cell_type": "code",
      "metadata": {
        "id": "JelJgg5KHM66",
        "colab_type": "code",
        "colab": {},
        "outputId": "ee864b2e-21af-4b09-b59a-d3f4a12a2482"
      },
      "source": [
        "[1,2,3] + [5,4,7]"
      ],
      "execution_count": null,
      "outputs": [
        {
          "output_type": "execute_result",
          "data": {
            "text/plain": [
              "[1, 2, 3, 5, 4, 7]"
            ]
          },
          "metadata": {
            "tags": []
          },
          "execution_count": 17
        }
      ]
    },
    {
      "cell_type": "markdown",
      "metadata": {
        "id": "uNBfj4CEHM69",
        "colab_type": "text"
      },
      "source": [
        "There might arise a requirement where you might need to check if a particular element is there in a predefined list. Consider the below list."
      ]
    },
    {
      "cell_type": "code",
      "metadata": {
        "id": "tlciscRDHM6-",
        "colab_type": "code",
        "colab": {}
      },
      "source": [
        "names = ['Earth','Air','Fire','Water']"
      ],
      "execution_count": null,
      "outputs": []
    },
    {
      "cell_type": "markdown",
      "metadata": {
        "id": "d9f87btRHM7F",
        "colab_type": "text"
      },
      "source": [
        "To check if 'Fire' and 'Rajath' is present in the list names. A conventional approach would be to use a for loop and iterate over the list and use the if condition. But in python you can use 'a in b' concept which would return 'True' if a is present in b and 'False' if not."
      ]
    },
    {
      "cell_type": "code",
      "metadata": {
        "id": "80dBsvUqHM7G",
        "colab_type": "code",
        "colab": {},
        "outputId": "b5bf0ce2-f4db-4d99-d4dd-88f038c07464"
      },
      "source": [
        "'Fire' in names"
      ],
      "execution_count": null,
      "outputs": [
        {
          "output_type": "execute_result",
          "data": {
            "text/plain": [
              "True"
            ]
          },
          "metadata": {
            "tags": []
          },
          "execution_count": 19
        }
      ]
    },
    {
      "cell_type": "code",
      "metadata": {
        "id": "4_nU-zAoHM7J",
        "colab_type": "code",
        "colab": {},
        "outputId": "757d5b2d-73fb-4d89-9539-4b40508d2b14"
      },
      "source": [
        "'Rajath' in names"
      ],
      "execution_count": null,
      "outputs": [
        {
          "output_type": "execute_result",
          "data": {
            "text/plain": [
              "False"
            ]
          },
          "metadata": {
            "tags": []
          },
          "execution_count": 20
        }
      ]
    },
    {
      "cell_type": "markdown",
      "metadata": {
        "id": "0O1xVJmkHM7M",
        "colab_type": "text"
      },
      "source": [
        "In a list with elements as string, **max( )** and **min( )** is applicable. **max( )** would return a string element whose ASCII value is the highest and the lowest when **min( )** is used. Note that only the first index of each element is considered each time and if they value is the same then second index considered so on and so forth."
      ]
    },
    {
      "cell_type": "code",
      "metadata": {
        "collapsed": true,
        "id": "kOQOIcweHM7N",
        "colab_type": "code",
        "colab": {}
      },
      "source": [
        "mlist = ['bzaa','ds','nc','az','z','klm']"
      ],
      "execution_count": null,
      "outputs": []
    },
    {
      "cell_type": "code",
      "metadata": {
        "id": "6u7i4Jb1HM7R",
        "colab_type": "code",
        "colab": {},
        "outputId": "25f2359f-c076-40b1-c67e-b5c3853e8753"
      },
      "source": [
        "print max(mlist)\n",
        "print min(mlist)"
      ],
      "execution_count": null,
      "outputs": [
        {
          "output_type": "stream",
          "text": [
            "z\n",
            "az\n"
          ],
          "name": "stdout"
        }
      ]
    },
    {
      "cell_type": "markdown",
      "metadata": {
        "id": "4OjK2xmJHM7U",
        "colab_type": "text"
      },
      "source": [
        "Here the first index of each element is considered and thus z has the highest ASCII value thus it is returned and minimum ASCII is a. But what if numbers are declared as strings?"
      ]
    },
    {
      "cell_type": "code",
      "metadata": {
        "collapsed": true,
        "id": "rezXWMZJHM7U",
        "colab_type": "code",
        "colab": {}
      },
      "source": [
        "nlist = ['1','94','93','1000']"
      ],
      "execution_count": null,
      "outputs": []
    },
    {
      "cell_type": "code",
      "metadata": {
        "id": "FgZEZi6jHM7Y",
        "colab_type": "code",
        "colab": {},
        "outputId": "3bba7c8d-3d17-4f07-83b8-b35c45fed226"
      },
      "source": [
        "print max(nlist)\n",
        "print min(nlist)"
      ],
      "execution_count": null,
      "outputs": [
        {
          "output_type": "stream",
          "text": [
            "94\n",
            "1\n"
          ],
          "name": "stdout"
        }
      ]
    },
    {
      "cell_type": "markdown",
      "metadata": {
        "id": "6KP90UlxHM7b",
        "colab_type": "text"
      },
      "source": [
        "Even if the numbers are declared in a string the first index of each element is considered and the maximum and minimum values are returned accordingly."
      ]
    },
    {
      "cell_type": "markdown",
      "metadata": {
        "id": "tSfsSnmEHM7c",
        "colab_type": "text"
      },
      "source": [
        "But if you want to find the **max( )** string element based on the length of the string then another parameter 'key=len' is declared inside the **max( )** and **min( )** function."
      ]
    },
    {
      "cell_type": "code",
      "metadata": {
        "id": "UD10bdh_HM7d",
        "colab_type": "code",
        "colab": {},
        "outputId": "5111237d-75f4-41c1-f946-3d8c3289f334"
      },
      "source": [
        "print max(names, key=len)\n",
        "print min(names, key=len)"
      ],
      "execution_count": null,
      "outputs": [
        {
          "output_type": "stream",
          "text": [
            "Earth\n",
            "Air\n"
          ],
          "name": "stdout"
        }
      ]
    },
    {
      "cell_type": "markdown",
      "metadata": {
        "id": "dNwXVm0ZHM7i",
        "colab_type": "text"
      },
      "source": [
        "But even 'Water' has length 5. **max()** or **min()** function returns the first element when there are two or more elements with the same length.\n",
        "\n",
        "Any other built in function can be used or lambda function (will be discussed later) in place of len.\n",
        "\n",
        "A string can be converted into a list by using the **list()** function."
      ]
    },
    {
      "cell_type": "code",
      "metadata": {
        "id": "O5LpxCZGHM7j",
        "colab_type": "code",
        "colab": {},
        "outputId": "43c9861b-8b1b-453b-93c9-98f5dbf06d95"
      },
      "source": [
        "list('hello')"
      ],
      "execution_count": null,
      "outputs": [
        {
          "output_type": "execute_result",
          "data": {
            "text/plain": [
              "['h', 'e', 'l', 'l', 'o']"
            ]
          },
          "metadata": {
            "tags": []
          },
          "execution_count": 26
        }
      ]
    },
    {
      "cell_type": "markdown",
      "metadata": {
        "id": "HZfLWKWhHM7n",
        "colab_type": "text"
      },
      "source": [
        "**append( )** is used to add a element at the end of the list."
      ]
    },
    {
      "cell_type": "code",
      "metadata": {
        "id": "dABUSYq3HM7o",
        "colab_type": "code",
        "colab": {}
      },
      "source": [
        "lst = [1,1,4,8,7]"
      ],
      "execution_count": null,
      "outputs": []
    },
    {
      "cell_type": "code",
      "metadata": {
        "id": "tZAabgbfHM7q",
        "colab_type": "code",
        "colab": {},
        "outputId": "9711b689-a894-4488-d5d2-a843895fbdcb"
      },
      "source": [
        "lst.append(1)\n",
        "print lst"
      ],
      "execution_count": null,
      "outputs": [
        {
          "output_type": "stream",
          "text": [
            "[1, 1, 4, 8, 7, 1]\n"
          ],
          "name": "stdout"
        }
      ]
    },
    {
      "cell_type": "markdown",
      "metadata": {
        "id": "UADN2-rLHM7u",
        "colab_type": "text"
      },
      "source": [
        "**count( )** is used to count the number of a particular element that is present in the list. "
      ]
    },
    {
      "cell_type": "code",
      "metadata": {
        "id": "8ldycXaZHM7v",
        "colab_type": "code",
        "colab": {},
        "outputId": "77264f76-567a-4fbb-ac78-f718c2a2c12a"
      },
      "source": [
        "lst.count(1)"
      ],
      "execution_count": null,
      "outputs": [
        {
          "output_type": "execute_result",
          "data": {
            "text/plain": [
              "3"
            ]
          },
          "metadata": {
            "tags": []
          },
          "execution_count": 29
        }
      ]
    },
    {
      "cell_type": "markdown",
      "metadata": {
        "id": "Kq81oO63HM70",
        "colab_type": "text"
      },
      "source": [
        "**append( )** function can also be used to add a entire list at the end. Observe that the resultant list becomes a nested list."
      ]
    },
    {
      "cell_type": "code",
      "metadata": {
        "collapsed": true,
        "id": "t-9r37sKHM72",
        "colab_type": "code",
        "colab": {}
      },
      "source": [
        "lst1 = [5,4,2,8]"
      ],
      "execution_count": null,
      "outputs": []
    },
    {
      "cell_type": "code",
      "metadata": {
        "id": "P6bJPYUFHM78",
        "colab_type": "code",
        "colab": {},
        "outputId": "f43a7099-a61c-4084-d2d2-9b839c0638bf"
      },
      "source": [
        "lst.append(lst1)\n",
        "print lst"
      ],
      "execution_count": null,
      "outputs": [
        {
          "output_type": "stream",
          "text": [
            "[1, 1, 4, 8, 7, 1, [5, 4, 2, 8]]\n"
          ],
          "name": "stdout"
        }
      ]
    },
    {
      "cell_type": "markdown",
      "metadata": {
        "collapsed": false,
        "id": "I4hQFDZrHM8B",
        "colab_type": "text"
      },
      "source": [
        "But if nested list is not what is desired then **extend( )** function can be used."
      ]
    },
    {
      "cell_type": "code",
      "metadata": {
        "id": "41SCn4y0HM8C",
        "colab_type": "code",
        "colab": {},
        "outputId": "286c16b8-7a8c-4b99-e507-659fdb5740f6"
      },
      "source": [
        "lst.extend(lst1)\n",
        "print lst"
      ],
      "execution_count": null,
      "outputs": [
        {
          "output_type": "stream",
          "text": [
            "[1, 1, 4, 8, 7, 1, [5, 4, 2, 8], 5, 4, 2, 8]\n"
          ],
          "name": "stdout"
        }
      ]
    },
    {
      "cell_type": "markdown",
      "metadata": {
        "id": "0GQgA4wRHM8G",
        "colab_type": "text"
      },
      "source": [
        "**index( )** is used to find the index value of a particular element. Note that if there are multiple elements of the same value then the first index value of that element is returned."
      ]
    },
    {
      "cell_type": "code",
      "metadata": {
        "id": "iwk1DH7iHM8H",
        "colab_type": "code",
        "colab": {},
        "outputId": "86e795b7-32bc-4120-8077-c763a4bfc55d"
      },
      "source": [
        "lst.index(1)"
      ],
      "execution_count": null,
      "outputs": [
        {
          "output_type": "execute_result",
          "data": {
            "text/plain": [
              "0"
            ]
          },
          "metadata": {
            "tags": []
          },
          "execution_count": 33
        }
      ]
    },
    {
      "cell_type": "markdown",
      "metadata": {
        "id": "4bsSHWf0HM8L",
        "colab_type": "text"
      },
      "source": [
        "**insert(x,y)** is used to insert a element y at a specified index value x. **append( )** function made it only possible to insert at the end. "
      ]
    },
    {
      "cell_type": "code",
      "metadata": {
        "id": "MZoFHBwqHM8M",
        "colab_type": "code",
        "colab": {},
        "outputId": "33ac8cc1-6b48-4b3f-cfe7-3b3486a57bb6"
      },
      "source": [
        "lst.insert(5, 'name')\n",
        "print lst"
      ],
      "execution_count": null,
      "outputs": [
        {
          "output_type": "stream",
          "text": [
            "[1, 1, 4, 8, 7, 'name', 1, [5, 4, 2, 8], 5, 4, 2, 8]\n"
          ],
          "name": "stdout"
        }
      ]
    },
    {
      "cell_type": "markdown",
      "metadata": {
        "id": "M8-fsOadHM8T",
        "colab_type": "text"
      },
      "source": [
        "**insert(x,y)** inserts but does not replace element. If you want to replace the element with another element you simply assign the value to that particular index."
      ]
    },
    {
      "cell_type": "code",
      "metadata": {
        "id": "ij13wPGPHM8U",
        "colab_type": "code",
        "colab": {},
        "outputId": "9a73760f-8ea4-4371-a0cb-5b59039a6e34"
      },
      "source": [
        "lst[5] = 'Python'\n",
        "print lst"
      ],
      "execution_count": null,
      "outputs": [
        {
          "output_type": "stream",
          "text": [
            "[1, 1, 4, 8, 7, 'Python', 1, [5, 4, 2, 8], 5, 4, 2, 8]\n"
          ],
          "name": "stdout"
        }
      ]
    },
    {
      "cell_type": "markdown",
      "metadata": {
        "id": "HTu7450OHM8a",
        "colab_type": "text"
      },
      "source": [
        "**pop( )** function return the last element in the list. This is similar to the operation of a stack. Hence it wouldn't be wrong to tell that lists can be used as a stack."
      ]
    },
    {
      "cell_type": "code",
      "metadata": {
        "id": "fzaC954FHM8b",
        "colab_type": "code",
        "colab": {},
        "outputId": "8e4197f8-9c72-46ad-baee-9c0f41169a84"
      },
      "source": [
        "lst.pop()"
      ],
      "execution_count": null,
      "outputs": [
        {
          "output_type": "execute_result",
          "data": {
            "text/plain": [
              "8"
            ]
          },
          "metadata": {
            "tags": []
          },
          "execution_count": 36
        }
      ]
    },
    {
      "cell_type": "markdown",
      "metadata": {
        "id": "lRMsZiceHM8i",
        "colab_type": "text"
      },
      "source": [
        "Index value can be specified to pop a ceratin element corresponding to that index value."
      ]
    },
    {
      "cell_type": "code",
      "metadata": {
        "id": "zGGnrW2sHM8j",
        "colab_type": "code",
        "colab": {},
        "outputId": "135ecdae-871b-44cb-c351-d129cc1e21df"
      },
      "source": [
        "lst.pop(0)"
      ],
      "execution_count": null,
      "outputs": [
        {
          "output_type": "execute_result",
          "data": {
            "text/plain": [
              "1"
            ]
          },
          "metadata": {
            "tags": []
          },
          "execution_count": 37
        }
      ]
    },
    {
      "cell_type": "markdown",
      "metadata": {
        "id": "_Ivwb8AAHM8n",
        "colab_type": "text"
      },
      "source": [
        "**pop( )** is used to remove element based on it's index value which can be assigned to a variable. One can also remove element by specifying the element itself using the **remove( )** function."
      ]
    },
    {
      "cell_type": "code",
      "metadata": {
        "id": "JfdiHtRtHM8o",
        "colab_type": "code",
        "colab": {},
        "outputId": "ca14502a-7a98-4d2f-f923-2f575822848b"
      },
      "source": [
        "lst.remove('Python')\n",
        "print lst"
      ],
      "execution_count": null,
      "outputs": [
        {
          "output_type": "stream",
          "text": [
            "[1, 4, 8, 7, 1, [5, 4, 2, 8], 5, 4, 2]\n"
          ],
          "name": "stdout"
        }
      ]
    },
    {
      "cell_type": "markdown",
      "metadata": {
        "id": "cb0SEKwPHM8t",
        "colab_type": "text"
      },
      "source": [
        "Alternative to **remove** function but with using index value is **del**"
      ]
    },
    {
      "cell_type": "code",
      "metadata": {
        "id": "y25DK2v1HM8u",
        "colab_type": "code",
        "colab": {},
        "outputId": "025ace35-632b-4ff5-c00e-c100843a11e7"
      },
      "source": [
        "del lst[1]\n",
        "print lst"
      ],
      "execution_count": null,
      "outputs": [
        {
          "output_type": "stream",
          "text": [
            "[1, 8, 7, 1, [5, 4, 2, 8], 5, 4, 2]\n"
          ],
          "name": "stdout"
        }
      ]
    },
    {
      "cell_type": "markdown",
      "metadata": {
        "collapsed": false,
        "id": "zK284wwcHM8x",
        "colab_type": "text"
      },
      "source": [
        "The entire elements present in the list can be reversed by using the **reverse()** function."
      ]
    },
    {
      "cell_type": "code",
      "metadata": {
        "id": "aLRKQp_2HM8z",
        "colab_type": "code",
        "colab": {},
        "outputId": "227da480-84b8-4ef2-d1ff-1e1a35803c2f"
      },
      "source": [
        "lst.reverse()\n",
        "print lst"
      ],
      "execution_count": null,
      "outputs": [
        {
          "output_type": "stream",
          "text": [
            "[2, 4, 5, [5, 4, 2, 8], 1, 7, 8, 1]\n"
          ],
          "name": "stdout"
        }
      ]
    },
    {
      "cell_type": "markdown",
      "metadata": {
        "id": "rJzgolN_HM83",
        "colab_type": "text"
      },
      "source": [
        "Note that the nested list [5,4,2,8] is treated as a single element of the parent list lst. Thus the elements inside the nested list is not reversed.\n",
        "\n",
        "Python offers built in operation **sort( )** to arrange the elements in ascending order."
      ]
    },
    {
      "cell_type": "code",
      "metadata": {
        "id": "ExKFPfNOHM86",
        "colab_type": "code",
        "colab": {},
        "outputId": "91e080de-ddfc-4b00-9ea4-16ea8e3ee2b4"
      },
      "source": [
        "lst.sort()\n",
        "print lst"
      ],
      "execution_count": null,
      "outputs": [
        {
          "output_type": "stream",
          "text": [
            "[1, 1, 2, 4, 5, 7, 8, [5, 4, 2, 8]]\n"
          ],
          "name": "stdout"
        }
      ]
    },
    {
      "cell_type": "markdown",
      "metadata": {
        "id": "lx4vOVZhHM8-",
        "colab_type": "text"
      },
      "source": [
        "For descending order, By default the reverse condition will be False for reverse. Hence changing it to True would arrange the elements in descending order."
      ]
    },
    {
      "cell_type": "code",
      "metadata": {
        "id": "CQjyHuCSHM8-",
        "colab_type": "code",
        "colab": {},
        "outputId": "e60f601e-e11e-41fa-bd82-e8e9fa2ab786"
      },
      "source": [
        "lst.sort(reverse=True)\n",
        "print lst"
      ],
      "execution_count": null,
      "outputs": [
        {
          "output_type": "stream",
          "text": [
            "[[5, 4, 2, 8], 8, 7, 5, 4, 2, 1, 1]\n"
          ],
          "name": "stdout"
        }
      ]
    },
    {
      "cell_type": "markdown",
      "metadata": {
        "id": "z8M4P-WdHM9D",
        "colab_type": "text"
      },
      "source": [
        "Similarly for lists containing string elements, **sort( )** would sort the elements based on it's ASCII value in ascending and by specifying reverse=True in descending."
      ]
    },
    {
      "cell_type": "code",
      "metadata": {
        "id": "C27oz5nwHM9D",
        "colab_type": "code",
        "colab": {},
        "outputId": "a2841a7f-decf-4ef6-da2a-5826f8d749bd"
      },
      "source": [
        "names.sort()\n",
        "print names\n",
        "names.sort(reverse=True)\n",
        "print names"
      ],
      "execution_count": null,
      "outputs": [
        {
          "output_type": "stream",
          "text": [
            "['Air', 'Earth', 'Fire', 'Water']\n",
            "['Water', 'Fire', 'Earth', 'Air']\n"
          ],
          "name": "stdout"
        }
      ]
    },
    {
      "cell_type": "markdown",
      "metadata": {
        "id": "cliS0GgFHM9H",
        "colab_type": "text"
      },
      "source": [
        "To sort based on length key=len should be specified as shown."
      ]
    },
    {
      "cell_type": "code",
      "metadata": {
        "id": "XMSRbblBHM9H",
        "colab_type": "code",
        "colab": {},
        "outputId": "8b77d51a-f3fd-422b-d602-e41f847ac93b"
      },
      "source": [
        "names.sort(key=len)\n",
        "print names\n",
        "names.sort(key=len,reverse=True)\n",
        "print names"
      ],
      "execution_count": null,
      "outputs": [
        {
          "output_type": "stream",
          "text": [
            "['Air', 'Fire', 'Water', 'Earth']\n",
            "['Water', 'Earth', 'Fire', 'Air']\n"
          ],
          "name": "stdout"
        }
      ]
    },
    {
      "cell_type": "markdown",
      "metadata": {
        "id": "1I-AHT6THM9N",
        "colab_type": "text"
      },
      "source": [
        "### Copying a list"
      ]
    },
    {
      "cell_type": "markdown",
      "metadata": {
        "id": "9ese743PHM9P",
        "colab_type": "text"
      },
      "source": [
        "Most of the new python programmers commit this mistake. Consider the following,"
      ]
    },
    {
      "cell_type": "code",
      "metadata": {
        "id": "jgLq5jWrHM9Q",
        "colab_type": "code",
        "colab": {}
      },
      "source": [
        "lista= [2,1,4,3]"
      ],
      "execution_count": null,
      "outputs": []
    },
    {
      "cell_type": "code",
      "metadata": {
        "id": "cHvHTJ3AHM9U",
        "colab_type": "code",
        "colab": {},
        "outputId": "ee810691-38fd-4ce1-e9a3-a379bf2568ab"
      },
      "source": [
        "listb = lista\n",
        "print listb"
      ],
      "execution_count": null,
      "outputs": [
        {
          "output_type": "stream",
          "text": [
            "[2, 1, 4, 3]\n"
          ],
          "name": "stdout"
        }
      ]
    },
    {
      "cell_type": "markdown",
      "metadata": {
        "id": "l3Lwyi9-HM9Z",
        "colab_type": "text"
      },
      "source": [
        "Here, We have declared a list, lista = [2,1,4,3]. This list is copied to listb by assigning it's value and it get's copied as seen. Now we perform some random operations on lista."
      ]
    },
    {
      "cell_type": "code",
      "metadata": {
        "id": "iSX_KW-mHM9d",
        "colab_type": "code",
        "colab": {},
        "outputId": "b24e794d-7542-48d5-eb8d-92d7d675d5b5"
      },
      "source": [
        "lista.pop()\n",
        "print lista\n",
        "lista.append(9)\n",
        "print lista"
      ],
      "execution_count": null,
      "outputs": [
        {
          "output_type": "stream",
          "text": [
            "[2, 1, 4]\n",
            "[2, 1, 4, 9]\n"
          ],
          "name": "stdout"
        }
      ]
    },
    {
      "cell_type": "code",
      "metadata": {
        "id": "WnQ0secLHM9h",
        "colab_type": "code",
        "colab": {},
        "outputId": "5fceb4ca-a2c7-4b44-82d3-c52570dfdca2"
      },
      "source": [
        "print listb"
      ],
      "execution_count": null,
      "outputs": [
        {
          "output_type": "stream",
          "text": [
            "[2, 1, 4, 9]\n"
          ],
          "name": "stdout"
        }
      ]
    },
    {
      "cell_type": "markdown",
      "metadata": {
        "id": "1oijyJG7HM9l",
        "colab_type": "text"
      },
      "source": [
        "listb has also changed though no operation has been performed on it. This is because you have assigned the same memory space of lista to listb. So how do fix this?\n",
        "\n",
        "If you recall, in slicing we had seen that parentlist[a:b] returns a list from parent list with start index a and end index b and if a and b is not mentioned then by default it considers the first and last element. We use the same concept here. By doing so, we are assigning the data of lista to listb as a variable."
      ]
    },
    {
      "cell_type": "code",
      "metadata": {
        "collapsed": true,
        "id": "5qFmOh2iHM9l",
        "colab_type": "code",
        "colab": {}
      },
      "source": [
        "lista = [2,1,4,3]"
      ],
      "execution_count": null,
      "outputs": []
    },
    {
      "cell_type": "code",
      "metadata": {
        "id": "Q4l9i5n7HM9p",
        "colab_type": "code",
        "colab": {},
        "outputId": "1fffdbcf-63d4-4117-fe8d-bc9b7cfbc0e9"
      },
      "source": [
        "listb = lista[:]\n",
        "print listb"
      ],
      "execution_count": null,
      "outputs": [
        {
          "output_type": "stream",
          "text": [
            "[2, 1, 4, 3]\n"
          ],
          "name": "stdout"
        }
      ]
    },
    {
      "cell_type": "code",
      "metadata": {
        "id": "BmwycPa_HM9w",
        "colab_type": "code",
        "colab": {},
        "outputId": "d5667660-d8ef-47a7-d69e-74f2f3352591"
      },
      "source": [
        "lista.pop()\n",
        "print lista\n",
        "lista.append(9)\n",
        "print lista"
      ],
      "execution_count": null,
      "outputs": [
        {
          "output_type": "stream",
          "text": [
            "[2, 1, 4]\n",
            "[2, 1, 4, 9]\n"
          ],
          "name": "stdout"
        }
      ]
    },
    {
      "cell_type": "code",
      "metadata": {
        "id": "qyMivAJPHM91",
        "colab_type": "code",
        "colab": {},
        "outputId": "52761f9e-948c-42ae-f65a-d5c9d89267dc"
      },
      "source": [
        "print listb"
      ],
      "execution_count": null,
      "outputs": [
        {
          "output_type": "stream",
          "text": [
            "[2, 1, 4, 3]\n"
          ],
          "name": "stdout"
        }
      ]
    },
    {
      "cell_type": "markdown",
      "metadata": {
        "id": "O6IoKcaxHM93",
        "colab_type": "text"
      },
      "source": [
        "##Tuples"
      ]
    },
    {
      "cell_type": "markdown",
      "metadata": {
        "id": "ta72nuc7HM94",
        "colab_type": "text"
      },
      "source": [
        "Tuples are similar to lists but only big difference is the elements inside a list can be changed but in tuple it cannot be changed. Think of tuples as something which has to be True for a particular something and cannot be True for no other values. For better understanding, Recall **divmod()** function."
      ]
    },
    {
      "cell_type": "code",
      "metadata": {
        "id": "ZYuYIFfxHM95",
        "colab_type": "code",
        "colab": {},
        "outputId": "2e864b2a-2bfb-4fe7-eca4-f91d6c5589c3"
      },
      "source": [
        "xyz = divmod(10,3)\n",
        "print xyz\n",
        "print type(xyz)"
      ],
      "execution_count": null,
      "outputs": [
        {
          "output_type": "stream",
          "text": [
            "(3, 1)\n",
            "<type 'tuple'>\n"
          ],
          "name": "stdout"
        }
      ]
    },
    {
      "cell_type": "markdown",
      "metadata": {
        "id": "RBylwnNdHM98",
        "colab_type": "text"
      },
      "source": [
        "Here the quotient has to be 3 and the remainder has to be 1. These values cannot be changed whatsoever when 10 is divided by 3. Hence divmod returns these values in a tuple."
      ]
    },
    {
      "cell_type": "markdown",
      "metadata": {
        "id": "VEKUteXfHM98",
        "colab_type": "text"
      },
      "source": [
        "To define a tuple, A variable is assigned to paranthesis ( ) or tuple( )."
      ]
    },
    {
      "cell_type": "code",
      "metadata": {
        "id": "X0scbvt8HM99",
        "colab_type": "code",
        "colab": {}
      },
      "source": [
        "tup = ()\n",
        "tup2 = tuple()"
      ],
      "execution_count": null,
      "outputs": []
    },
    {
      "cell_type": "markdown",
      "metadata": {
        "id": "OXEv5XduHM-B",
        "colab_type": "text"
      },
      "source": [
        "If you want to directly declare a tuple it can be done by using a comma at the end of the data."
      ]
    },
    {
      "cell_type": "code",
      "metadata": {
        "id": "HZWpDrfXHM-B",
        "colab_type": "code",
        "colab": {},
        "outputId": "8cd20057-a000-4452-be48-7a5e77ac318a"
      },
      "source": [
        "27,"
      ],
      "execution_count": null,
      "outputs": [
        {
          "output_type": "execute_result",
          "data": {
            "text/plain": [
              "(27,)"
            ]
          },
          "metadata": {
            "tags": []
          },
          "execution_count": 55
        }
      ]
    },
    {
      "cell_type": "markdown",
      "metadata": {
        "id": "6HHi7KsfHM-E",
        "colab_type": "text"
      },
      "source": [
        "27 when multiplied by 2 yields 54, But when multiplied with a tuple the data is repeated twice."
      ]
    },
    {
      "cell_type": "code",
      "metadata": {
        "id": "mvDPixLpHM-F",
        "colab_type": "code",
        "colab": {},
        "outputId": "04556b16-e195-4134-e6d5-c4731e57f2be"
      },
      "source": [
        "2*(27,)"
      ],
      "execution_count": null,
      "outputs": [
        {
          "output_type": "execute_result",
          "data": {
            "text/plain": [
              "(27, 27)"
            ]
          },
          "metadata": {
            "tags": []
          },
          "execution_count": 56
        }
      ]
    },
    {
      "cell_type": "markdown",
      "metadata": {
        "id": "eLBaJz6GHM-I",
        "colab_type": "text"
      },
      "source": [
        "Values can be assigned while declaring a tuple. It takes a list as input and converts it into a tuple or it takes a string and converts it into a tuple."
      ]
    },
    {
      "cell_type": "code",
      "metadata": {
        "scrolled": true,
        "id": "_3M14ZFLHM-I",
        "colab_type": "code",
        "colab": {},
        "outputId": "e9184812-e271-4292-cd39-14664870ba4c"
      },
      "source": [
        "tup3 = tuple([1,2,3])\n",
        "print tup3\n",
        "tup4 = tuple('Hello')\n",
        "print tup4"
      ],
      "execution_count": null,
      "outputs": [
        {
          "output_type": "stream",
          "text": [
            "(1, 2, 3)\n",
            "('H', 'e', 'l', 'l', 'o')\n"
          ],
          "name": "stdout"
        }
      ]
    },
    {
      "cell_type": "markdown",
      "metadata": {
        "id": "esVKCgmmHM-K",
        "colab_type": "text"
      },
      "source": [
        "It follows the same indexing and slicing as Lists."
      ]
    },
    {
      "cell_type": "code",
      "metadata": {
        "id": "1B9CMvKzHM-L",
        "colab_type": "code",
        "colab": {},
        "outputId": "b0e53d4e-1070-4f3a-c72f-e2f9e15baeb8"
      },
      "source": [
        "print tup3[1]\n",
        "tup5 = tup4[:3]\n",
        "print tup5"
      ],
      "execution_count": null,
      "outputs": [
        {
          "output_type": "stream",
          "text": [
            "2\n",
            "('H', 'e', 'l')\n"
          ],
          "name": "stdout"
        }
      ]
    },
    {
      "cell_type": "markdown",
      "metadata": {
        "id": "duQ0DGGlHM-N",
        "colab_type": "text"
      },
      "source": [
        "### Mapping one tuple to another"
      ]
    },
    {
      "cell_type": "code",
      "metadata": {
        "collapsed": true,
        "id": "0cOwZGOZHM-O",
        "colab_type": "code",
        "colab": {}
      },
      "source": [
        "(a,b,c)= ('alpha','beta','gamma')"
      ],
      "execution_count": null,
      "outputs": []
    },
    {
      "cell_type": "code",
      "metadata": {
        "id": "lZBXO4OuHM-Q",
        "colab_type": "code",
        "colab": {},
        "outputId": "0a32bac5-5665-4b07-d2c7-63bf8f76585c"
      },
      "source": [
        "print a,b,c"
      ],
      "execution_count": null,
      "outputs": [
        {
          "output_type": "stream",
          "text": [
            "alpha beta gamma\n"
          ],
          "name": "stdout"
        }
      ]
    },
    {
      "cell_type": "code",
      "metadata": {
        "id": "ms2FdxgHHM-U",
        "colab_type": "code",
        "colab": {},
        "outputId": "2ba1c5b5-572b-491d-e11b-0cfb86b7f412"
      },
      "source": [
        "d = tuple('RajathKumarMP')\n",
        "print d"
      ],
      "execution_count": null,
      "outputs": [
        {
          "output_type": "stream",
          "text": [
            "('R', 'a', 'j', 'a', 't', 'h', 'K', 'u', 'm', 'a', 'r', 'M', 'P')\n"
          ],
          "name": "stdout"
        }
      ]
    },
    {
      "cell_type": "markdown",
      "metadata": {
        "id": "uhapyGI5HM-X",
        "colab_type": "text"
      },
      "source": [
        "### Built In Tuple functions"
      ]
    },
    {
      "cell_type": "markdown",
      "metadata": {
        "id": "asdapF6rHM-X",
        "colab_type": "text"
      },
      "source": [
        "**count()** function counts the number of specified element that is present in the tuple."
      ]
    },
    {
      "cell_type": "code",
      "metadata": {
        "id": "oTm09--cHM-Y",
        "colab_type": "code",
        "colab": {},
        "outputId": "8ae63878-370e-4f2c-a882-b681b649d223"
      },
      "source": [
        "d.count('a')"
      ],
      "execution_count": null,
      "outputs": [
        {
          "output_type": "execute_result",
          "data": {
            "text/plain": [
              "3"
            ]
          },
          "metadata": {
            "tags": []
          },
          "execution_count": 62
        }
      ]
    },
    {
      "cell_type": "markdown",
      "metadata": {
        "id": "ZyYOeHXkHM-b",
        "colab_type": "text"
      },
      "source": [
        "**index()** function returns the index of the specified element. If the elements are more than one then the index of the first element of that specified element is returned"
      ]
    },
    {
      "cell_type": "code",
      "metadata": {
        "id": "24-4PDiqHM-c",
        "colab_type": "code",
        "colab": {},
        "outputId": "d8552ad8-7d17-41aa-a622-399fe3100e9c"
      },
      "source": [
        "d.index('a')"
      ],
      "execution_count": null,
      "outputs": [
        {
          "output_type": "execute_result",
          "data": {
            "text/plain": [
              "1"
            ]
          },
          "metadata": {
            "tags": []
          },
          "execution_count": 63
        }
      ]
    },
    {
      "cell_type": "markdown",
      "metadata": {
        "id": "IPJi-CwzHM-h",
        "colab_type": "text"
      },
      "source": [
        "##Sets"
      ]
    },
    {
      "cell_type": "markdown",
      "metadata": {
        "id": "cXs13lDYHM-i",
        "colab_type": "text"
      },
      "source": [
        "Sets are mainly used to eliminate repeated numbers in a sequence/list. It is also used to perform some standard set operations.\n",
        "\n",
        "Sets are declared as set() which will initialize a empty set. Also set([sequence]) can be executed to declare a set with elements"
      ]
    },
    {
      "cell_type": "code",
      "metadata": {
        "id": "TroN0aJRHM-j",
        "colab_type": "code",
        "colab": {},
        "outputId": "f4737872-47f6-4895-ed5b-5d0db643b395"
      },
      "source": [
        "set1 = set()\n",
        "print type(set1)"
      ],
      "execution_count": null,
      "outputs": [
        {
          "output_type": "stream",
          "text": [
            "<type 'set'>\n"
          ],
          "name": "stdout"
        }
      ]
    },
    {
      "cell_type": "code",
      "metadata": {
        "id": "wk8Ka0LuHM-m",
        "colab_type": "code",
        "colab": {},
        "outputId": "f2e0be13-81c2-48ef-c7be-ee040176c6a8"
      },
      "source": [
        "set0 = set([1,2,2,3,3,4])\n",
        "print set0"
      ],
      "execution_count": null,
      "outputs": [
        {
          "output_type": "stream",
          "text": [
            "set([1, 2, 3, 4])\n"
          ],
          "name": "stdout"
        }
      ]
    },
    {
      "cell_type": "markdown",
      "metadata": {
        "id": "vMxogkzeHM-q",
        "colab_type": "text"
      },
      "source": [
        "elements 2,3 which are repeated twice are seen only once. Thus in a set each element is distinct."
      ]
    },
    {
      "cell_type": "markdown",
      "metadata": {
        "id": "_iInZaR6HM-q",
        "colab_type": "text"
      },
      "source": [
        "###Built-in Functions"
      ]
    },
    {
      "cell_type": "code",
      "metadata": {
        "id": "UXeqDrpXHM-r",
        "colab_type": "code",
        "colab": {}
      },
      "source": [
        "set1 = set([1,2,3])"
      ],
      "execution_count": null,
      "outputs": []
    },
    {
      "cell_type": "code",
      "metadata": {
        "id": "MtSK8Ze8HM-u",
        "colab_type": "code",
        "colab": {}
      },
      "source": [
        "set2 = set([2,3,4,5])"
      ],
      "execution_count": null,
      "outputs": []
    },
    {
      "cell_type": "markdown",
      "metadata": {
        "id": "mo6OrNWdHM-w",
        "colab_type": "text"
      },
      "source": [
        "**union( )** function returns a set which contains all the elements of both the sets without repition."
      ]
    },
    {
      "cell_type": "code",
      "metadata": {
        "id": "zZHjWDKoHM-x",
        "colab_type": "code",
        "colab": {},
        "outputId": "8894e08e-72c0-4ccf-b672-7fec39cd65cb"
      },
      "source": [
        "set1.union(set2)"
      ],
      "execution_count": null,
      "outputs": [
        {
          "output_type": "execute_result",
          "data": {
            "text/plain": [
              "{1, 2, 3, 4, 5}"
            ]
          },
          "metadata": {
            "tags": []
          },
          "execution_count": 68
        }
      ]
    },
    {
      "cell_type": "markdown",
      "metadata": {
        "id": "faYw4pJEHM-z",
        "colab_type": "text"
      },
      "source": [
        "**add( )** will add a particular element into the set. Note that the index of the newly added element is arbitrary and can be placed anywhere not neccessarily in the end."
      ]
    },
    {
      "cell_type": "code",
      "metadata": {
        "id": "rxRIhpd0HM-0",
        "colab_type": "code",
        "colab": {},
        "outputId": "c7178100-df68-4db1-f4ed-254eaf281340"
      },
      "source": [
        "set1.add(0)\n",
        "set1"
      ],
      "execution_count": null,
      "outputs": [
        {
          "output_type": "execute_result",
          "data": {
            "text/plain": [
              "{0, 1, 2, 3}"
            ]
          },
          "metadata": {
            "tags": []
          },
          "execution_count": 69
        }
      ]
    },
    {
      "cell_type": "markdown",
      "metadata": {
        "id": "exmgHSihHM-7",
        "colab_type": "text"
      },
      "source": [
        "**intersection( )** function outputs a set which contains all the elements that are in both sets."
      ]
    },
    {
      "cell_type": "code",
      "metadata": {
        "id": "i012Q2ozHM-8",
        "colab_type": "code",
        "colab": {},
        "outputId": "508ce8ec-d990-42af-b478-47010c91dd08"
      },
      "source": [
        "set1.intersection(set2)"
      ],
      "execution_count": null,
      "outputs": [
        {
          "output_type": "execute_result",
          "data": {
            "text/plain": [
              "{2, 3}"
            ]
          },
          "metadata": {
            "tags": []
          },
          "execution_count": 70
        }
      ]
    },
    {
      "cell_type": "markdown",
      "metadata": {
        "id": "Cr-HS3MgHM-_",
        "colab_type": "text"
      },
      "source": [
        "**difference( )** function ouptuts a set which contains elements that are in set1 and not in set2."
      ]
    },
    {
      "cell_type": "code",
      "metadata": {
        "id": "9bJ0naUrHM-_",
        "colab_type": "code",
        "colab": {},
        "outputId": "ecc184f7-5612-42b0-ffe8-0d6517703bcd"
      },
      "source": [
        "set1.difference(set2)"
      ],
      "execution_count": null,
      "outputs": [
        {
          "output_type": "execute_result",
          "data": {
            "text/plain": [
              "{0, 1}"
            ]
          },
          "metadata": {
            "tags": []
          },
          "execution_count": 71
        }
      ]
    },
    {
      "cell_type": "markdown",
      "metadata": {
        "id": "6HnNPSNDHM_D",
        "colab_type": "text"
      },
      "source": [
        "**symmetric_difference( )** function ouputs a function which contains elements that are in one of the sets."
      ]
    },
    {
      "cell_type": "code",
      "metadata": {
        "id": "vnh7nxTdHM_E",
        "colab_type": "code",
        "colab": {},
        "outputId": "402be7f6-1486-4d4a-8de2-f69f98b7bffc"
      },
      "source": [
        "set2.symmetric_difference(set1)"
      ],
      "execution_count": null,
      "outputs": [
        {
          "output_type": "execute_result",
          "data": {
            "text/plain": [
              "{0, 1, 4, 5}"
            ]
          },
          "metadata": {
            "tags": []
          },
          "execution_count": 72
        }
      ]
    },
    {
      "cell_type": "markdown",
      "metadata": {
        "id": "tcz0ClwgHM_H",
        "colab_type": "text"
      },
      "source": [
        "**issubset( ), isdisjoint( ), issuperset( )** is used to check if the set1/set2 is a subset, disjoint or superset of set2/set1 respectively."
      ]
    },
    {
      "cell_type": "code",
      "metadata": {
        "id": "BTL2-iWdHM_H",
        "colab_type": "code",
        "colab": {},
        "outputId": "e42e6427-d50e-41af-dfe2-22ed5ccec92d"
      },
      "source": [
        "set1.issubset(set2)"
      ],
      "execution_count": null,
      "outputs": [
        {
          "output_type": "execute_result",
          "data": {
            "text/plain": [
              "False"
            ]
          },
          "metadata": {
            "tags": []
          },
          "execution_count": 73
        }
      ]
    },
    {
      "cell_type": "code",
      "metadata": {
        "id": "5z6_w0dFHM_K",
        "colab_type": "code",
        "colab": {},
        "outputId": "776bf1f2-05f8-4200-ea2d-a38d0514d4ba"
      },
      "source": [
        "set2.isdisjoint(set1)"
      ],
      "execution_count": null,
      "outputs": [
        {
          "output_type": "execute_result",
          "data": {
            "text/plain": [
              "False"
            ]
          },
          "metadata": {
            "tags": []
          },
          "execution_count": 74
        }
      ]
    },
    {
      "cell_type": "code",
      "metadata": {
        "id": "gKHrY3G2HM_N",
        "colab_type": "code",
        "colab": {},
        "outputId": "f57f6510-d12d-4890-c139-92707bb4ce4e"
      },
      "source": [
        "set2.issuperset(set1)"
      ],
      "execution_count": null,
      "outputs": [
        {
          "output_type": "execute_result",
          "data": {
            "text/plain": [
              "False"
            ]
          },
          "metadata": {
            "tags": []
          },
          "execution_count": 75
        }
      ]
    },
    {
      "cell_type": "markdown",
      "metadata": {
        "id": "XuVW3S9DHM_P",
        "colab_type": "text"
      },
      "source": [
        "**pop( )** is used to remove an arbitrary element in the set"
      ]
    },
    {
      "cell_type": "code",
      "metadata": {
        "id": "3O2TqcTBHM_Q",
        "colab_type": "code",
        "colab": {},
        "outputId": "d9ae67c3-f3a2-49f5-8cba-09bfc29b033a"
      },
      "source": [
        "set1.pop()\n",
        "print set1"
      ],
      "execution_count": null,
      "outputs": [
        {
          "output_type": "stream",
          "text": [
            "set([1, 2, 3])\n"
          ],
          "name": "stdout"
        }
      ]
    },
    {
      "cell_type": "markdown",
      "metadata": {
        "id": "mpMHM3yBHM_S",
        "colab_type": "text"
      },
      "source": [
        "**remove( )** function deletes the specified element from the set."
      ]
    },
    {
      "cell_type": "code",
      "metadata": {
        "id": "DaQJNF1jHM_S",
        "colab_type": "code",
        "colab": {},
        "outputId": "caa96eae-08fb-4421-ac0b-7930f7882b8a"
      },
      "source": [
        "set1.remove(2)\n",
        "set1"
      ],
      "execution_count": null,
      "outputs": [
        {
          "output_type": "execute_result",
          "data": {
            "text/plain": [
              "{1, 3}"
            ]
          },
          "metadata": {
            "tags": []
          },
          "execution_count": 77
        }
      ]
    },
    {
      "cell_type": "markdown",
      "metadata": {
        "id": "-sFyKi3vHM_U",
        "colab_type": "text"
      },
      "source": [
        "**clear( )** is used to clear all the elements and make that set an empty set."
      ]
    },
    {
      "cell_type": "code",
      "metadata": {
        "id": "2rXOPtgJHM_U",
        "colab_type": "code",
        "colab": {},
        "outputId": "9d847910-8c5f-4ebd-c1a2-5bb05dad5862"
      },
      "source": [
        "set1.clear()\n",
        "set1"
      ],
      "execution_count": null,
      "outputs": [
        {
          "output_type": "execute_result",
          "data": {
            "text/plain": [
              "set()"
            ]
          },
          "metadata": {
            "tags": []
          },
          "execution_count": 78
        }
      ]
    }
  ]
}