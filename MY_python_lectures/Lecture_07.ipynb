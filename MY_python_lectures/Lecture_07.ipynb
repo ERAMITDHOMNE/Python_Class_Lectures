{
  "nbformat": 4,
  "nbformat_minor": 0,
  "metadata": {
    "kernelspec": {
      "display_name": "Python 2",
      "language": "python",
      "name": "python2"
    },
    "language_info": {
      "codemirror_mode": {
        "name": "ipython",
        "version": 2
      },
      "file_extension": ".py",
      "mimetype": "text/x-python",
      "name": "python",
      "nbconvert_exporter": "python",
      "pygments_lexer": "ipython2",
      "version": "2.7.10"
    },
    "colab": {
      "name": "07.ipynb",
      "provenance": []
    }
  },
  "cells": [
    {
      "cell_type": "markdown",
      "metadata": {
        "id": "eDL4Ea7wICPg",
        "colab_type": "text"
      },
      "source": [
        "#Classes"
      ]
    },
    {
      "cell_type": "markdown",
      "metadata": {
        "id": "_VqslfjEICPh",
        "colab_type": "text"
      },
      "source": [
        "Variables, Lists, Dictionaries etc in python is a object. Without getting into the theory part of Object Oriented Programming, explanation of the concepts will be done along this tutorial."
      ]
    },
    {
      "cell_type": "markdown",
      "metadata": {
        "id": "aySMqPp8ICPj",
        "colab_type": "text"
      },
      "source": [
        "A class is declared as follows"
      ]
    },
    {
      "cell_type": "markdown",
      "metadata": {
        "id": "j64XV8JsICPk",
        "colab_type": "text"
      },
      "source": [
        "class class_name:\n",
        "\n",
        "    Functions"
      ]
    },
    {
      "cell_type": "code",
      "metadata": {
        "id": "QaDf5Dn1ICPl",
        "colab_type": "code",
        "colab": {}
      },
      "source": [
        "class FirstClass:\n",
        "    pass"
      ],
      "execution_count": null,
      "outputs": []
    },
    {
      "cell_type": "markdown",
      "metadata": {
        "id": "dvfTX3ZrICPt",
        "colab_type": "text"
      },
      "source": [
        "**pass** in python means do nothing. "
      ]
    },
    {
      "cell_type": "markdown",
      "metadata": {
        "id": "u7_kuSPRICPu",
        "colab_type": "text"
      },
      "source": [
        "Above, a class object named \"FirstClass\" is declared now consider a \"egclass\" which has all the characteristics of \"FirstClass\". So all you have to do is, equate the \"egclass\" to \"FirstClass\". In python jargon this is called as creating an instance. \"egclass\" is the instance of \"FirstClass\""
      ]
    },
    {
      "cell_type": "code",
      "metadata": {
        "id": "F8LTELd8ICPw",
        "colab_type": "code",
        "colab": {}
      },
      "source": [
        "egclass = FirstClass()"
      ],
      "execution_count": null,
      "outputs": []
    },
    {
      "cell_type": "code",
      "metadata": {
        "id": "eaOi8RlxICP0",
        "colab_type": "code",
        "colab": {},
        "outputId": "9b701a89-210e-41dd-9579-897fb0090a3e"
      },
      "source": [
        "type(egclass)"
      ],
      "execution_count": null,
      "outputs": [
        {
          "output_type": "execute_result",
          "data": {
            "text/plain": [
              "instance"
            ]
          },
          "metadata": {
            "tags": []
          },
          "execution_count": 3
        }
      ]
    },
    {
      "cell_type": "code",
      "metadata": {
        "id": "zPxnSOmoICP5",
        "colab_type": "code",
        "colab": {},
        "outputId": "996a08b5-57ae-4636-e1a9-cdd98542c891"
      },
      "source": [
        "type(FirstClass)"
      ],
      "execution_count": null,
      "outputs": [
        {
          "output_type": "execute_result",
          "data": {
            "text/plain": [
              "classobj"
            ]
          },
          "metadata": {
            "tags": []
          },
          "execution_count": 4
        }
      ]
    },
    {
      "cell_type": "markdown",
      "metadata": {
        "id": "6LfEjRysICP8",
        "colab_type": "text"
      },
      "source": [
        "Now let us add some \"functionality\" to the class. So that our \"FirstClass\" is defined in a better way. A function inside a class is called as a \"Method\" of that class"
      ]
    },
    {
      "cell_type": "markdown",
      "metadata": {
        "id": "8OV4tNhRICP9",
        "colab_type": "text"
      },
      "source": [
        "Most of the classes will have a function named \"\\_\\_init\\_\\_\". These are called as magic methods. In this method you basically initialize the variables of that class or any other initial algorithms which is applicable to all methods is specified in this method. A variable inside a class is called an attribute."
      ]
    },
    {
      "cell_type": "markdown",
      "metadata": {
        "id": "riYZTQVMICP-",
        "colab_type": "text"
      },
      "source": [
        "These helps simplify the process of initializing a instance. For example,\n",
        "\n",
        "Without the use of magic method or \\_\\_init\\_\\_ which is otherwise called as constructors. One had to define a **init( )** method and call the **init( )** function."
      ]
    },
    {
      "cell_type": "code",
      "metadata": {
        "id": "Nic4V1SvICP-",
        "colab_type": "code",
        "colab": {}
      },
      "source": [
        "eg0 = FirstClass()\n",
        "eg0.init()"
      ],
      "execution_count": null,
      "outputs": []
    },
    {
      "cell_type": "markdown",
      "metadata": {
        "id": "0Rse_4fsICQC",
        "colab_type": "text"
      },
      "source": [
        "But when the constructor is defined the \\_\\_init\\_\\_ is called thus intializing the instance created. "
      ]
    },
    {
      "cell_type": "markdown",
      "metadata": {
        "id": "hXgBFOHOICQD",
        "colab_type": "text"
      },
      "source": [
        "We will make our \"FirstClass\" to accept two variables name and symbol.\n",
        "\n",
        "I will be explaining about the \"self\" in a while."
      ]
    },
    {
      "cell_type": "code",
      "metadata": {
        "id": "-5Lge1e6ICQD",
        "colab_type": "code",
        "colab": {}
      },
      "source": [
        "class FirstClass:\n",
        "    def __init__(self,name,symbol):\n",
        "        self.name = name\n",
        "        self.symbol = symbol"
      ],
      "execution_count": null,
      "outputs": []
    },
    {
      "cell_type": "markdown",
      "metadata": {
        "id": "bEi0D2j7ICQI",
        "colab_type": "text"
      },
      "source": [
        "Now that we have defined a function and added the \\_\\_init\\_\\_ method. We can create a instance of FirstClass which now accepts two arguments. "
      ]
    },
    {
      "cell_type": "code",
      "metadata": {
        "id": "fDc3V6roICQJ",
        "colab_type": "code",
        "colab": {}
      },
      "source": [
        "eg1 = FirstClass('one',1)\n",
        "eg2 = FirstClass('two',2)"
      ],
      "execution_count": null,
      "outputs": []
    },
    {
      "cell_type": "code",
      "metadata": {
        "id": "CXW5uJjVICQT",
        "colab_type": "code",
        "colab": {},
        "outputId": "cd412935-1bd3-457e-eb08-b90d0e0d9d00"
      },
      "source": [
        "print eg1.name, eg1.symbol\n",
        "print eg2.name, eg2.symbol"
      ],
      "execution_count": null,
      "outputs": [
        {
          "output_type": "stream",
          "text": [
            "one 1\n",
            "two 2\n"
          ],
          "name": "stdout"
        }
      ]
    },
    {
      "cell_type": "markdown",
      "metadata": {
        "id": "OtHHeNYLICQY",
        "colab_type": "text"
      },
      "source": [
        "**dir( )** function comes very handy in looking into what the class contains and what all method it offers"
      ]
    },
    {
      "cell_type": "code",
      "metadata": {
        "id": "5YThBPs1ICQZ",
        "colab_type": "code",
        "colab": {},
        "outputId": "67b8ac64-ae2b-4b00-d5f0-8a5aa963c352"
      },
      "source": [
        "dir(FirstClass)"
      ],
      "execution_count": null,
      "outputs": [
        {
          "output_type": "execute_result",
          "data": {
            "text/plain": [
              "['__doc__', '__init__', '__module__']"
            ]
          },
          "metadata": {
            "tags": []
          },
          "execution_count": 9
        }
      ]
    },
    {
      "cell_type": "markdown",
      "metadata": {
        "id": "bCohZPuoICQf",
        "colab_type": "text"
      },
      "source": [
        "**dir( )** of an instance also shows it's defined attributes."
      ]
    },
    {
      "cell_type": "code",
      "metadata": {
        "id": "MFonRsKnICQg",
        "colab_type": "code",
        "colab": {},
        "outputId": "d60c731b-efbb-4a1a-e3e7-0e4f49e615ae"
      },
      "source": [
        "dir(eg1)"
      ],
      "execution_count": null,
      "outputs": [
        {
          "output_type": "execute_result",
          "data": {
            "text/plain": [
              "['__doc__', '__init__', '__module__', 'name', 'symbol']"
            ]
          },
          "metadata": {
            "tags": []
          },
          "execution_count": 10
        }
      ]
    },
    {
      "cell_type": "markdown",
      "metadata": {
        "id": "sIcjDOrsICQl",
        "colab_type": "text"
      },
      "source": [
        "Changing the FirstClass function a bit,"
      ]
    },
    {
      "cell_type": "code",
      "metadata": {
        "id": "UiNBTtsNICQm",
        "colab_type": "code",
        "colab": {}
      },
      "source": [
        "class FirstClass:\n",
        "    def __init__(self,name,symbol):\n",
        "        self.n = name\n",
        "        self.s = symbol"
      ],
      "execution_count": null,
      "outputs": []
    },
    {
      "cell_type": "markdown",
      "metadata": {
        "id": "to4J3BDzICQq",
        "colab_type": "text"
      },
      "source": [
        "Changing self.name and self.symbol to self.n and self.s respectively will yield,"
      ]
    },
    {
      "cell_type": "code",
      "metadata": {
        "id": "uu3C4nJyICQr",
        "colab_type": "code",
        "colab": {}
      },
      "source": [
        "eg1 = FirstClass('one',1)\n",
        "eg2 = FirstClass('two',2)"
      ],
      "execution_count": null,
      "outputs": []
    },
    {
      "cell_type": "code",
      "metadata": {
        "id": "ikKLN59rICQw",
        "colab_type": "code",
        "colab": {},
        "outputId": "91a8f6e7-c517-455d-fd60-8efe5c774ea2"
      },
      "source": [
        "print eg1.name, eg1.symbol\n",
        "print eg2.name, eg2.symbol"
      ],
      "execution_count": null,
      "outputs": [
        {
          "output_type": "error",
          "ename": "AttributeError",
          "evalue": "FirstClass instance has no attribute 'name'",
          "traceback": [
            "\u001b[0;31m---------------------------------------------------------------------------\u001b[0m",
            "\u001b[0;31mAttributeError\u001b[0m                            Traceback (most recent call last)",
            "\u001b[0;32m<ipython-input-13-3717d682d1cf>\u001b[0m in \u001b[0;36m<module>\u001b[0;34m()\u001b[0m\n\u001b[0;32m----> 1\u001b[0;31m \u001b[0;32mprint\u001b[0m \u001b[0meg1\u001b[0m\u001b[0;34m.\u001b[0m\u001b[0mname\u001b[0m\u001b[0;34m,\u001b[0m \u001b[0meg1\u001b[0m\u001b[0;34m.\u001b[0m\u001b[0msymbol\u001b[0m\u001b[0;34m\u001b[0m\u001b[0m\n\u001b[0m\u001b[1;32m      2\u001b[0m \u001b[0;32mprint\u001b[0m \u001b[0meg2\u001b[0m\u001b[0;34m.\u001b[0m\u001b[0mname\u001b[0m\u001b[0;34m,\u001b[0m \u001b[0meg2\u001b[0m\u001b[0;34m.\u001b[0m\u001b[0msymbol\u001b[0m\u001b[0;34m\u001b[0m\u001b[0m\n",
            "\u001b[0;31mAttributeError\u001b[0m: FirstClass instance has no attribute 'name'"
          ]
        }
      ]
    },
    {
      "cell_type": "markdown",
      "metadata": {
        "id": "e7Td0Y6tICQ0",
        "colab_type": "text"
      },
      "source": [
        "AttributeError, Remember variables are nothing but attributes inside a class? So this means we have not given the correct attribute for the instance."
      ]
    },
    {
      "cell_type": "code",
      "metadata": {
        "id": "MchhhqASICQ1",
        "colab_type": "code",
        "colab": {},
        "outputId": "3f91b734-f413-46c9-c93e-4f179b0fbf5e"
      },
      "source": [
        "dir(eg1)"
      ],
      "execution_count": null,
      "outputs": [
        {
          "output_type": "execute_result",
          "data": {
            "text/plain": [
              "['__doc__', '__init__', '__module__', 'n', 's']"
            ]
          },
          "metadata": {
            "tags": []
          },
          "execution_count": 14
        }
      ]
    },
    {
      "cell_type": "code",
      "metadata": {
        "id": "235PYgTVICQ6",
        "colab_type": "code",
        "colab": {},
        "outputId": "58cb71e0-862d-4993-91a0-933b7c777af6"
      },
      "source": [
        "print eg1.n, eg1.s\n",
        "print eg2.n, eg2.s"
      ],
      "execution_count": null,
      "outputs": [
        {
          "output_type": "stream",
          "text": [
            "one 1\n",
            "two 2\n"
          ],
          "name": "stdout"
        }
      ]
    },
    {
      "cell_type": "markdown",
      "metadata": {
        "id": "ixa658VxICQ_",
        "colab_type": "text"
      },
      "source": [
        "So now we have solved the error. Now let us compare the two examples that we saw.\n",
        "\n",
        "When I declared self.name and self.symbol, there was no attribute error for eg1.name and eg1.symbol and when I declared self.n and self.s, there was no attribute error for eg1.n and eg1.s\n",
        "\n",
        "From the above we can conclude that self is nothing but the instance itself.\n",
        "\n",
        "Remember, self is not predefined it is userdefined. You can make use of anything you are comfortable with. But it has become a common practice to use self."
      ]
    },
    {
      "cell_type": "code",
      "metadata": {
        "id": "I8ueM_ApICRA",
        "colab_type": "code",
        "colab": {}
      },
      "source": [
        "class FirstClass:\n",
        "    def __init__(asdf1234,name,symbol):\n",
        "        asdf1234.n = name\n",
        "        asdf1234.s = symbol"
      ],
      "execution_count": null,
      "outputs": []
    },
    {
      "cell_type": "code",
      "metadata": {
        "id": "3vgR050KICRE",
        "colab_type": "code",
        "colab": {}
      },
      "source": [
        "eg1 = FirstClass('one',1)\n",
        "eg2 = FirstClass('two',2)"
      ],
      "execution_count": null,
      "outputs": []
    },
    {
      "cell_type": "code",
      "metadata": {
        "id": "nfMFd-_UICRH",
        "colab_type": "code",
        "colab": {},
        "outputId": "2a4ba0dd-304e-4241-a817-08724900eb18"
      },
      "source": [
        "print eg1.n, eg1.s\n",
        "print eg2.n, eg2.s"
      ],
      "execution_count": null,
      "outputs": [
        {
          "output_type": "stream",
          "text": [
            "one 1\n",
            "two 2\n"
          ],
          "name": "stdout"
        }
      ]
    },
    {
      "cell_type": "markdown",
      "metadata": {
        "id": "qTJ1AKGsICRL",
        "colab_type": "text"
      },
      "source": [
        "Since eg1 and eg2 are instances of FirstClass it need not necessarily be limited to FirstClass itself. It might extend itself by declaring other attributes without having the attribute to be declared inside the FirstClass."
      ]
    },
    {
      "cell_type": "code",
      "metadata": {
        "id": "wN4k00-kICRL",
        "colab_type": "code",
        "colab": {}
      },
      "source": [
        "eg1.cube = 1\n",
        "eg2.cube = 8"
      ],
      "execution_count": null,
      "outputs": []
    },
    {
      "cell_type": "code",
      "metadata": {
        "id": "mHMopSB3ICRO",
        "colab_type": "code",
        "colab": {},
        "outputId": "b221bb98-2dbc-4f04-8dc1-2febeee44e9c"
      },
      "source": [
        "dir(eg1)"
      ],
      "execution_count": null,
      "outputs": [
        {
          "output_type": "execute_result",
          "data": {
            "text/plain": [
              "['__doc__', '__init__', '__module__', 'cube', 'n', 's']"
            ]
          },
          "metadata": {
            "tags": []
          },
          "execution_count": 20
        }
      ]
    },
    {
      "cell_type": "markdown",
      "metadata": {
        "collapsed": true,
        "id": "ab90qj9SICRS",
        "colab_type": "text"
      },
      "source": [
        "Just like global and local variables as we saw earlier, even classes have it's own types of variables.\n",
        "\n",
        "Class Attribute : attributes defined outside the method and is applicable to all the instances.\n",
        "\n",
        "Instance Attribute : attributes defined inside a method and is applicable to only that method and is unique to each instance."
      ]
    },
    {
      "cell_type": "code",
      "metadata": {
        "id": "R1-0OvTYICRU",
        "colab_type": "code",
        "colab": {}
      },
      "source": [
        "class FirstClass:\n",
        "    test = 'test'\n",
        "    def __init__(self,name,symbol):\n",
        "        self.name = name\n",
        "        self.symbol = symbol"
      ],
      "execution_count": null,
      "outputs": []
    },
    {
      "cell_type": "markdown",
      "metadata": {
        "id": "Erhe4ua1ICRa",
        "colab_type": "text"
      },
      "source": [
        "Here test is a class attribute and name is a instance attribute."
      ]
    },
    {
      "cell_type": "code",
      "metadata": {
        "id": "SoqfS7oTICRb",
        "colab_type": "code",
        "colab": {}
      },
      "source": [
        "eg3 = FirstClass('Three',3)"
      ],
      "execution_count": null,
      "outputs": []
    },
    {
      "cell_type": "code",
      "metadata": {
        "id": "vOnJcVQjICRf",
        "colab_type": "code",
        "colab": {},
        "outputId": "bae15646-f92e-4027-e11e-07c5b6a41bcb"
      },
      "source": [
        "print eg3.test, eg3.name"
      ],
      "execution_count": null,
      "outputs": [
        {
          "output_type": "stream",
          "text": [
            "test Three\n"
          ],
          "name": "stdout"
        }
      ]
    },
    {
      "cell_type": "markdown",
      "metadata": {
        "id": "n_IPNKC-ICRj",
        "colab_type": "text"
      },
      "source": [
        "Let us add some more methods to FirstClass."
      ]
    },
    {
      "cell_type": "code",
      "metadata": {
        "id": "XvyoPlEJICRj",
        "colab_type": "code",
        "colab": {}
      },
      "source": [
        "class FirstClass:\n",
        "    def __init__(self,name,symbol):\n",
        "        self.name = name\n",
        "        self.symbol = symbol\n",
        "    def square(self):\n",
        "        return self.symbol * self.symbol\n",
        "    def cube(self):\n",
        "        return self.symbol * self.symbol * self.symbol\n",
        "    def multiply(self, x):\n",
        "        return self.symbol * x"
      ],
      "execution_count": null,
      "outputs": []
    },
    {
      "cell_type": "code",
      "metadata": {
        "id": "__WU8o2bICRn",
        "colab_type": "code",
        "colab": {}
      },
      "source": [
        "eg4 = FirstClass('Five',5)"
      ],
      "execution_count": null,
      "outputs": []
    },
    {
      "cell_type": "code",
      "metadata": {
        "id": "W1dMTY-yICRq",
        "colab_type": "code",
        "colab": {},
        "outputId": "05b59b9d-2f5f-4173-e697-a05b78b8f2a1"
      },
      "source": [
        "print eg4.square()\n",
        "print eg4.cube()"
      ],
      "execution_count": null,
      "outputs": [
        {
          "output_type": "stream",
          "text": [
            "25\n",
            "125\n"
          ],
          "name": "stdout"
        }
      ]
    },
    {
      "cell_type": "code",
      "metadata": {
        "id": "6NmFXsJzICRu",
        "colab_type": "code",
        "colab": {},
        "outputId": "44d3d942-2a9d-47c7-914e-9530adf34665"
      },
      "source": [
        "eg4.multiply(2)"
      ],
      "execution_count": null,
      "outputs": [
        {
          "output_type": "execute_result",
          "data": {
            "text/plain": [
              "10"
            ]
          },
          "metadata": {
            "tags": []
          },
          "execution_count": 27
        }
      ]
    },
    {
      "cell_type": "markdown",
      "metadata": {
        "id": "3O3kI99RICRz",
        "colab_type": "text"
      },
      "source": [
        "The above can also be written as,"
      ]
    },
    {
      "cell_type": "code",
      "metadata": {
        "id": "1ugEZi0fICRz",
        "colab_type": "code",
        "colab": {},
        "outputId": "4b6f67dc-f361-4b2c-d2fb-f2f04b0f33b7"
      },
      "source": [
        "FirstClass.multiply(eg4,2)"
      ],
      "execution_count": null,
      "outputs": [
        {
          "output_type": "execute_result",
          "data": {
            "text/plain": [
              "10"
            ]
          },
          "metadata": {
            "tags": []
          },
          "execution_count": 28
        }
      ]
    },
    {
      "cell_type": "markdown",
      "metadata": {
        "id": "p_m9BzsKICR4",
        "colab_type": "text"
      },
      "source": [
        "##Inheritance"
      ]
    },
    {
      "cell_type": "markdown",
      "metadata": {
        "id": "A_LhDjlAICR5",
        "colab_type": "text"
      },
      "source": [
        "There might be cases where a new class would have all the previous characteristics of an already defined class. So the new class can \"inherit\" the previous class and add it's own methods to it. This is called as inheritance."
      ]
    },
    {
      "cell_type": "markdown",
      "metadata": {
        "id": "DIgxbjmMICR6",
        "colab_type": "text"
      },
      "source": [
        "Consider class SoftwareEngineer which has a method salary."
      ]
    },
    {
      "cell_type": "code",
      "metadata": {
        "id": "n3HGHQdxICR7",
        "colab_type": "code",
        "colab": {}
      },
      "source": [
        "class SoftwareEngineer:\n",
        "    def __init__(self,name,age):\n",
        "        self.name = name\n",
        "        self.age = age\n",
        "    def salary(self, value):\n",
        "        self.money = value\n",
        "        print self.name,\"earns\",self.money"
      ],
      "execution_count": null,
      "outputs": []
    },
    {
      "cell_type": "code",
      "metadata": {
        "id": "WLQ9qpt4ICR-",
        "colab_type": "code",
        "colab": {}
      },
      "source": [
        "a = SoftwareEngineer('Kartik',26)"
      ],
      "execution_count": null,
      "outputs": []
    },
    {
      "cell_type": "code",
      "metadata": {
        "id": "d331iqoRICSG",
        "colab_type": "code",
        "colab": {},
        "outputId": "f444ec05-957d-477c-b662-ed810bed9a23"
      },
      "source": [
        "a.salary(40000)"
      ],
      "execution_count": null,
      "outputs": [
        {
          "output_type": "stream",
          "text": [
            "Kartik earns 40000\n"
          ],
          "name": "stdout"
        }
      ]
    },
    {
      "cell_type": "code",
      "metadata": {
        "id": "_pP9O09wICSM",
        "colab_type": "code",
        "colab": {},
        "outputId": "68833eb5-bd81-4b71-f436-c8382d472c71"
      },
      "source": [
        "dir(SoftwareEngineer)"
      ],
      "execution_count": null,
      "outputs": [
        {
          "output_type": "execute_result",
          "data": {
            "text/plain": [
              "['__doc__', '__init__', '__module__', 'salary']"
            ]
          },
          "metadata": {
            "tags": []
          },
          "execution_count": 32
        }
      ]
    },
    {
      "cell_type": "markdown",
      "metadata": {
        "id": "JK0l66rAICSP",
        "colab_type": "text"
      },
      "source": [
        "Now consider another class Artist which tells us about the amount of money an artist earns and his artform."
      ]
    },
    {
      "cell_type": "code",
      "metadata": {
        "id": "3vvuORWeICSP",
        "colab_type": "code",
        "colab": {}
      },
      "source": [
        "class Artist:\n",
        "    def __init__(self,name,age):\n",
        "        self.name = name\n",
        "        self.age = age\n",
        "    def money(self,value):\n",
        "        self.money = value\n",
        "        print self.name,\"earns\",self.money\n",
        "    def artform(self, job):\n",
        "        self.job = job\n",
        "        print self.name,\"is a\", self.job"
      ],
      "execution_count": null,
      "outputs": []
    },
    {
      "cell_type": "code",
      "metadata": {
        "id": "g5aONgscICSS",
        "colab_type": "code",
        "colab": {}
      },
      "source": [
        "b = Artist('Nitin',20)"
      ],
      "execution_count": null,
      "outputs": []
    },
    {
      "cell_type": "code",
      "metadata": {
        "id": "_SALeqMlICSV",
        "colab_type": "code",
        "colab": {},
        "outputId": "732be7eb-317a-46f6-c964-e325bb16d38c"
      },
      "source": [
        "b.money(50000)\n",
        "b.artform('Musician')"
      ],
      "execution_count": null,
      "outputs": [
        {
          "output_type": "stream",
          "text": [
            "Nitin earns 50000\n",
            "Nitin is a Musician\n"
          ],
          "name": "stdout"
        }
      ]
    },
    {
      "cell_type": "code",
      "metadata": {
        "id": "9wEKwMlOICSa",
        "colab_type": "code",
        "colab": {},
        "outputId": "3fb0de39-d3fa-4a4f-83db-05078b2d6e92"
      },
      "source": [
        "dir(Artist)"
      ],
      "execution_count": null,
      "outputs": [
        {
          "output_type": "execute_result",
          "data": {
            "text/plain": [
              "['__doc__', '__init__', '__module__', 'artform', 'money']"
            ]
          },
          "metadata": {
            "tags": []
          },
          "execution_count": 36
        }
      ]
    },
    {
      "cell_type": "markdown",
      "metadata": {
        "id": "MlaL_5NWICSi",
        "colab_type": "text"
      },
      "source": [
        "money method and salary method are the same. So we can generalize the method to salary and inherit the SoftwareEngineer class to Artist class. Now the artist class becomes,"
      ]
    },
    {
      "cell_type": "code",
      "metadata": {
        "id": "OvlU6mQBICSi",
        "colab_type": "code",
        "colab": {}
      },
      "source": [
        "class Artist(SoftwareEngineer):\n",
        "    def artform(self, job):\n",
        "        self.job = job\n",
        "        print self.name,\"is a\", self.job"
      ],
      "execution_count": null,
      "outputs": []
    },
    {
      "cell_type": "code",
      "metadata": {
        "id": "URk2nodbICSn",
        "colab_type": "code",
        "colab": {}
      },
      "source": [
        "c = Artist('Nishanth',21)"
      ],
      "execution_count": null,
      "outputs": []
    },
    {
      "cell_type": "code",
      "metadata": {
        "id": "7b-d-g_aICSs",
        "colab_type": "code",
        "colab": {},
        "outputId": "ceeabafa-655f-4096-8101-21b9598f4461"
      },
      "source": [
        "dir(Artist)"
      ],
      "execution_count": null,
      "outputs": [
        {
          "output_type": "execute_result",
          "data": {
            "text/plain": [
              "['__doc__', '__init__', '__module__', 'artform', 'salary']"
            ]
          },
          "metadata": {
            "tags": []
          },
          "execution_count": 39
        }
      ]
    },
    {
      "cell_type": "code",
      "metadata": {
        "id": "C06oJyQYICSy",
        "colab_type": "code",
        "colab": {},
        "outputId": "24a4cbd0-3961-4d6e-955e-94d609cb277a"
      },
      "source": [
        "c.salary(60000)\n",
        "c.artform('Dancer')"
      ],
      "execution_count": null,
      "outputs": [
        {
          "output_type": "stream",
          "text": [
            "Nishanth earns 60000\n",
            "Nishanth is a Dancer\n"
          ],
          "name": "stdout"
        }
      ]
    },
    {
      "cell_type": "markdown",
      "metadata": {
        "id": "jeLiXtvNICS1",
        "colab_type": "text"
      },
      "source": [
        "Suppose say while inheriting a particular method is not suitable for the new class. One can override this method by defining again that method with the same name inside the new class."
      ]
    },
    {
      "cell_type": "code",
      "metadata": {
        "id": "2SeMocImICS1",
        "colab_type": "code",
        "colab": {}
      },
      "source": [
        "class Artist(SoftwareEngineer):\n",
        "    def artform(self, job):\n",
        "        self.job = job\n",
        "        print self.name,\"is a\", self.job\n",
        "    def salary(self, value):\n",
        "        self.money = value\n",
        "        print self.name,\"earns\",self.money\n",
        "        print \"I am overriding the SoftwareEngineer class's salary method\""
      ],
      "execution_count": null,
      "outputs": []
    },
    {
      "cell_type": "code",
      "metadata": {
        "id": "fRKaAiT7ICS6",
        "colab_type": "code",
        "colab": {}
      },
      "source": [
        "c = Artist('Nishanth',21)"
      ],
      "execution_count": null,
      "outputs": []
    },
    {
      "cell_type": "code",
      "metadata": {
        "id": "_DsoV1BdICS8",
        "colab_type": "code",
        "colab": {},
        "outputId": "0233a930-d33d-4744-ec13-add1842fabd7"
      },
      "source": [
        "c.salary(60000)\n",
        "c.artform('Dancer')"
      ],
      "execution_count": null,
      "outputs": [
        {
          "output_type": "stream",
          "text": [
            "Nishanth earns 60000\n",
            "I am overriding the SoftwareEngineer class's salary method\n",
            "Nishanth is a Dancer\n"
          ],
          "name": "stdout"
        }
      ]
    },
    {
      "cell_type": "markdown",
      "metadata": {
        "id": "c0eX_1oCICS_",
        "colab_type": "text"
      },
      "source": [
        "If not sure how many times methods will be called it will become difficult to declare so many variables to carry each result hence it is better to declare a list and append the result."
      ]
    },
    {
      "cell_type": "code",
      "metadata": {
        "id": "lpPD2PoqICTA",
        "colab_type": "code",
        "colab": {}
      },
      "source": [
        "class emptylist:\n",
        "    def __init__(self):\n",
        "        self.data = []\n",
        "    def one(self,x):\n",
        "        self.data.append(x)\n",
        "    def two(self, x ):\n",
        "        self.data.append(x**2)\n",
        "    def three(self, x):\n",
        "        self.data.append(x**3)"
      ],
      "execution_count": null,
      "outputs": []
    },
    {
      "cell_type": "code",
      "metadata": {
        "id": "WkqRvhiaICTF",
        "colab_type": "code",
        "colab": {}
      },
      "source": [
        "xc = emptylist()"
      ],
      "execution_count": null,
      "outputs": []
    },
    {
      "cell_type": "code",
      "metadata": {
        "id": "ijO2cduxICTL",
        "colab_type": "code",
        "colab": {},
        "outputId": "2e881b10-df78-46f4-ef62-50a95a709d28"
      },
      "source": [
        "xc.one(1)\n",
        "print xc.data"
      ],
      "execution_count": null,
      "outputs": [
        {
          "output_type": "stream",
          "text": [
            "[1]\n"
          ],
          "name": "stdout"
        }
      ]
    },
    {
      "cell_type": "markdown",
      "metadata": {
        "id": "EwapqRf0ICTP",
        "colab_type": "text"
      },
      "source": [
        "Since xc.data is a list direct list operations can also be performed."
      ]
    },
    {
      "cell_type": "code",
      "metadata": {
        "id": "xBu6yXMYICTP",
        "colab_type": "code",
        "colab": {},
        "outputId": "5c2b277f-2858-496b-b5ae-d03ceb1a49f5"
      },
      "source": [
        "xc.data.append(8)\n",
        "print xc.data"
      ],
      "execution_count": null,
      "outputs": [
        {
          "output_type": "stream",
          "text": [
            "[1, 8]\n"
          ],
          "name": "stdout"
        }
      ]
    },
    {
      "cell_type": "code",
      "metadata": {
        "id": "6cGGwHT9ICTT",
        "colab_type": "code",
        "colab": {},
        "outputId": "93ba16af-1973-438f-e985-26c885fa03a4"
      },
      "source": [
        "xc.two(3)\n",
        "print xc.data"
      ],
      "execution_count": null,
      "outputs": [
        {
          "output_type": "stream",
          "text": [
            "[1, 8, 9]\n"
          ],
          "name": "stdout"
        }
      ]
    },
    {
      "cell_type": "markdown",
      "metadata": {
        "id": "OnpimncKICTY",
        "colab_type": "text"
      },
      "source": [
        "If the number of input arguments varies from instance to instance asterisk can be used as shown."
      ]
    },
    {
      "cell_type": "code",
      "metadata": {
        "id": "wWaVhelrICTa",
        "colab_type": "code",
        "colab": {}
      },
      "source": [
        "class NotSure:\n",
        "    def __init__(self, *args):\n",
        "        self.data = ''.join(list(args)) "
      ],
      "execution_count": null,
      "outputs": []
    },
    {
      "cell_type": "code",
      "metadata": {
        "id": "Q67RNLoJICTf",
        "colab_type": "code",
        "colab": {}
      },
      "source": [
        "yz = NotSure('I', 'Do' , 'Not', 'Know', 'What', 'To','Type')"
      ],
      "execution_count": null,
      "outputs": []
    },
    {
      "cell_type": "code",
      "metadata": {
        "id": "c-zOU0V0ICTk",
        "colab_type": "code",
        "colab": {},
        "outputId": "65d8e6e1-65fe-47af-c202-2603de4996f0"
      },
      "source": [
        "yz.data"
      ],
      "execution_count": null,
      "outputs": [
        {
          "output_type": "execute_result",
          "data": {
            "text/plain": [
              "'IDoNotKnowWhatToType'"
            ]
          },
          "metadata": {
            "tags": []
          },
          "execution_count": 51
        }
      ]
    },
    {
      "cell_type": "markdown",
      "metadata": {
        "id": "CJFO5gpkICTp",
        "colab_type": "text"
      },
      "source": [
        "Practice alone can help you get the hang of python. Give your self problem statements and solve them. You can also sign up to any competitive coding platform for problem statements. The more you code the more you discover and the more you start appreciating the language.\n",
        "\n",
        "\n",
        "Now that you have been introduced to python, You can try out the different python libraries in the field of your interest. I highly recommend you to check out this curated list of Python frameworks, libraries and software http://awesome-python.com\n",
        "\n",
        "\n",
        "The official python documentation : https://docs.python.org/2/\n",
        "\n",
        "\n"
      ]
    }
  ]
}