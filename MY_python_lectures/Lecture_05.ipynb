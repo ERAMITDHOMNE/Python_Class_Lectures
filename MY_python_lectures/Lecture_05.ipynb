{
  "nbformat": 4,
  "nbformat_minor": 0,
  "metadata": {
    "kernelspec": {
      "display_name": "Python 2",
      "language": "python",
      "name": "python2"
    },
    "language_info": {
      "codemirror_mode": {
        "name": "ipython",
        "version": 2
      },
      "file_extension": ".py",
      "mimetype": "text/x-python",
      "name": "python",
      "nbconvert_exporter": "python",
      "pygments_lexer": "ipython2",
      "version": "2.7.10"
    },
    "colab": {
      "name": "05.ipynb",
      "provenance": []
    }
  },
  "cells": [
    {
      "cell_type": "markdown",
      "metadata": {
        "id": "8CwMeF8zHmny",
        "colab_type": "text"
      },
      "source": [
        "#Control Flow Statements"
      ]
    },
    {
      "cell_type": "markdown",
      "metadata": {
        "id": "E154NRhlHmn0",
        "colab_type": "text"
      },
      "source": [
        "##If"
      ]
    },
    {
      "cell_type": "markdown",
      "metadata": {
        "id": "Qh9BARMcHmn1",
        "colab_type": "text"
      },
      "source": [
        "if some_condition:\n",
        "    \n",
        "    algorithm"
      ]
    },
    {
      "cell_type": "code",
      "metadata": {
        "id": "oF2n8-XIHmn2",
        "colab_type": "code",
        "colab": {},
        "outputId": "6e9ef2af-5df6-4928-e5c5-2056c96500ee"
      },
      "source": [
        "x = 12\n",
        "if x >10:\n",
        "    print \"Hello\""
      ],
      "execution_count": null,
      "outputs": [
        {
          "output_type": "stream",
          "text": [
            "Hello\n"
          ],
          "name": "stdout"
        }
      ]
    },
    {
      "cell_type": "markdown",
      "metadata": {
        "id": "HOKa63AzHmn_",
        "colab_type": "text"
      },
      "source": [
        "##If-else"
      ]
    },
    {
      "cell_type": "markdown",
      "metadata": {
        "id": "6c7iIBAFHmoA",
        "colab_type": "text"
      },
      "source": [
        "if some_condition:\n",
        "    \n",
        "    algorithm\n",
        "    \n",
        "else:\n",
        "    \n",
        "    algorithm"
      ]
    },
    {
      "cell_type": "code",
      "metadata": {
        "id": "n-Nh-JD5HmoB",
        "colab_type": "code",
        "colab": {},
        "outputId": "22cd11ed-385b-4935-95b9-392126feaf98"
      },
      "source": [
        "x = 12\n",
        "if x > 10:\n",
        "    print \"hello\"\n",
        "else:\n",
        "    print \"world\""
      ],
      "execution_count": null,
      "outputs": [
        {
          "output_type": "stream",
          "text": [
            "hello\n"
          ],
          "name": "stdout"
        }
      ]
    },
    {
      "cell_type": "markdown",
      "metadata": {
        "id": "CZSBi7qOHmoF",
        "colab_type": "text"
      },
      "source": [
        "##if-elif"
      ]
    },
    {
      "cell_type": "markdown",
      "metadata": {
        "collapsed": false,
        "id": "imwsjCa5HmoG",
        "colab_type": "text"
      },
      "source": [
        "if some_condition:\n",
        "    \n",
        "    algorithm\n",
        "\n",
        "elif some_condition:\n",
        "    \n",
        "    algorithm\n",
        "\n",
        "else:\n",
        "    \n",
        "    algorithm"
      ]
    },
    {
      "cell_type": "code",
      "metadata": {
        "id": "-6nMmAv8HmoH",
        "colab_type": "code",
        "colab": {},
        "outputId": "87f0809d-fd8b-4b7b-ef87-0096fa37e880"
      },
      "source": [
        "x = 10\n",
        "y = 12\n",
        "if x > y:\n",
        "    print \"x>y\"\n",
        "elif x < y:\n",
        "    print \"x<y\"\n",
        "else:\n",
        "    print \"x=y\""
      ],
      "execution_count": null,
      "outputs": [
        {
          "output_type": "stream",
          "text": [
            "x<y\n"
          ],
          "name": "stdout"
        }
      ]
    },
    {
      "cell_type": "markdown",
      "metadata": {
        "id": "Qd9A8KDpHmoO",
        "colab_type": "text"
      },
      "source": [
        "if statement inside a if statement or if-elif or if-else are called as nested if statements."
      ]
    },
    {
      "cell_type": "code",
      "metadata": {
        "id": "DYDWmwKhHmoP",
        "colab_type": "code",
        "colab": {},
        "outputId": "888ac3cf-2afd-4287-f761-9b390a58ea86"
      },
      "source": [
        "x = 10\n",
        "y = 12\n",
        "if x > y:\n",
        "    print \"x>y\"\n",
        "elif x < y:\n",
        "    print \"x<y\"\n",
        "    if x==10:\n",
        "        print \"x=10\"\n",
        "    else:\n",
        "        print \"invalid\"\n",
        "else:\n",
        "    print \"x=y\""
      ],
      "execution_count": null,
      "outputs": [
        {
          "output_type": "stream",
          "text": [
            "x<y\n",
            "x=10\n"
          ],
          "name": "stdout"
        }
      ]
    },
    {
      "cell_type": "markdown",
      "metadata": {
        "id": "Lh5GI0A1HmoV",
        "colab_type": "text"
      },
      "source": [
        "##Loops"
      ]
    },
    {
      "cell_type": "markdown",
      "metadata": {
        "id": "ePgC0ypaHmoZ",
        "colab_type": "text"
      },
      "source": [
        "###For"
      ]
    },
    {
      "cell_type": "markdown",
      "metadata": {
        "collapsed": false,
        "id": "5G1ZHMNnHmoa",
        "colab_type": "text"
      },
      "source": [
        "for variable in something:\n",
        "    \n",
        "    algorithm"
      ]
    },
    {
      "cell_type": "code",
      "metadata": {
        "id": "kchdhwD6Hmob",
        "colab_type": "code",
        "colab": {},
        "outputId": "f83e08be-a655-4111-ff68-87601223620b"
      },
      "source": [
        "for i in range(5):\n",
        "    print i"
      ],
      "execution_count": null,
      "outputs": [
        {
          "output_type": "stream",
          "text": [
            "0\n",
            "1\n",
            "2\n",
            "3\n",
            "4\n"
          ],
          "name": "stdout"
        }
      ]
    },
    {
      "cell_type": "markdown",
      "metadata": {
        "id": "HygwiAgQHmoi",
        "colab_type": "text"
      },
      "source": [
        "In the above example, i iterates over the 0,1,2,3,4. Every time it takes each value and executes the algorithm inside the loop. It is also possible to iterate over a nested list illustrated below."
      ]
    },
    {
      "cell_type": "code",
      "metadata": {
        "id": "Gi6DLt0kHmoj",
        "colab_type": "code",
        "colab": {},
        "outputId": "626a79f7-3f14-481c-c482-3d3684bce668"
      },
      "source": [
        "list_of_lists = [[1, 2, 3], [4, 5, 6], [7, 8, 9]]\n",
        "for list1 in list_of_lists:\n",
        "        print list1"
      ],
      "execution_count": null,
      "outputs": [
        {
          "output_type": "stream",
          "text": [
            "[1, 2, 3]\n",
            "[4, 5, 6]\n",
            "[7, 8, 9]\n"
          ],
          "name": "stdout"
        }
      ]
    },
    {
      "cell_type": "markdown",
      "metadata": {
        "id": "AF-r58hLHmoq",
        "colab_type": "text"
      },
      "source": [
        "A use case of a nested for loop in this case would be,"
      ]
    },
    {
      "cell_type": "code",
      "metadata": {
        "id": "-I-FiaWoHmor",
        "colab_type": "code",
        "colab": {},
        "outputId": "424ec305-fa0a-41e1-d85c-b635f522cb5e"
      },
      "source": [
        "list_of_lists = [[1, 2, 3], [4, 5, 6], [7, 8, 9]]\n",
        "for list1 in list_of_lists:\n",
        "    for x in list1:\n",
        "        print x"
      ],
      "execution_count": null,
      "outputs": [
        {
          "output_type": "stream",
          "text": [
            "1\n",
            "2\n",
            "3\n",
            "4\n",
            "5\n",
            "6\n",
            "7\n",
            "8\n",
            "9\n"
          ],
          "name": "stdout"
        }
      ]
    },
    {
      "cell_type": "markdown",
      "metadata": {
        "id": "IwQD_iAZHmox",
        "colab_type": "text"
      },
      "source": [
        "###While"
      ]
    },
    {
      "cell_type": "markdown",
      "metadata": {
        "collapsed": false,
        "id": "4mZjbkcsHmoy",
        "colab_type": "text"
      },
      "source": [
        "while some_condition:\n",
        "    \n",
        "    algorithm"
      ]
    },
    {
      "cell_type": "code",
      "metadata": {
        "id": "5MSBMCvZHmoz",
        "colab_type": "code",
        "colab": {},
        "outputId": "3f531bcd-a3a5-42d3-b12b-61546956905b"
      },
      "source": [
        "i = 1\n",
        "while i < 3:\n",
        "    print(i ** 2)\n",
        "    i = i+1\n",
        "print('Bye')"
      ],
      "execution_count": null,
      "outputs": [
        {
          "output_type": "stream",
          "text": [
            "1\n",
            "4\n",
            "Bye\n"
          ],
          "name": "stdout"
        }
      ]
    },
    {
      "cell_type": "markdown",
      "metadata": {
        "id": "39BoOewWHmo3",
        "colab_type": "text"
      },
      "source": [
        "##Break"
      ]
    },
    {
      "cell_type": "markdown",
      "metadata": {
        "id": "KsI1HQVGHmo5",
        "colab_type": "text"
      },
      "source": [
        "As the name says. It is used to break out of a loop when a condition becomes true when executing the loop."
      ]
    },
    {
      "cell_type": "code",
      "metadata": {
        "id": "mzV2Wmr5Hmo6",
        "colab_type": "code",
        "colab": {},
        "outputId": "76f03c2c-c344-4f5a-8f00-a7137d19a3a9"
      },
      "source": [
        "for i in range(100):\n",
        "    print i\n",
        "    if i>=7:\n",
        "        break"
      ],
      "execution_count": null,
      "outputs": [
        {
          "output_type": "stream",
          "text": [
            "0\n",
            "1\n",
            "2\n",
            "3\n",
            "4\n",
            "5\n",
            "6\n",
            "7\n"
          ],
          "name": "stdout"
        }
      ]
    },
    {
      "cell_type": "markdown",
      "metadata": {
        "id": "avgq6QWQHmo_",
        "colab_type": "text"
      },
      "source": [
        "##Continue"
      ]
    },
    {
      "cell_type": "markdown",
      "metadata": {
        "id": "jx3wiIWrHmpA",
        "colab_type": "text"
      },
      "source": [
        "This continues the rest of the loop. Sometimes when a condition is satisfied there are chances of the loop getting terminated. This can be avoided using continue statement. "
      ]
    },
    {
      "cell_type": "code",
      "metadata": {
        "id": "BZdp2lN_HmpB",
        "colab_type": "code",
        "colab": {},
        "outputId": "1412534b-f05e-489b-ce11-466c66564d4f"
      },
      "source": [
        "for i in range(10):\n",
        "    if i>4:\n",
        "        print \"The end.\"\n",
        "        continue\n",
        "    elif i<7:\n",
        "        print i"
      ],
      "execution_count": null,
      "outputs": [
        {
          "output_type": "stream",
          "text": [
            "0\n",
            "1\n",
            "2\n",
            "3\n",
            "4\n",
            "The end.\n",
            "The end.\n",
            "The end.\n",
            "The end.\n",
            "The end.\n"
          ],
          "name": "stdout"
        }
      ]
    },
    {
      "cell_type": "markdown",
      "metadata": {
        "id": "2EMXf6KGHmpF",
        "colab_type": "text"
      },
      "source": [
        "##List Comprehensions"
      ]
    },
    {
      "cell_type": "markdown",
      "metadata": {
        "id": "HpEOxMGbHmpF",
        "colab_type": "text"
      },
      "source": [
        "Python makes it simple to generate a required list with a single line of code using list comprehensions. For example If i need to generate multiples of say 27 I write the code using for loop as,"
      ]
    },
    {
      "cell_type": "code",
      "metadata": {
        "id": "YBdmy10bHmpG",
        "colab_type": "code",
        "colab": {},
        "outputId": "58f8b9d9-11ae-4fc7-da43-50bdfa07989a"
      },
      "source": [
        "res = []\n",
        "for i in range(1,11):\n",
        "    x = 27*i\n",
        "    res.append(x)\n",
        "print res"
      ],
      "execution_count": null,
      "outputs": [
        {
          "output_type": "stream",
          "text": [
            "[27, 54, 81, 108, 135, 162, 189, 216, 243, 270]\n"
          ],
          "name": "stdout"
        }
      ]
    },
    {
      "cell_type": "markdown",
      "metadata": {
        "id": "b0hwy8YeHmpL",
        "colab_type": "text"
      },
      "source": [
        "Since you are generating another list altogether and that is what is required, List comprehensions is a more efficient way to solve this problem."
      ]
    },
    {
      "cell_type": "code",
      "metadata": {
        "id": "lmhTNo7-HmpL",
        "colab_type": "code",
        "colab": {},
        "outputId": "9df5b220-80ac-4f61-978f-647e53a90a53"
      },
      "source": [
        "[27*x for x in range(1,11)]"
      ],
      "execution_count": null,
      "outputs": [
        {
          "output_type": "execute_result",
          "data": {
            "text/plain": [
              "[27, 54, 81, 108, 135, 162, 189, 216, 243, 270]"
            ]
          },
          "metadata": {
            "tags": []
          },
          "execution_count": 12
        }
      ]
    },
    {
      "cell_type": "markdown",
      "metadata": {
        "id": "Yf5I6hmdHmpR",
        "colab_type": "text"
      },
      "source": [
        "That's it!. Only remember to enclose it in square brackets"
      ]
    },
    {
      "cell_type": "markdown",
      "metadata": {
        "id": "G5up_PGQHmpR",
        "colab_type": "text"
      },
      "source": [
        "Understanding the code, The first bit of the code is always the algorithm and then leave a space and then write the necessary loop. But you might be wondering can nested loops be extended to list comprehensions? Yes you can."
      ]
    },
    {
      "cell_type": "code",
      "metadata": {
        "id": "zazrmh4HHmpS",
        "colab_type": "code",
        "colab": {},
        "outputId": "2169634f-56f9-4eb0-ce4c-ce763527d864"
      },
      "source": [
        "[27*x for x in range(1,20) if x<=10]"
      ],
      "execution_count": null,
      "outputs": [
        {
          "output_type": "execute_result",
          "data": {
            "text/plain": [
              "[27, 54, 81, 108, 135, 162, 189, 216, 243, 270]"
            ]
          },
          "metadata": {
            "tags": []
          },
          "execution_count": 13
        }
      ]
    },
    {
      "cell_type": "markdown",
      "metadata": {
        "id": "anibmce8HmpY",
        "colab_type": "text"
      },
      "source": [
        "Let me add one more loop to make you understand better, "
      ]
    },
    {
      "cell_type": "code",
      "metadata": {
        "id": "ghi9rtrMHmpZ",
        "colab_type": "code",
        "colab": {},
        "outputId": "56888768-7bed-4deb-f300-523f4b76aadc"
      },
      "source": [
        "[27*z for i in range(50) if i==27 for z in range(1,11)]"
      ],
      "execution_count": null,
      "outputs": [
        {
          "output_type": "execute_result",
          "data": {
            "text/plain": [
              "[27, 54, 81, 108, 135, 162, 189, 216, 243, 270]"
            ]
          },
          "metadata": {
            "tags": []
          },
          "execution_count": 14
        }
      ]
    }
  ]
}