{
  "nbformat": 4,
  "nbformat_minor": 0,
  "metadata": {
    "kernelspec": {
      "display_name": "Python 2",
      "language": "python",
      "name": "python2"
    },
    "language_info": {
      "codemirror_mode": {
        "name": "ipython",
        "version": 2
      },
      "file_extension": ".py",
      "mimetype": "text/x-python",
      "name": "python",
      "nbconvert_exporter": "python",
      "pygments_lexer": "ipython2",
      "version": "2.7.10"
    },
    "colab": {
      "name": "01.ipynb",
      "provenance": []
    }
  },
  "cells": [
    {
      "cell_type": "markdown",
      "metadata": {
        "id": "DIzqbt-yGwwO",
        "colab_type": "text"
      },
      "source": [
        "#The Zen Of Python"
      ]
    },
    {
      "cell_type": "code",
      "metadata": {
        "id": "gAP9CKB2GwwP",
        "colab_type": "code",
        "colab": {},
        "outputId": "99b69804-0e1a-4fec-a9d2-e611c453c0f3"
      },
      "source": [
        "import this"
      ],
      "execution_count": null,
      "outputs": [
        {
          "output_type": "stream",
          "text": [
            "The Zen of Python, by Tim Peters\n",
            "\n",
            "Beautiful is better than ugly.\n",
            "Explicit is better than implicit.\n",
            "Simple is better than complex.\n",
            "Complex is better than complicated.\n",
            "Flat is better than nested.\n",
            "Sparse is better than dense.\n",
            "Readability counts.\n",
            "Special cases aren't special enough to break the rules.\n",
            "Although practicality beats purity.\n",
            "Errors should never pass silently.\n",
            "Unless explicitly silenced.\n",
            "In the face of ambiguity, refuse the temptation to guess.\n",
            "There should be one-- and preferably only one --obvious way to do it.\n",
            "Although that way may not be obvious at first unless you're Dutch.\n",
            "Now is better than never.\n",
            "Although never is often better than *right* now.\n",
            "If the implementation is hard to explain, it's a bad idea.\n",
            "If the implementation is easy to explain, it may be a good idea.\n",
            "Namespaces are one honking great idea -- let's do more of those!\n"
          ],
          "name": "stdout"
        }
      ]
    },
    {
      "cell_type": "markdown",
      "metadata": {
        "id": "Jn20wfhGGwwY",
        "colab_type": "text"
      },
      "source": [
        "# Variables"
      ]
    },
    {
      "cell_type": "markdown",
      "metadata": {
        "id": "dJRq1SgGGwwZ",
        "colab_type": "text"
      },
      "source": [
        "A name that is used to denote something or a value is called a variable. In python, variables can be declared and values can be assigned to it as follows,"
      ]
    },
    {
      "cell_type": "code",
      "metadata": {
        "id": "OAhgdy0DGwwa",
        "colab_type": "code",
        "colab": {}
      },
      "source": [
        "x = 2\n",
        "y = 5\n",
        "xy = 'Hey'"
      ],
      "execution_count": null,
      "outputs": []
    },
    {
      "cell_type": "code",
      "metadata": {
        "id": "AZOd4fvCGwwe",
        "colab_type": "code",
        "colab": {},
        "outputId": "1e7d254d-bf1d-4dc6-cc69-9328d245ad4e"
      },
      "source": [
        "print x+y, xy"
      ],
      "execution_count": null,
      "outputs": [
        {
          "output_type": "stream",
          "text": [
            "7 Hey\n"
          ],
          "name": "stdout"
        }
      ]
    },
    {
      "cell_type": "markdown",
      "metadata": {
        "id": "ODM4mgl_Gwwk",
        "colab_type": "text"
      },
      "source": [
        "Multiple variables can be assigned with the same value."
      ]
    },
    {
      "cell_type": "code",
      "metadata": {
        "id": "z752WHkJGwwl",
        "colab_type": "code",
        "colab": {}
      },
      "source": [
        "x = y = 1"
      ],
      "execution_count": null,
      "outputs": []
    },
    {
      "cell_type": "code",
      "metadata": {
        "id": "vfEj_gr0Gwwp",
        "colab_type": "code",
        "colab": {},
        "outputId": "cadf76ce-1d11-434d-9bdc-4345bd876a6a"
      },
      "source": [
        "print x,y"
      ],
      "execution_count": null,
      "outputs": [
        {
          "output_type": "stream",
          "text": [
            "1 1\n"
          ],
          "name": "stdout"
        }
      ]
    },
    {
      "cell_type": "markdown",
      "metadata": {
        "id": "eyTlT6glGwwu",
        "colab_type": "text"
      },
      "source": [
        "# Operators"
      ]
    },
    {
      "cell_type": "markdown",
      "metadata": {
        "id": "DOMeieNpGwwv",
        "colab_type": "text"
      },
      "source": [
        "##Arithmetic Operators"
      ]
    },
    {
      "cell_type": "markdown",
      "metadata": {
        "id": "t-3L1plsGwww",
        "colab_type": "text"
      },
      "source": [
        "| Symbol | Task Performed |\n",
        "|----|---|\n",
        "| +  | Addition |\n",
        "| -  | Subtraction |\n",
        "| /  | division |\n",
        "| %  | mod |\n",
        "| *  | multiplication |\n",
        "| //  | floor division |\n",
        "| **  | to the power of |"
      ]
    },
    {
      "cell_type": "code",
      "metadata": {
        "id": "gGuQE5_HGwwx",
        "colab_type": "code",
        "colab": {},
        "outputId": "186c7089-3a28-4762-c37e-f7f121bf6a5f"
      },
      "source": [
        "1+2"
      ],
      "execution_count": null,
      "outputs": [
        {
          "output_type": "execute_result",
          "data": {
            "text/plain": [
              "3"
            ]
          },
          "metadata": {
            "tags": []
          },
          "execution_count": 6
        }
      ]
    },
    {
      "cell_type": "code",
      "metadata": {
        "id": "Zh0HmQ36Gww5",
        "colab_type": "code",
        "colab": {},
        "outputId": "9c29f3e9-17a8-4c5e-e7d2-b18d2b73418e"
      },
      "source": [
        "2-1"
      ],
      "execution_count": null,
      "outputs": [
        {
          "output_type": "execute_result",
          "data": {
            "text/plain": [
              "1"
            ]
          },
          "metadata": {
            "tags": []
          },
          "execution_count": 7
        }
      ]
    },
    {
      "cell_type": "code",
      "metadata": {
        "id": "4Is7RrZKGwxA",
        "colab_type": "code",
        "colab": {},
        "outputId": "03f7d514-8f96-4c8c-fade-97c4fdf631ff"
      },
      "source": [
        "1*2"
      ],
      "execution_count": null,
      "outputs": [
        {
          "output_type": "execute_result",
          "data": {
            "text/plain": [
              "2"
            ]
          },
          "metadata": {
            "tags": []
          },
          "execution_count": 8
        }
      ]
    },
    {
      "cell_type": "code",
      "metadata": {
        "id": "krhewhDJGwxF",
        "colab_type": "code",
        "colab": {},
        "outputId": "18c1147f-3218-49a5-c9fc-b21cf955a99f"
      },
      "source": [
        "1/2"
      ],
      "execution_count": null,
      "outputs": [
        {
          "output_type": "execute_result",
          "data": {
            "text/plain": [
              "0"
            ]
          },
          "metadata": {
            "tags": []
          },
          "execution_count": 9
        }
      ]
    },
    {
      "cell_type": "markdown",
      "metadata": {
        "id": "zyhtukOuGwxJ",
        "colab_type": "text"
      },
      "source": [
        "0? This is because both the numerator and denominator are integers but the result is a float value hence an integer value is returned. By changing either the numerator or the denominator to float, correct answer can be obtained."
      ]
    },
    {
      "cell_type": "code",
      "metadata": {
        "id": "j9aPlKZLGwxK",
        "colab_type": "code",
        "colab": {},
        "outputId": "6cd4a662-7f18-4fad-84c0-7eb644ec9a40"
      },
      "source": [
        "1/2.0"
      ],
      "execution_count": null,
      "outputs": [
        {
          "output_type": "execute_result",
          "data": {
            "text/plain": [
              "0.5"
            ]
          },
          "metadata": {
            "tags": []
          },
          "execution_count": 10
        }
      ]
    },
    {
      "cell_type": "code",
      "metadata": {
        "id": "tPynr0uFGwxR",
        "colab_type": "code",
        "colab": {},
        "outputId": "58ac7a31-528f-48dd-8ef3-645acd8b4e69"
      },
      "source": [
        "15%10"
      ],
      "execution_count": null,
      "outputs": [
        {
          "output_type": "execute_result",
          "data": {
            "text/plain": [
              "5"
            ]
          },
          "metadata": {
            "tags": []
          },
          "execution_count": 11
        }
      ]
    },
    {
      "cell_type": "markdown",
      "metadata": {
        "id": "lQRoYJ6aGwxW",
        "colab_type": "text"
      },
      "source": [
        "Floor division is nothing but converting the result so obtained to the nearest integer."
      ]
    },
    {
      "cell_type": "code",
      "metadata": {
        "id": "ISQeSMsQGwxX",
        "colab_type": "code",
        "colab": {},
        "outputId": "0ede10cb-bbf7-4f18-e7f6-a42939bab627"
      },
      "source": [
        "2.8//2.0"
      ],
      "execution_count": null,
      "outputs": [
        {
          "output_type": "execute_result",
          "data": {
            "text/plain": [
              "1.0"
            ]
          },
          "metadata": {
            "tags": []
          },
          "execution_count": 12
        }
      ]
    },
    {
      "cell_type": "markdown",
      "metadata": {
        "id": "Xlco_AA_Gwxc",
        "colab_type": "text"
      },
      "source": [
        "##Relational Operators"
      ]
    },
    {
      "cell_type": "markdown",
      "metadata": {
        "id": "H4JB4WeRGwxd",
        "colab_type": "text"
      },
      "source": [
        "| Symbol | Task Performed |\n",
        "|----|---|\n",
        "| == | True, if it is equal |\n",
        "| !=  | True, if not equal to |\n",
        "| < | less than |\n",
        "| > | greater than |\n",
        "| <=  | less than or equal to |\n",
        "| >=  | greater than or equal to |"
      ]
    },
    {
      "cell_type": "code",
      "metadata": {
        "collapsed": true,
        "id": "jXJ-yONBGwxd",
        "colab_type": "code",
        "colab": {}
      },
      "source": [
        "z = 1"
      ],
      "execution_count": null,
      "outputs": []
    },
    {
      "cell_type": "code",
      "metadata": {
        "id": "sgKMW65uGwxi",
        "colab_type": "code",
        "colab": {},
        "outputId": "66b0630c-50b6-47ac-e53d-a4e2321e2008"
      },
      "source": [
        "z == 1"
      ],
      "execution_count": null,
      "outputs": [
        {
          "output_type": "execute_result",
          "data": {
            "text/plain": [
              "True"
            ]
          },
          "metadata": {
            "tags": []
          },
          "execution_count": 14
        }
      ]
    },
    {
      "cell_type": "code",
      "metadata": {
        "id": "O0jjSKmLGwxo",
        "colab_type": "code",
        "colab": {},
        "outputId": "2b7f4f2a-cd7f-4078-a00f-e5ba6fc43c10"
      },
      "source": [
        "z > 1"
      ],
      "execution_count": null,
      "outputs": [
        {
          "output_type": "execute_result",
          "data": {
            "text/plain": [
              "False"
            ]
          },
          "metadata": {
            "tags": []
          },
          "execution_count": 15
        }
      ]
    },
    {
      "cell_type": "markdown",
      "metadata": {
        "id": "MDvyc6S-Gwxu",
        "colab_type": "text"
      },
      "source": [
        "##Bitwise Operators"
      ]
    },
    {
      "cell_type": "markdown",
      "metadata": {
        "id": "kVo6ek0lGwxv",
        "colab_type": "text"
      },
      "source": [
        "| Symbol | Task Performed |\n",
        "|----|---|\n",
        "| &  | Logical And |\n",
        "| l  | Logical OR |\n",
        "| ^  | XOR |\n",
        "| ~  | Negate |\n",
        "| >>  | Right shift |\n",
        "| <<  | Left shift |"
      ]
    },
    {
      "cell_type": "code",
      "metadata": {
        "id": "uW-hAnEmGwxv",
        "colab_type": "code",
        "colab": {}
      },
      "source": [
        "a = 2 #10\n",
        "b = 3 #11"
      ],
      "execution_count": null,
      "outputs": []
    },
    {
      "cell_type": "code",
      "metadata": {
        "id": "U_LBl2jeGwx0",
        "colab_type": "code",
        "colab": {},
        "outputId": "205c707f-82ab-48fb-ffe8-42aae78fbc01"
      },
      "source": [
        "print a & b\n",
        "print bin(a&b)"
      ],
      "execution_count": null,
      "outputs": [
        {
          "output_type": "stream",
          "text": [
            "2\n",
            "0b10\n"
          ],
          "name": "stdout"
        }
      ]
    },
    {
      "cell_type": "code",
      "metadata": {
        "id": "QjEbfVstGwx5",
        "colab_type": "code",
        "colab": {},
        "outputId": "d99754d3-d4d2-47bd-a3eb-06acb8717a65"
      },
      "source": [
        "5 >> 1"
      ],
      "execution_count": null,
      "outputs": [
        {
          "output_type": "execute_result",
          "data": {
            "text/plain": [
              "2"
            ]
          },
          "metadata": {
            "tags": []
          },
          "execution_count": 18
        }
      ]
    },
    {
      "cell_type": "markdown",
      "metadata": {
        "id": "TcL15AG6Gwx8",
        "colab_type": "text"
      },
      "source": [
        "0000 0101 -> 5 \n",
        "\n",
        "Shifting the digits by 1 to the right and zero padding\n",
        "\n",
        "0000 0010 -> 2"
      ]
    },
    {
      "cell_type": "code",
      "metadata": {
        "id": "O2Uz6YXTGwx9",
        "colab_type": "code",
        "colab": {},
        "outputId": "a6aa2221-41ea-47ac-dc61-9a431c317bad"
      },
      "source": [
        "5 << 1"
      ],
      "execution_count": null,
      "outputs": [
        {
          "output_type": "execute_result",
          "data": {
            "text/plain": [
              "10"
            ]
          },
          "metadata": {
            "tags": []
          },
          "execution_count": 19
        }
      ]
    },
    {
      "cell_type": "markdown",
      "metadata": {
        "id": "_ZIzBi5XGwyB",
        "colab_type": "text"
      },
      "source": [
        "0000 0101 -> 5 \n",
        "\n",
        "Shifting the digits by 1 to the left and zero padding\n",
        "\n",
        "0000 1010 -> 10"
      ]
    },
    {
      "cell_type": "markdown",
      "metadata": {
        "id": "ScTCggBPGwyC",
        "colab_type": "text"
      },
      "source": [
        "#Built-in Functions"
      ]
    },
    {
      "cell_type": "markdown",
      "metadata": {
        "id": "U75tg7ecGwyD",
        "colab_type": "text"
      },
      "source": [
        "Python comes loaded with pre-built functions"
      ]
    },
    {
      "cell_type": "markdown",
      "metadata": {
        "id": "HW1oWYurGwyE",
        "colab_type": "text"
      },
      "source": [
        "##Conversion from one system to another"
      ]
    },
    {
      "cell_type": "markdown",
      "metadata": {
        "id": "Oi2baBAsGwyF",
        "colab_type": "text"
      },
      "source": [
        "Conversion from hexadecimal to decimal is done by adding prefix **0x** to the hexadecimal value or vice versa by using built in **hex( )**, Octal to decimal by adding prefix **0** to the octal value or vice versa by using built in function **oct( )**."
      ]
    },
    {
      "cell_type": "code",
      "metadata": {
        "id": "TFLnf3L7GwyF",
        "colab_type": "code",
        "colab": {},
        "outputId": "acf4b7b2-3857-47ab-8abe-4447db956476"
      },
      "source": [
        "hex(170)"
      ],
      "execution_count": null,
      "outputs": [
        {
          "output_type": "execute_result",
          "data": {
            "text/plain": [
              "'0xaa'"
            ]
          },
          "metadata": {
            "tags": []
          },
          "execution_count": 20
        }
      ]
    },
    {
      "cell_type": "code",
      "metadata": {
        "id": "lb2u-DgMGwyJ",
        "colab_type": "code",
        "colab": {},
        "outputId": "7e9f6efe-858c-456b-b2a5-a9c786ba3e9e"
      },
      "source": [
        "0xAA"
      ],
      "execution_count": null,
      "outputs": [
        {
          "output_type": "execute_result",
          "data": {
            "text/plain": [
              "170"
            ]
          },
          "metadata": {
            "tags": []
          },
          "execution_count": 21
        }
      ]
    },
    {
      "cell_type": "code",
      "metadata": {
        "id": "fpxzLneQGwyP",
        "colab_type": "code",
        "colab": {},
        "outputId": "f135587d-cdea-48a9-8ea3-5290ec795059"
      },
      "source": [
        "oct(8)"
      ],
      "execution_count": null,
      "outputs": [
        {
          "output_type": "execute_result",
          "data": {
            "text/plain": [
              "'010'"
            ]
          },
          "metadata": {
            "tags": []
          },
          "execution_count": 22
        }
      ]
    },
    {
      "cell_type": "code",
      "metadata": {
        "id": "Ddq5Wg8vGwyX",
        "colab_type": "code",
        "colab": {},
        "outputId": "ba333f28-8f51-46da-bf42-6a7254990296"
      },
      "source": [
        "010"
      ],
      "execution_count": null,
      "outputs": [
        {
          "output_type": "execute_result",
          "data": {
            "text/plain": [
              "8"
            ]
          },
          "metadata": {
            "tags": []
          },
          "execution_count": 23
        }
      ]
    },
    {
      "cell_type": "markdown",
      "metadata": {
        "id": "3DGutnzrGwyc",
        "colab_type": "text"
      },
      "source": [
        "**int( )** accepts two values when used for conversion, one is the value in a different number system and the other is its base. Note that input number in the different number system should be of string type."
      ]
    },
    {
      "cell_type": "code",
      "metadata": {
        "id": "UmdnKIWDGwyc",
        "colab_type": "code",
        "colab": {},
        "outputId": "57549930-94db-4089-870e-a80971b08011"
      },
      "source": [
        "print int('010',8)\n",
        "print int('0xaa',16)\n",
        "print int('1010',2)"
      ],
      "execution_count": null,
      "outputs": [
        {
          "output_type": "stream",
          "text": [
            "8\n",
            "170\n",
            "10\n"
          ],
          "name": "stdout"
        }
      ]
    },
    {
      "cell_type": "markdown",
      "metadata": {
        "id": "3Q5hq4_yGwyg",
        "colab_type": "text"
      },
      "source": [
        "**int( )** can also be used to get only the integer value of a float number or can be used to convert a number which is of type string to integer format. Similarly, the function **str( )** can be used to convert the integer back to string format"
      ]
    },
    {
      "cell_type": "code",
      "metadata": {
        "id": "zIDe0s1XGwyh",
        "colab_type": "code",
        "colab": {},
        "outputId": "cf858ccf-d899-4dad-de27-16477bac3dac"
      },
      "source": [
        "print int(7.7)\n",
        "print int('7')"
      ],
      "execution_count": null,
      "outputs": [
        {
          "output_type": "stream",
          "text": [
            "7\n",
            "7\n"
          ],
          "name": "stdout"
        }
      ]
    },
    {
      "cell_type": "markdown",
      "metadata": {
        "id": "WT3ihXHhGwyl",
        "colab_type": "text"
      },
      "source": [
        "Also note that function **bin( )** is used for binary and **float( )** for decimal/float values. **chr( )** is used for converting ASCII to its alphabet equivalent, **ord( )** is used for the other way round."
      ]
    },
    {
      "cell_type": "code",
      "metadata": {
        "id": "WjzhbKnCGwyn",
        "colab_type": "code",
        "colab": {},
        "outputId": "9bcc2c7e-2fd0-47ab-996a-c6dfbd1f367d"
      },
      "source": [
        "chr(98)"
      ],
      "execution_count": null,
      "outputs": [
        {
          "output_type": "execute_result",
          "data": {
            "text/plain": [
              "'b'"
            ]
          },
          "metadata": {
            "tags": []
          },
          "execution_count": 26
        }
      ]
    },
    {
      "cell_type": "code",
      "metadata": {
        "id": "QKkC3Y_PGwyt",
        "colab_type": "code",
        "colab": {},
        "outputId": "9e58b0f4-b486-4f7d-a71c-02fce86df36e"
      },
      "source": [
        "ord('b')"
      ],
      "execution_count": null,
      "outputs": [
        {
          "output_type": "execute_result",
          "data": {
            "text/plain": [
              "98"
            ]
          },
          "metadata": {
            "tags": []
          },
          "execution_count": 27
        }
      ]
    },
    {
      "cell_type": "markdown",
      "metadata": {
        "id": "HC6lAU7zGwyx",
        "colab_type": "text"
      },
      "source": [
        "##Simplifying Arithmetic Operations"
      ]
    },
    {
      "cell_type": "markdown",
      "metadata": {
        "id": "4ubV4JhfGwyy",
        "colab_type": "text"
      },
      "source": [
        "**round( )** function rounds the input value to a specified number of places or to the nearest integer. "
      ]
    },
    {
      "cell_type": "code",
      "metadata": {
        "scrolled": false,
        "id": "rx7C7XuJGwyz",
        "colab_type": "code",
        "colab": {},
        "outputId": "1fe9a07f-89bb-47a2-a32e-4d72b120f779"
      },
      "source": [
        "print round(5.6231) \n",
        "print round(4.55892, 2)"
      ],
      "execution_count": null,
      "outputs": [
        {
          "output_type": "stream",
          "text": [
            "6.0\n",
            "4.56\n"
          ],
          "name": "stdout"
        }
      ]
    },
    {
      "cell_type": "markdown",
      "metadata": {
        "id": "4nk-5ld1Gwy4",
        "colab_type": "text"
      },
      "source": [
        "**complex( )** is used to define a complex number and **abs( )** outputs the absolute value of the same."
      ]
    },
    {
      "cell_type": "code",
      "metadata": {
        "id": "m0w-K7YjGwy5",
        "colab_type": "code",
        "colab": {},
        "outputId": "c00a1d13-be72-4738-e04b-d1c5521531d8"
      },
      "source": [
        "c =complex('5+2j')\n",
        "print abs(c)"
      ],
      "execution_count": null,
      "outputs": [
        {
          "output_type": "stream",
          "text": [
            "5.38516480713\n"
          ],
          "name": "stdout"
        }
      ]
    },
    {
      "cell_type": "markdown",
      "metadata": {
        "id": "AOJ05wmVGwy8",
        "colab_type": "text"
      },
      "source": [
        "**divmod(x,y)** outputs the quotient and the remainder in a tuple(you will be learning about it in the further chapters) in the format (quotient, remainder). "
      ]
    },
    {
      "cell_type": "code",
      "metadata": {
        "id": "ipvtmyPVGwy8",
        "colab_type": "code",
        "colab": {},
        "outputId": "0b8107d8-e1cf-4a4e-d0f7-6438745433a9"
      },
      "source": [
        "divmod(9,2)"
      ],
      "execution_count": null,
      "outputs": [
        {
          "output_type": "execute_result",
          "data": {
            "text/plain": [
              "(4, 1)"
            ]
          },
          "metadata": {
            "tags": []
          },
          "execution_count": 30
        }
      ]
    },
    {
      "cell_type": "markdown",
      "metadata": {
        "id": "eC2LqcumGwzA",
        "colab_type": "text"
      },
      "source": [
        "**isinstance( )** returns True, if the first argument is an instance of that class. Multiple classes can also be checked at once."
      ]
    },
    {
      "cell_type": "code",
      "metadata": {
        "id": "l9mnfmoBGwzB",
        "colab_type": "code",
        "colab": {},
        "outputId": "24f23193-9822-43b2-ef5b-85e2b101f5e0"
      },
      "source": [
        "print isinstance(1, int)\n",
        "print isinstance(1.0,int)\n",
        "print isinstance(1.0,(int,float))"
      ],
      "execution_count": null,
      "outputs": [
        {
          "output_type": "stream",
          "text": [
            "True\n",
            "False\n",
            "True\n"
          ],
          "name": "stdout"
        }
      ]
    },
    {
      "cell_type": "markdown",
      "metadata": {
        "id": "Eukp9PcCGwzG",
        "colab_type": "text"
      },
      "source": [
        "**cmp(x,y)**\n",
        "\n",
        "|x ? y|Output|\n",
        "|---|---|\n",
        "| x < y | -1 |\n",
        "| x == y | 0 |\n",
        "| x > y | 1 |"
      ]
    },
    {
      "cell_type": "code",
      "metadata": {
        "id": "PyrTMJomGwzH",
        "colab_type": "code",
        "colab": {},
        "outputId": "b1c6bfc5-9957-4f86-d60a-438c14dad368"
      },
      "source": [
        "print cmp(1,2)\n",
        "print cmp(2,1)\n",
        "print cmp(2,2)"
      ],
      "execution_count": null,
      "outputs": [
        {
          "output_type": "stream",
          "text": [
            "-1\n",
            "1\n",
            "0\n"
          ],
          "name": "stdout"
        }
      ]
    },
    {
      "cell_type": "markdown",
      "metadata": {
        "id": "izbfaSD2GwzL",
        "colab_type": "text"
      },
      "source": [
        "**pow(x,y,z)** can be used to find the power $x^y$ also the mod of the resulting value with the third specified number can be found i.e. : ($x^y$ % z)."
      ]
    },
    {
      "cell_type": "code",
      "metadata": {
        "id": "pHT0M5fbGwzM",
        "colab_type": "code",
        "colab": {},
        "outputId": "6cb80783-f0de-454b-d576-ce20ab0f68ec"
      },
      "source": [
        "print pow(3,3)\n",
        "print pow(3,3,5)"
      ],
      "execution_count": null,
      "outputs": [
        {
          "output_type": "stream",
          "text": [
            "27\n",
            "2\n"
          ],
          "name": "stdout"
        }
      ]
    },
    {
      "cell_type": "markdown",
      "metadata": {
        "id": "CywdOibOGwzQ",
        "colab_type": "text"
      },
      "source": [
        "**range( )** function outputs the integers of the specified range. It can also be used to generate a series by specifying the difference between the two numbers within a particular range. The elements are returned in a list (will be discussing in detail later.)"
      ]
    },
    {
      "cell_type": "code",
      "metadata": {
        "id": "k5xEqVmpGwzR",
        "colab_type": "code",
        "colab": {},
        "outputId": "696e00d9-7b05-4af7-8cfd-08248e87c3f1"
      },
      "source": [
        "print range(3)\n",
        "print range(2,9)\n",
        "print range(2,27,8)"
      ],
      "execution_count": null,
      "outputs": [
        {
          "output_type": "stream",
          "text": [
            "[0, 1, 2]\n",
            "[2, 3, 4, 5, 6, 7, 8]\n",
            "[2, 10, 18, 26]\n"
          ],
          "name": "stdout"
        }
      ]
    },
    {
      "cell_type": "markdown",
      "metadata": {
        "id": "uGFPesdUGwzY",
        "colab_type": "text"
      },
      "source": [
        "##Accepting User Inputs"
      ]
    },
    {
      "cell_type": "markdown",
      "metadata": {
        "id": "AqBOQHX3Gwzb",
        "colab_type": "text"
      },
      "source": [
        "**raw_input( )** accepts input and stores it as a string. Hence, if the user inputs a integer, the code should convert the string to an integer and then proceed."
      ]
    },
    {
      "cell_type": "code",
      "metadata": {
        "id": "N46qOYoqGwzc",
        "colab_type": "code",
        "colab": {},
        "outputId": "dba6428c-3000-43eb-df09-dc281679719a"
      },
      "source": [
        "abc = raw_input(\"Type something here and it will be stored in variable abc \\t\")"
      ],
      "execution_count": null,
      "outputs": [
        {
          "output_type": "stream",
          "text": [
            "Type something here and it will be stored in variable abc \tHey\n"
          ],
          "name": "stdout"
        }
      ]
    },
    {
      "cell_type": "code",
      "metadata": {
        "id": "4WTfdEeHGwzh",
        "colab_type": "code",
        "colab": {},
        "outputId": "a759d0d3-cb0c-4136-fe1b-a197e5ecd814"
      },
      "source": [
        "type(abc)"
      ],
      "execution_count": null,
      "outputs": [
        {
          "output_type": "execute_result",
          "data": {
            "text/plain": [
              "str"
            ]
          },
          "metadata": {
            "tags": []
          },
          "execution_count": 36
        }
      ]
    },
    {
      "cell_type": "markdown",
      "metadata": {
        "id": "NzqsbnRXGwzm",
        "colab_type": "text"
      },
      "source": [
        "**input( )**, this is used only for accepting only integer inputs."
      ]
    },
    {
      "cell_type": "code",
      "metadata": {
        "id": "3h_mmio-Gwzn",
        "colab_type": "code",
        "colab": {},
        "outputId": "a1aa4bc5-4fd2-447d-a773-3fb397c03c69"
      },
      "source": [
        "abc1 =  input(\"Only integer can be stored in variable abc \\t\")"
      ],
      "execution_count": null,
      "outputs": [
        {
          "output_type": "stream",
          "text": [
            "Only integer can be stored in variable abc \t275\n"
          ],
          "name": "stdout"
        }
      ]
    },
    {
      "cell_type": "code",
      "metadata": {
        "id": "zDg0EPDqGwzt",
        "colab_type": "code",
        "colab": {},
        "outputId": "c6f0c470-9715-4136-880d-cbb587681479"
      },
      "source": [
        "type(abc1)"
      ],
      "execution_count": null,
      "outputs": [
        {
          "output_type": "execute_result",
          "data": {
            "text/plain": [
              "int"
            ]
          },
          "metadata": {
            "tags": []
          },
          "execution_count": 38
        }
      ]
    },
    {
      "cell_type": "markdown",
      "metadata": {
        "id": "pb70SiZ_Gwzx",
        "colab_type": "text"
      },
      "source": [
        "Note that **type( )** returns the format or the type of a variable or a number"
      ]
    }
  ]
}