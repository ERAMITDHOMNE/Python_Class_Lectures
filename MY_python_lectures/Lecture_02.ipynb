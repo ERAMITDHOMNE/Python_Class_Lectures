{
  "nbformat": 4,
  "nbformat_minor": 0,
  "metadata": {
    "kernelspec": {
      "display_name": "Python 2",
      "language": "python",
      "name": "python2"
    },
    "language_info": {
      "codemirror_mode": {
        "name": "ipython",
        "version": 2
      },
      "file_extension": ".py",
      "mimetype": "text/x-python",
      "name": "python",
      "nbconvert_exporter": "python",
      "pygments_lexer": "ipython2",
      "version": "2.7.10"
    },
    "colab": {
      "name": "02.ipynb",
      "provenance": []
    }
  },
  "cells": [
    {
      "cell_type": "markdown",
      "metadata": {
        "id": "EeT4nnkwHCUc",
        "colab_type": "text"
      },
      "source": [
        "#Print Statement"
      ]
    },
    {
      "cell_type": "markdown",
      "metadata": {
        "id": "3_SupPe9HCUe",
        "colab_type": "text"
      },
      "source": [
        "The **print** statement can be used in the following different ways :\n",
        "\n",
        "    - print \"Hello World\"\n",
        "    - print \"Hello\", <Variable Containing the String>\n",
        "    - print \"Hello\" + <Variable Containing the String>\n",
        "    - print \"Hello %s\" % <variable containing the string>"
      ]
    },
    {
      "cell_type": "code",
      "metadata": {
        "id": "AzeFGSKhHCUf",
        "colab_type": "code",
        "colab": {},
        "outputId": "e0bdb7e7-1996-4844-caec-37e87c49662e"
      },
      "source": [
        "print \"Hello World\""
      ],
      "execution_count": null,
      "outputs": [
        {
          "output_type": "stream",
          "text": [
            "Hello World\n"
          ],
          "name": "stdout"
        }
      ]
    },
    {
      "cell_type": "markdown",
      "metadata": {
        "id": "486covOmHCUm",
        "colab_type": "text"
      },
      "source": [
        "In Python, single, double and triple quotes are used to denote a string.\n",
        "Most use single quotes when declaring a single character. \n",
        "Double quotes when declaring a line and triple quotes when declaring a paragraph/multiple lines."
      ]
    },
    {
      "cell_type": "code",
      "metadata": {
        "id": "4kg06_hKHCUn",
        "colab_type": "code",
        "colab": {},
        "outputId": "ee0deeae-4339-4674-e7f8-832bb49a3db2"
      },
      "source": [
        "print 'Hey'"
      ],
      "execution_count": null,
      "outputs": [
        {
          "output_type": "stream",
          "text": [
            "Hey\n"
          ],
          "name": "stdout"
        }
      ]
    },
    {
      "cell_type": "code",
      "metadata": {
        "id": "zNrkLajAHCUs",
        "colab_type": "code",
        "colab": {},
        "outputId": "5f03ca20-08eb-425c-e60f-1dd51377b717"
      },
      "source": [
        "print \"\"\"My name is Rajath Kumar M.P.\n",
        "\n",
        "I love Python.\"\"\""
      ],
      "execution_count": null,
      "outputs": [
        {
          "output_type": "stream",
          "text": [
            "My name is Rajath Kumar M.P.\n",
            "\n",
            "I love Python.\n"
          ],
          "name": "stdout"
        }
      ]
    },
    {
      "cell_type": "markdown",
      "metadata": {
        "id": "P8Gh6ky2HCUy",
        "colab_type": "text"
      },
      "source": [
        "Strings can be assigned to variable say _string1_ and _string2_ which can called when using the print statement."
      ]
    },
    {
      "cell_type": "code",
      "metadata": {
        "scrolled": true,
        "id": "boZgKTXzHCUz",
        "colab_type": "code",
        "colab": {},
        "outputId": "4487b343-ebb7-4b24-fcd7-cf7955244c9e"
      },
      "source": [
        "string1 = 'World'\n",
        "print 'Hello', string1\n",
        "\n",
        "string2 = '!'\n",
        "print 'Hello', string1, string2"
      ],
      "execution_count": null,
      "outputs": [
        {
          "output_type": "stream",
          "text": [
            "Hello World\n",
            "Hello World !\n"
          ],
          "name": "stdout"
        }
      ]
    },
    {
      "cell_type": "markdown",
      "metadata": {
        "id": "ggQEgfFoHCU6",
        "colab_type": "text"
      },
      "source": [
        "String concatenation is the \"addition\" of two strings. Observe that while concatenating there will be no space between the strings."
      ]
    },
    {
      "cell_type": "code",
      "metadata": {
        "id": "C32bVPLKHCU6",
        "colab_type": "code",
        "colab": {},
        "outputId": "70876d38-ab1c-462e-fa37-28d00229581a"
      },
      "source": [
        "print 'Hello' + string1 + string2"
      ],
      "execution_count": null,
      "outputs": [
        {
          "output_type": "stream",
          "text": [
            "HelloWorld!\n"
          ],
          "name": "stdout"
        }
      ]
    },
    {
      "cell_type": "markdown",
      "metadata": {
        "id": "XC8S5tweHCU_",
        "colab_type": "text"
      },
      "source": [
        "**%s** is used to refer to a variable which contains a string."
      ]
    },
    {
      "cell_type": "code",
      "metadata": {
        "id": "Pxzh6IZOHCVB",
        "colab_type": "code",
        "colab": {},
        "outputId": "7fb71004-6adf-4f94-971d-71cafc4f678c"
      },
      "source": [
        "print \"Hello %s\" % string1"
      ],
      "execution_count": null,
      "outputs": [
        {
          "output_type": "stream",
          "text": [
            "Hello World\n"
          ],
          "name": "stdout"
        }
      ]
    },
    {
      "cell_type": "markdown",
      "metadata": {
        "id": "R4ZvmaJtHCVG",
        "colab_type": "text"
      },
      "source": [
        "Similarly, when using other data types\n",
        "\n",
        "    - %s -> string\n",
        "    - %d -> Integer\n",
        "    - %f -> Float\n",
        "    - %o -> Octal\n",
        "    - %x -> Hexadecimal\n",
        "    - %e -> exponential\n",
        "    \n",
        "This can be used for conversions inside the print statement itself."
      ]
    },
    {
      "cell_type": "code",
      "metadata": {
        "id": "cZdl6-1iHCVH",
        "colab_type": "code",
        "colab": {},
        "outputId": "7101b5cc-4115-4e3b-db95-b6efcd97cbf6"
      },
      "source": [
        "print \"Actual Number = %d\" %18\n",
        "print \"Float of the number = %f\" %18\n",
        "print \"Octal equivalent of the number = %o\" %18\n",
        "print \"Hexadecimal equivalent of the number = %x\" %18\n",
        "print \"Exponential equivalent of the number = %e\" %18"
      ],
      "execution_count": null,
      "outputs": [
        {
          "output_type": "stream",
          "text": [
            "Actual Number = 18\n",
            "Float of the number = 18.000000\n",
            "Octal equivalent of the number = 22\n",
            "Hexadecimal equivalent of the number = 12\n",
            "Exponential equivalent of the number = 1.800000e+01\n"
          ],
          "name": "stdout"
        }
      ]
    },
    {
      "cell_type": "markdown",
      "metadata": {
        "id": "K4AXZTgkHCVL",
        "colab_type": "text"
      },
      "source": [
        "When referring to multiple variables parenthesis is used."
      ]
    },
    {
      "cell_type": "code",
      "metadata": {
        "id": "l6HBu5JfHCVM",
        "colab_type": "code",
        "colab": {},
        "outputId": "7b41de62-5d1e-45f6-a0fe-efe0d40674db"
      },
      "source": [
        "print \"Hello %s %s\" %(string1,string2)"
      ],
      "execution_count": null,
      "outputs": [
        {
          "output_type": "stream",
          "text": [
            "Hello World !\n"
          ],
          "name": "stdout"
        }
      ]
    },
    {
      "cell_type": "markdown",
      "metadata": {
        "id": "CoSgKwXqHCVQ",
        "colab_type": "text"
      },
      "source": [
        "##Other Examples"
      ]
    },
    {
      "cell_type": "markdown",
      "metadata": {
        "id": "rL00Ax6nHCVR",
        "colab_type": "text"
      },
      "source": [
        "The following are other different ways the print statement can be put to use."
      ]
    },
    {
      "cell_type": "code",
      "metadata": {
        "id": "G7lZWSqjHCVS",
        "colab_type": "code",
        "colab": {},
        "outputId": "2ab4151e-4ba5-43f1-e97b-ce964aa7c311"
      },
      "source": [
        "print \"I want %%d to be printed %s\" %'here'"
      ],
      "execution_count": null,
      "outputs": [
        {
          "output_type": "stream",
          "text": [
            "I want %d to be printed here\n"
          ],
          "name": "stdout"
        }
      ]
    },
    {
      "cell_type": "code",
      "metadata": {
        "id": "LYjXGe6aHCVW",
        "colab_type": "code",
        "colab": {},
        "outputId": "d0c5aa05-bae3-40ce-da96-ba40f561d5f7"
      },
      "source": [
        "print '_A'*10"
      ],
      "execution_count": null,
      "outputs": [
        {
          "output_type": "stream",
          "text": [
            "_A_A_A_A_A_A_A_A_A_A\n"
          ],
          "name": "stdout"
        }
      ]
    },
    {
      "cell_type": "code",
      "metadata": {
        "id": "KNk9kwyPHCVc",
        "colab_type": "code",
        "colab": {},
        "outputId": "122aef40-53e5-4dd2-f90d-632f8abb5b69"
      },
      "source": [
        "print \"Jan\\nFeb\\nMar\\nApr\\nMay\\nJun\\nJul\\nAug\""
      ],
      "execution_count": null,
      "outputs": [
        {
          "output_type": "stream",
          "text": [
            "Jan\n",
            "Feb\n",
            "Mar\n",
            "Apr\n",
            "May\n",
            "Jun\n",
            "Jul\n",
            "Aug\n"
          ],
          "name": "stdout"
        }
      ]
    },
    {
      "cell_type": "code",
      "metadata": {
        "id": "eFmi4wMpHCVi",
        "colab_type": "code",
        "colab": {},
        "outputId": "94d142e1-4fa3-442f-94f9-a6e9bdc902d0"
      },
      "source": [
        "print \"I want \\\\n to be printed.\""
      ],
      "execution_count": null,
      "outputs": [
        {
          "output_type": "stream",
          "text": [
            "I want \\n to be printed.\n"
          ],
          "name": "stdout"
        }
      ]
    },
    {
      "cell_type": "code",
      "metadata": {
        "id": "5CyJFYReHCVn",
        "colab_type": "code",
        "colab": {},
        "outputId": "c73a5762-670d-457d-a281-b0d6e4586f99"
      },
      "source": [
        "print \"\"\"\n",
        "Routine:\n",
        "\\t- Eat\n",
        "\\t- Sleep\\n\\t- Repeat\n",
        "\"\"\""
      ],
      "execution_count": null,
      "outputs": [
        {
          "output_type": "stream",
          "text": [
            "\n",
            "Routine:\n",
            "\t- Eat\n",
            "\t- Sleep\n",
            "\t- Repeat\n",
            "\n"
          ],
          "name": "stdout"
        }
      ]
    },
    {
      "cell_type": "markdown",
      "metadata": {
        "id": "LJVilXqkHCVs",
        "colab_type": "text"
      },
      "source": [
        "#PrecisionWidth and FieldWidth"
      ]
    },
    {
      "cell_type": "markdown",
      "metadata": {
        "id": "ktTjYGk8HCVs",
        "colab_type": "text"
      },
      "source": [
        "Fieldwidth is the width of the entire number and precision is the width towards the right. One can alter these widths based on the requirements.\n",
        "\n",
        "The default Precision Width is set to 6."
      ]
    },
    {
      "cell_type": "code",
      "metadata": {
        "id": "SCUCk1o2HCVt",
        "colab_type": "code",
        "colab": {},
        "outputId": "2380c53c-35f1-48bb-bef7-adcef29642ed"
      },
      "source": [
        "\"%f\" % 3.121312312312"
      ],
      "execution_count": null,
      "outputs": [
        {
          "output_type": "execute_result",
          "data": {
            "text/plain": [
              "'3.121312'"
            ]
          },
          "metadata": {
            "tags": []
          },
          "execution_count": 14
        }
      ]
    },
    {
      "cell_type": "markdown",
      "metadata": {
        "id": "18O1sevQHCVx",
        "colab_type": "text"
      },
      "source": [
        "Notice upto 6 decimal points are returned. To specify the number of decimal points, '%(fieldwidth).(precisionwidth)f' is used."
      ]
    },
    {
      "cell_type": "code",
      "metadata": {
        "id": "UUjWlSngHCVy",
        "colab_type": "code",
        "colab": {},
        "outputId": "cf7c2a30-be67-43b8-80a1-ef1b4d03479c"
      },
      "source": [
        "\"%.5f\" % 3.121312312312"
      ],
      "execution_count": null,
      "outputs": [
        {
          "output_type": "execute_result",
          "data": {
            "text/plain": [
              "'3.12131'"
            ]
          },
          "metadata": {
            "tags": []
          },
          "execution_count": 15
        }
      ]
    },
    {
      "cell_type": "markdown",
      "metadata": {
        "id": "qhyzFirAHCV3",
        "colab_type": "text"
      },
      "source": [
        "If the field width is set more than the necessary than the data right aligns itself to adjust to the specified values."
      ]
    },
    {
      "cell_type": "code",
      "metadata": {
        "id": "oYEtyMJZHCV4",
        "colab_type": "code",
        "colab": {},
        "outputId": "d156af35-cc86-4b8c-b982-edca2e4492b2"
      },
      "source": [
        "\"%9.5f\" % 3.121312312312"
      ],
      "execution_count": null,
      "outputs": [
        {
          "output_type": "execute_result",
          "data": {
            "text/plain": [
              "'  3.12131'"
            ]
          },
          "metadata": {
            "tags": []
          },
          "execution_count": 16
        }
      ]
    },
    {
      "cell_type": "markdown",
      "metadata": {
        "id": "rWmHODcVHCV-",
        "colab_type": "text"
      },
      "source": [
        "Zero padding is done by adding a 0 at the start of fieldwidth."
      ]
    },
    {
      "cell_type": "code",
      "metadata": {
        "id": "PN7jQbeeHCV_",
        "colab_type": "code",
        "colab": {},
        "outputId": "c40a8e3b-6f82-4e25-9c90-ed6a34e5ee34"
      },
      "source": [
        "\"%020.5f\" % 3.121312312312"
      ],
      "execution_count": null,
      "outputs": [
        {
          "output_type": "execute_result",
          "data": {
            "text/plain": [
              "'00000000000003.12131'"
            ]
          },
          "metadata": {
            "tags": []
          },
          "execution_count": 17
        }
      ]
    },
    {
      "cell_type": "markdown",
      "metadata": {
        "id": "cdcyIAOBHCWE",
        "colab_type": "text"
      },
      "source": [
        "For proper alignment, a space can be left blank in the field width so that when a negative number is used, proper alignment is maintained."
      ]
    },
    {
      "cell_type": "code",
      "metadata": {
        "id": "G9P7rYARHCWE",
        "colab_type": "code",
        "colab": {},
        "outputId": "9146f51b-ead3-43d0-c44c-5d0f6ecc4b01"
      },
      "source": [
        "print \"% 9f\" % 3.121312312312\n",
        "print \"% 9f\" % -3.121312312312"
      ],
      "execution_count": null,
      "outputs": [
        {
          "output_type": "stream",
          "text": [
            " 3.121312\n",
            "-3.121312\n"
          ],
          "name": "stdout"
        }
      ]
    },
    {
      "cell_type": "markdown",
      "metadata": {
        "id": "ZwdHSdPnHCWI",
        "colab_type": "text"
      },
      "source": [
        "'+' sign can be returned at the beginning of a positive number by adding a + sign at the beginning of the field width."
      ]
    },
    {
      "cell_type": "code",
      "metadata": {
        "id": "AQC4Ef2_HCWJ",
        "colab_type": "code",
        "colab": {},
        "outputId": "c4b0c957-e22b-427d-c7da-bab8831b15dc"
      },
      "source": [
        "print \"%+9f\" % 3.121312312312\n",
        "print \"% 9f\" % -3.121312312312"
      ],
      "execution_count": null,
      "outputs": [
        {
          "output_type": "stream",
          "text": [
            "+3.121312\n",
            "-3.121312\n"
          ],
          "name": "stdout"
        }
      ]
    },
    {
      "cell_type": "markdown",
      "metadata": {
        "id": "06i6O1xaHCWM",
        "colab_type": "text"
      },
      "source": [
        "As mentioned above, the data right aligns itself when the field width mentioned is larger than the actualy field width. But left alignment can be done by specifying a negative symbol in the field width."
      ]
    },
    {
      "cell_type": "code",
      "metadata": {
        "id": "M1h8NBxHHCWN",
        "colab_type": "code",
        "colab": {},
        "outputId": "ee62e598-b86d-49c2-9091-ff3356ea669e"
      },
      "source": [
        "\"%-9.3f\" % 3.121312312312"
      ],
      "execution_count": null,
      "outputs": [
        {
          "output_type": "execute_result",
          "data": {
            "text/plain": [
              "'3.121    '"
            ]
          },
          "metadata": {
            "tags": []
          },
          "execution_count": 20
        }
      ]
    }
  ]
}